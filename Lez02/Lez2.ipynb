{
 "cells": [
  {
   "cell_type": "markdown",
   "metadata": {},
   "source": [
    "### Funzione print"
   ]
  },
  {
   "cell_type": "code",
   "execution_count": null,
   "metadata": {},
   "outputs": [],
   "source": [
    "a = 5 #operatore di assegnazione\n",
    "b = 2\n",
    "print('a =',a)\n",
    "print('b =',b)\n",
    "print('a+b =',a+b)"
   ]
  },
  {
   "cell_type": "code",
   "execution_count": null,
   "metadata": {},
   "outputs": [],
   "source": [
    "# ci sono 33 parole riservate in python\n",
    "import keyword\n",
    "parole_riservate = keyword.kwlist\n",
    "print(\"Parole riservate= \",parole_riservate)\n",
    "print(\"numero di parole riservate= \",len(parole_riservate))"
   ]
  },
  {
   "cell_type": "code",
   "execution_count": null,
   "metadata": {},
   "outputs": [],
   "source": [
    "print(a,b,12)"
   ]
  },
  {
   "cell_type": "code",
   "execution_count": null,
   "metadata": {},
   "outputs": [],
   "source": [
    "#print ha anche il parametro 'sep' (separator) e 'end'. \n",
    "print(a,b,12,sep='?', end='#\\n')\n",
    "print(11,25, sep='.', end='\\n')\n",
    "print('Ciao','Belli', sep='-', end='\\n')"
   ]
  },
  {
   "cell_type": "markdown",
   "metadata": {},
   "source": [
    "### Input da tastiera"
   ]
  },
  {
   "cell_type": "code",
   "execution_count": null,
   "metadata": {},
   "outputs": [],
   "source": [
    "#esiste la funzione input(..) per passare delle stringhe(!!!) al programma in esecuzione, \n",
    "#ed assegnarle a delle variabili. \n",
    "#Esempio: \n",
    "base_del_triangolo = input('base del Triangolo:') \n",
    "#nella variabile base_del_triangolo verrà memorizzata una stringa."
   ]
  },
  {
   "cell_type": "code",
   "execution_count": null,
   "metadata": {},
   "outputs": [],
   "source": [
    "#Esercizio1\n",
    "#domanda \"come ti chiami?\" Mario  \n",
    "#domanda \"dove vivi?\" Milano\n",
    "#stampa : Mario vive a Milano.\n",
    "\n",
    "nome  = input(\"Come ti chiami?\") # Mario\n",
    "città = input('dove vivi?') # Milano\n",
    "print(nome, 'vive a', città)"
   ]
  },
  {
   "cell_type": "code",
   "execution_count": null,
   "metadata": {},
   "outputs": [],
   "source": [
    "#Esercizio2\n",
    "#input \"Base del rettangolo:\" 4  \n",
    "#input \"Altezza del rettangolo:\" 3\n",
    "#stampa : L'area del rettangolo è 12.\n",
    "\n",
    "base  = int(input('Base del rettangolo:')) \n",
    "altezza = int(input('Altezza del rettangolo')) \n",
    "print(\"L'area del rettangolo è\", base*altezza)"
   ]
  },
  {
   "cell_type": "code",
   "execution_count": null,
   "metadata": {},
   "outputs": [],
   "source": [
    "#con la funzione int(..) abbiamo convertito la stringa corrispondente alla base (e all'altezza)\n",
    "#del triangolo da tipo stringa a tipo intero! Questo è uno step necessario se vogliamo \n",
    "#effettuare operazioni algebriche tra le variabili. \n",
    "type(base) #la funzione type(..) ritorna il tipo della variabile. "
   ]
  },
  {
   "cell_type": "code",
   "execution_count": null,
   "metadata": {},
   "outputs": [],
   "source": [
    "#Esercizio 3\n",
    "#codice che prende in input un orario \"europeo\"(??) 15, 17, 19 e lo \n",
    "#trasforma in orario americano 3,5,7 (le 12 e le 24 verranno convertite entrambi a 0)\n",
    "orario_eu = int(input('orario europeo:'))\n",
    "orario_us = orario_eu%12                      \n",
    "print('orario americano:', orario_us)\n",
    "#abbiamo usato l'operatore % (modulo). \n",
    "# x%y ritorna il resto della divisione tra l'intero x e y. \n",
    "# x//y tirona il quoziente delle divisione tra interi.  "
   ]
  },
  {
   "cell_type": "code",
   "execution_count": null,
   "metadata": {},
   "outputs": [],
   "source": [
    "#Esercizio 4\n",
    "#codice che prende in input i minuti 65 e lo trasforma in 1h:5min\n",
    "minuti = int(input('minuti:'))\n",
    "ore = minuti//60\n",
    "minuti_resto = minuti - ore*60 \n",
    "print(ore,'h:',minuti_resto,'min',sep='')"
   ]
  },
  {
   "cell_type": "markdown",
   "metadata": {},
   "source": [
    "### String.format\n",
    "format è un metodo della classe stringa che permette di inserire delle stringhe al posto di \n",
    "alcuni \"placeholder\" indentificati tramite parentesi graffe {} (da tastiera altGr+Shift+\\[\\] )"
   ]
  },
  {
   "cell_type": "code",
   "execution_count": null,
   "metadata": {},
   "outputs": [],
   "source": [
    "s = '{} - {}'.format('ciao', 'belli')\n",
    "print(s)"
   ]
  },
  {
   "cell_type": "code",
   "execution_count": null,
   "metadata": {},
   "outputs": [],
   "source": [
    "#place order\n",
    "s = '{1} {0}'.format('ciao', 'belli')\n",
    "print(s)"
   ]
  },
  {
   "cell_type": "code",
   "execution_count": null,
   "metadata": {},
   "outputs": [],
   "source": [
    "s = '{1} {0}'.format('ciao', 'belli')\n",
    "print(s)"
   ]
  },
  {
   "cell_type": "code",
   "execution_count": null,
   "metadata": {},
   "outputs": [],
   "source": [
    "s = '{1}-{1}-{0}'.format('ciao', 'belli')\n",
    "print(s)"
   ]
  },
  {
   "cell_type": "code",
   "execution_count": null,
   "metadata": {},
   "outputs": [],
   "source": [
    "#assegnare delle chiavi\n",
    "nome = 'Mario'\n",
    "anni = 65\n",
    "s = '{name} ha {age} anni'.format(name=nome,age=anni)\n",
    "print(s)"
   ]
  },
  {
   "cell_type": "code",
   "execution_count": null,
   "metadata": {},
   "outputs": [],
   "source": [
    "#Esercizio4 (bis)\n",
    "#prende in input i minuti 65 e lo trasforma in 1h:5min\n",
    "minuti = int(input('minuti:'))\n",
    "ore = minuti//60\n",
    "minuti_resto = minuti - ore*60 \n",
    "orario_nuovo_formato='{}h:{}min'.format(ore,minuti)\n",
    "print(orario_nuovo_formato)"
   ]
  },
  {
   "cell_type": "markdown",
   "metadata": {},
   "source": [
    "### Funzioni"
   ]
  },
  {
   "cell_type": "raw",
   "metadata": {},
   "source": [
    "def nome_funzione(a,b): \n",
    "    return a+b"
   ]
  },
  {
   "cell_type": "code",
   "execution_count": null,
   "metadata": {},
   "outputs": [],
   "source": [
    "def perimetro_quadrato(lato): #lato è un parametro di input\n",
    "    perimetro = 4*lato        # scope della funzione\n",
    "    return perimetro"
   ]
  },
  {
   "cell_type": "code",
   "execution_count": null,
   "metadata": {},
   "outputs": [],
   "source": [
    "a = perimetro_quadrato(10)\n",
    "print(a)"
   ]
  },
  {
   "cell_type": "code",
   "execution_count": null,
   "metadata": {},
   "outputs": [],
   "source": [
    "def raddoppia(n):    # input\n",
    "    d=n*2\n",
    "    return d "
   ]
  },
  {
   "cell_type": "code",
   "execution_count": null,
   "metadata": {},
   "outputs": [],
   "source": [
    "def prodotto(n,m):\n",
    "    return n*m"
   ]
  },
  {
   "cell_type": "code",
   "execution_count": null,
   "metadata": {},
   "outputs": [],
   "source": [
    "prodotto(2,3)\n"
   ]
  },
  {
   "cell_type": "code",
   "execution_count": null,
   "metadata": {},
   "outputs": [],
   "source": [
    "prodotto(n=2,m=3)"
   ]
  },
  {
   "cell_type": "code",
   "execution_count": null,
   "metadata": {},
   "outputs": [],
   "source": [
    "def diviso(n,m):\n",
    "    return n/m"
   ]
  },
  {
   "cell_type": "code",
   "execution_count": null,
   "metadata": {},
   "outputs": [],
   "source": [
    "diviso(n=10,m=5)"
   ]
  },
  {
   "cell_type": "code",
   "execution_count": null,
   "metadata": {},
   "outputs": [],
   "source": [
    "diviso(m=10,n=5)"
   ]
  },
  {
   "cell_type": "code",
   "execution_count": null,
   "metadata": {},
   "outputs": [],
   "source": [
    "# le funzioni possono avere dei valori di default per alcuni parametri\n",
    "def potenza(n,m):\n",
    "    p=n**m\n",
    "    return p"
   ]
  },
  {
   "cell_type": "code",
   "execution_count": null,
   "metadata": {},
   "outputs": [],
   "source": [
    "potenza(100)"
   ]
  },
  {
   "cell_type": "markdown",
   "metadata": {},
   "source": [
    "### A cosa servono le funzioni?\n"
   ]
  },
  {
   "cell_type": "code",
   "execution_count": null,
   "metadata": {},
   "outputs": [],
   "source": [
    "#scrivere codice in maniera comprensibile e pulita\n",
    "#esempio\n",
    "partenza = '12:52'\n",
    "arrivo = '17:23'\n",
    "orario_partenza = partenza.split(':')\n",
    "orario_arrivo = arrivo.split(':')\n",
    "tot = int(orario_arrivo[1])+int(orario_arrivo[0])*60 - (int(orario_partenza[1])+int(orario_partenza[0])*60)\n",
    "print('{}:{}'.format(tot//60,tot%60))\n"
   ]
  },
  {
   "cell_type": "code",
   "execution_count": null,
   "metadata": {},
   "outputs": [],
   "source": [
    "#inoltre evitiamo la duplicazione di codice. \n",
    "def minuti_totali(orario_string):\n",
    "    orario = orario_string.split(':')\n",
    "    return int(orario[1])+int(orario[0])*60 \n",
    "def to_string(minuti):\n",
    "    return '{}:{}'.format(minuti//60,minuti%60)\n",
    "partenza = '12:52'\n",
    "arrivo = '17:23'\n",
    "tot=minuti_totali(arrivo) - minuti_totali(partenza)\n",
    "print(to_string(tot))"
   ]
  },
  {
   "cell_type": "code",
   "execution_count": null,
   "metadata": {},
   "outputs": [],
   "source": [
    "minuti_totali(arrivo)"
   ]
  },
  {
   "cell_type": "markdown",
   "metadata": {},
   "source": [
    "# scope di una funzione\n",
    "#le variabili vivono all'interno di uno scope (letteralmente: portata, campo, scopo) ben delimitato.\n",
    "#per esempio\n",
    "def potenza2(a):\n",
    "    c=a*a\n",
    "    return c\n",
    "#la variabile c non esiste al di fuori dello scope della funzione potenza2\n",
    "potenza2(2)\n",
    "print(c)"
   ]
  }
 ],
 "metadata": {
  "kernelspec": {
   "display_name": "Python 3",
   "language": "python",
   "name": "python3"
  },
  "language_info": {
   "codemirror_mode": {
    "name": "ipython",
    "version": 3
   },
   "file_extension": ".py",
   "mimetype": "text/x-python",
   "name": "python",
   "nbconvert_exporter": "python",
   "pygments_lexer": "ipython3",
   "version": "3.6.2"
  }
 },
 "nbformat": 4,
 "nbformat_minor": 2
}
