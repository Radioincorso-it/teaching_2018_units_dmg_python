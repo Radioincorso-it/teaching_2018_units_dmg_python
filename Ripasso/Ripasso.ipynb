{
 "cells": [
  {
   "cell_type": "markdown",
   "metadata": {},
   "source": [
    "##### Piccolo ripasso degli argomenti trattati nelle prime lezioni.\n",
    "Non è un ripasso esaustivo, ovvero per svolgere l'esame  dovete saper lavorare anche con strutture che non sono state richiamate espressamente in questo ripasso (per esempio dizionari, tuple, lambda expression, list comprehension, etc..). "
   ]
  },
  {
   "cell_type": "code",
   "execution_count": 3,
   "metadata": {},
   "outputs": [
    {
     "name": "stdout",
     "output_type": "stream",
     "text": [
      "il nome è Pippo ed il numero è 5\n",
      "il nome è Pippo ed il numero è 5\n"
     ]
    }
   ],
   "source": [
    "#recap1\n",
    "#definiamo una funzione che prende in input un <nome> e un numero <n> e \n",
    "#ritorna la stringa concatenata \"il nome è <nome> ed il numero è <n>\"\n",
    "#esempio: recap1(\"Pippo\",5) -> \"il nome è Pippo ed il numero è 5\"\n",
    "\n",
    "#usiamo la funzione format\n",
    "def recap1(nome,n):\n",
    "    return \"il nome è {} ed il numero è {}\".format(nome,n) #funzione format [da ricordare]\n",
    "\n",
    "#usiamo la concatenazione di stringhe\n",
    "\n",
    "def recap1_1(nome,n):\n",
    "    return \"il nome è \"+ nome + \" ed il numero è \"+str(n) #ricordarsi di convertire l'intero <n>\n",
    "                                                          # in una stringa, con la funzione str(n)\n",
    "print(recap1(\"Pippo\",5))\n",
    "print(recap1_1(\"Pippo\",5))"
   ]
  },
  {
   "cell_type": "code",
   "execution_count": 7,
   "metadata": {},
   "outputs": [
    {
     "name": "stdout",
     "output_type": "stream",
     "text": [
      "oppip\n",
      "oppip\n"
     ]
    }
   ],
   "source": [
    "#recap2\n",
    "#definiamo una funzione che prende in input una stringa <parola> \n",
    "#e ritorna la stringa in ordine inverso. \n",
    "#esempio: recap2(\"pippo\") -> \"oppip\"\n",
    "\n",
    "def recap2(parola):\n",
    "    s=''                          #stringa vuota\n",
    "    for i in range(len(parola)):  #ciclo for, range, e len\n",
    "        s=s+parola[-1-i]          # ricordarsi che s[-1] identifica l'ultimo elemento della stringa\n",
    "    return s\n",
    "\n",
    "#se mi ricordo lo slicing [ricordatevelo!] posso semplicemente scrivere: \n",
    "\n",
    "def recap2_1(parola):\n",
    "    return parola[::-1]\n",
    "\n",
    "print(recap2(\"pippo\"))\n",
    "print(recap2_1(\"pippo\"))"
   ]
  },
  {
   "cell_type": "code",
   "execution_count": 9,
   "metadata": {},
   "outputs": [
    {
     "name": "stdout",
     "output_type": "stream",
     "text": [
      "True\n",
      "False\n"
     ]
    }
   ],
   "source": [
    "#recap3\n",
    "#definiamo una funzione che prende in input una stringa <parola> (di lettere \n",
    "#minuscole) e controlla se tra le lettere in posizione dispari compare una vocale.\n",
    "#esempio: recap3(\"ciao\") -> true, recap3(\"pila\")->false\n",
    "\n",
    "def recap3(parola):\n",
    "    vocali = \"aeiou\"\n",
    "    parola_dispari = parola[::2]\n",
    "    for p in parola_dispari:\n",
    "        if p in vocali:\n",
    "            return True\n",
    "    return False\n",
    "print(recap3(\"ciao\"))\n",
    "print(recap3(\"pila\"))"
   ]
  },
  {
   "cell_type": "code",
   "execution_count": 4,
   "metadata": {},
   "outputs": [
    {
     "name": "stdout",
     "output_type": "stream",
     "text": [
      "2h:120min\n",
      "1h:75min\n"
     ]
    }
   ],
   "source": [
    "#recap4\n",
    "#definiamo una funzione che prende in input un numero <minuti> , rappresentante \n",
    "# i minuti totali e li converta nel formato orario ##h:##min \n",
    "#esempio: recap4(120)-> 2h:00min, recap4(75)->1h:15min\n",
    "\n",
    "def recap4(minuti):\n",
    "    ore = minuti//60                      #divisione intera\n",
    "    minuti_resto = minuti - ore*60        #resto della divisione, in alternativa \n",
    "    return \"{}h:{}min\".format(ore,minuti) # minuti_resto = minuti % ore    \n",
    "\n",
    "print(recap4(120))\n",
    "print(recap4(75))"
   ]
  },
  {
   "cell_type": "code",
   "execution_count": 11,
   "metadata": {},
   "outputs": [
    {
     "name": "stdout",
     "output_type": "stream",
     "text": [
      "inserisci i lati di un triangolo:1 2 3\n",
      "inserisci i lati di un triangolo:2 3 4 \n",
      "inserisci i lati di un triangolo:3 4 5\n",
      "il triangolo è rettangolo\n"
     ]
    }
   ],
   "source": [
    "#recap5\n",
    "#definiamo un codice che chiede in input all'utente di inserire la lunghezza dei lati\n",
    "# di un triangolo su un unica linea separati da uno spazio. Se il triangolo è rettangolo\n",
    "# si ferma, stampando a schermo \"il triangolo è rettangolo\", se non è rettangolo\n",
    "#chiede nuovamente  di inserire i lati del triangolo per un massimo di 5 volte. \n",
    "\n",
    "#esempio: \n",
    "#python: \"inserisci i lati di un triangolo:\"\n",
    "#umano: 1 2 3 \n",
    "#python: \"inserisci i lati di un triangolo:\"\n",
    "#umano: 3 4 7\n",
    "#python: \"inserisci i lati di un triangolo:\"\n",
    "#umano: 3 4 5\n",
    "#python: il triangolo è rettangolo\n",
    "\n",
    "#nota bene: diamo per assunto che l'umano inserisca 3 numeri in ordine crescente\"\n",
    "\n",
    "n=0\n",
    "while(n<5):\n",
    "    lati = input(\"inserisci i lati di un triangolo:\").split()\n",
    "    a = int(lati[0])\n",
    "    b = int(lati[1])\n",
    "    c = int(lati[2])\n",
    "    if(a**2+b**2==c**2):\n",
    "        print(\"il triangolo è rettangolo\")\n",
    "        break\n",
    "    n=n+1\n",
    "        "
   ]
  },
  {
   "cell_type": "code",
   "execution_count": 17,
   "metadata": {},
   "outputs": [
    {
     "data": {
      "text/plain": [
       "13"
      ]
     },
     "execution_count": 17,
     "metadata": {},
     "output_type": "execute_result"
    }
   ],
   "source": [
    "#recap6\n",
    "#definire una funzione che prende in input due numeri interi maggiori di 1\n",
    "#<a> e <b> e ritorna il più grande esponente intero c tale che \n",
    "#<a> elevato alla c è più piccolo di <b>\n",
    "# esempio: recap6(2,17) -> 4,  recap6(3,1594330) -> 13\n",
    "\n",
    "def recap6(a,b):\n",
    "    c=0\n",
    "    while(a**c<b):\n",
    "        c=c+1\n",
    "    return c-1\n",
    "\n",
    "recap6(3,1594330)"
   ]
  },
  {
   "cell_type": "code",
   "execution_count": null,
   "metadata": {},
   "outputs": [],
   "source": [
    "#recap7\n",
    "#Scrivere una funzione ( operazione(x,y,s) ) che prende come input due numeri (x,y) \n",
    "#e una stringa s che assume valore in ['somma','prodotto','diviso','potenza'] \n",
    "#ed effettua la suddetta operazione tra x e y. Se non viene passato nessuna stringa \n",
    "#allora effettua la somma di default. Se viene passata una stringa diversa da quelle precedenti \n",
    "#ritorna la stringa: \"non so cosa fare\"\n",
    "\n",
    "def recap7(x,y,s='somma'):\n",
    "    if s=='somma':\n",
    "        return x+y\n",
    "    if s=='prodotto':\n",
    "        return x*y\n",
    "    if s=='diviso':\n",
    "        return x/y\n",
    "    if s=='potenza':\n",
    "        return x**y\n",
    "    return 'non so cosa fare'"
   ]
  },
  {
   "cell_type": "code",
   "execution_count": 19,
   "metadata": {},
   "outputs": [
    {
     "data": {
      "text/plain": [
       "'zcdzbzrzcdz'"
      ]
     },
     "execution_count": 19,
     "metadata": {},
     "output_type": "execute_result"
    }
   ],
   "source": [
    "#recap8\n",
    "#definire una funzione che prende in input una stringa e sostituisce se presenti la lettera\n",
    "# r con da d (e viceversa)\n",
    "# b con la c (e viceversa)\n",
    "# tutte le vocali con la z\n",
    "# ritorna in output la stringa dopo le sostituizioni\n",
    "#esempio: recap8(\"abracadabra\") ->  zcdzbzrzcdz\n",
    "\n",
    "def sostituisco(lettera):\n",
    "    codice = {\"r\":\"d\",\"d\":\"r\", \"b\":\"c\",\"c\":\"b\"}\n",
    "    vocali = \"aeiou\"\n",
    "    if lettera in codice:\n",
    "        return codice[lettera]\n",
    "    if lettera in vocali:\n",
    "        return \"z\"\n",
    "    else:\n",
    "        return lettera\n",
    "\n",
    "def recap8(parola):\n",
    "    nuova_parola=\"\"\n",
    "    for lettera in parola:\n",
    "        nuova_parola=nuova_parola+sostituisco(lettera)\n",
    "    return nuova_parola\n",
    "\n",
    "recap8(\"abracadabra\")\n",
    "    "
   ]
  },
  {
   "cell_type": "code",
   "execution_count": null,
   "metadata": {},
   "outputs": [],
   "source": [
    "#recap9: definire la funzione di fibonacci ricorsiva\n",
    "#f(0)=1\n",
    "#f(1)=1\n",
    "#f(n)=f(n-1)+f(n-2)\n",
    "def fibonacci(n):\n",
    "    if n<=1:\n",
    "        return 1\n",
    "    return fibonacci(n-1)+fibonacci(n-2)"
   ]
  },
  {
   "cell_type": "code",
   "execution_count": 22,
   "metadata": {},
   "outputs": [
    {
     "name": "stdout",
     "output_type": "stream",
     "text": [
      "[2, 3, 1, 6, 7, 5]\n"
     ]
    }
   ],
   "source": [
    "#recap10\n",
    "#definire una funzione che prenda in input una lista di numeri a piacere e ritorni una dispozione\n",
    "#randomica degli stessi.\n",
    "#esempio recap10([1,5,3,2,6,7]) -> [1,7,2,3,5,6]\n",
    "#non vale usare la funzione shuffle (per chi la conoscesse)\n",
    "\n",
    "import random \n",
    "def recap10(lista):\n",
    "    nuova_lista=[]\n",
    "    lunghezza_lista=len(lista)\n",
    "    for i in range(lunghezza_lista):\n",
    "        nuova_lista.append(lista.pop(random.randint(0,lunghezza_lista-i-1)))\n",
    "    return nuova_lista\n",
    "\n",
    "print(recap10([1,5,3,2,6,7]))"
   ]
  }
 ],
 "metadata": {
  "kernelspec": {
   "display_name": "Python 3",
   "language": "python",
   "name": "python3"
  },
  "language_info": {
   "codemirror_mode": {
    "name": "ipython",
    "version": 3
   },
   "file_extension": ".py",
   "mimetype": "text/x-python",
   "name": "python",
   "nbconvert_exporter": "python",
   "pygments_lexer": "ipython3",
   "version": "3.6.2"
  }
 },
 "nbformat": 4,
 "nbformat_minor": 2
}
