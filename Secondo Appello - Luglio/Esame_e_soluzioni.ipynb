{
 "cells": [
  {
   "cell_type": "code",
   "execution_count": null,
   "metadata": {},
   "outputs": [],
   "source": [
    "# Esercizio 1, PESO: 1\n",
    "#Definire tutte le coppie di numeri (a,b) interi maggiori uguali a 1 tali che la loro somma è minore o uguale\n",
    "#a 63 ed il loro prodotto è multiplo di 3\n",
    "coppie = [(a,b) for a in range(1,64) for b in range(1,64) if a+b<=63 and (a*b)%3==0]"
   ]
  },
  {
   "cell_type": "code",
   "execution_count": 5,
   "metadata": {},
   "outputs": [
    {
     "name": "stdout",
     "output_type": "stream",
     "text": [
      "False\n"
     ]
    }
   ],
   "source": [
    "# Esercizio2, PESO: 1.5\n",
    "# definire una funzione che prende in input una lista di numeri interi <lista> e un numero intero <n> e ritorna \n",
    "# True se esiste una coppia di numeri nella lista che ha somma uguale a <n>, False altrimenti. Se la lista è \n",
    "# vuota la funzione ritorna False  per qualsiasi <n>\n",
    "#Esempi: \n",
    "#esercizio2([1,4,5,-2,2],0) -> True (perché -2+2 = 0)\n",
    "#esercizio2([1,4,5,-2,2],1) -> False (non esiste nessuna coppia di valori che sommati danno 1)\n",
    "#esercizio2([],3) -> False\n",
    "def esercizio2(lista,n):\n",
    "    for i in range(len(lista)):\n",
    "        for j in range(i,len(lista)):\n",
    "            if lista[i]+lista[j]==n:\n",
    "                return True\n",
    "    return False"
   ]
  },
  {
   "cell_type": "code",
   "execution_count": 8,
   "metadata": {},
   "outputs": [
    {
     "name": "stdout",
     "output_type": "stream",
     "text": [
      "il nuovo oggetto con nome lettopinocchio è poco costoso\n"
     ]
    }
   ],
   "source": [
    "#Esercizio3, PESO: 3\n",
    "#definire una funzione che prende in input due dizionari (che rappresentano due oggetti). \n",
    "#I due dizionari hanno entrambi una chiave 'nome' e una chiave 'costo'.\n",
    "#La prima chiave memorizza una parola (una stringa) e la seconda un numero positivo. \n",
    "#La funzione deve generare internamente un nuovo dizionario (un nuovo oggetto) dello stesso tipo (ovvero con le stesse chiavi), \n",
    "# nella chiave 'nome' è memorizzata la concatenazione dei nomi dei due dizionari, e nella chiave 'costo' il prodotto\n",
    "# dei due interi positivi. La funzione a questo punto ritorna come output una stringa del tipo: \n",
    "# 'il nuovo oggetto con nome <nome del nuovo oggetto> è molto costoso' se il costo è maggiore uguale a 100, \n",
    "# 'il nuovo oggetto con nome <nome del nuovo oggetto> è poco costoso' altrimenti. \n",
    "# Esempi:\n",
    "#Caso 1\n",
    "# oggetto1 = {'nome': 'letto', 'costo':20 }\n",
    "# oggetto2 = {'nome': 'pinocchio', 'costo':10 }\n",
    "#esercizio3(oggetto1,oggetto2) -> 'il nuovo oggetto con nome lettopinocchio è molto costoso' \n",
    "#Caso 2\n",
    "# oggetto1 = {'nome': 'busta', 'costo':1 }\n",
    "# oggetto2 = {'nome': 'panno', 'costo':10 }\n",
    "#esercizio3(oggetto1,oggetto2) -> 'il nuovo oggetto con nome bustapanno è poco costoso' \n",
    "def esercizio3(left,right):\n",
    "    new={'nome':left['nome']+right['nome'],'costo':left['costo']*right['costo']}\n",
    "    if(new['costo'])>=100:\n",
    "        return ('il nuovo oggetto con nome {} è molto costoso'.format(new['nome']))\n",
    "    else:\n",
    "        return ('il nuovo oggetto con nome {} è poco costoso'.format(new['nome']))\n",
    "\n",
    "oggetto1 = {'nome': 'letto', 'costo':20 }    \n",
    "oggetto2 = {'nome': 'pinocchio', 'costo':10 }\n",
    "print(esercizio3(oggetto1,oggetto2))\n",
    "        "
   ]
  },
  {
   "cell_type": "code",
   "execution_count": 11,
   "metadata": {},
   "outputs": [
    {
     "data": {
      "text/plain": [
       "17"
      ]
     },
     "execution_count": 11,
     "metadata": {},
     "output_type": "execute_result"
    }
   ],
   "source": [
    "#Esercizio4, PESO: 2\n",
    "#definire una funzione ricorsiva che implementi la seguente successione: \n",
    "# a_0 = 1\n",
    "# a_1 = 1\n",
    "# a_n = 3*a_{n-1} +2*a_{n-2}\n",
    "\n",
    "def esercizio4(n):\n",
    "    if n<=1:\n",
    "        return 1\n",
    "    return 3*esercizio4(n-1) +2*esercizio4(n-2)"
   ]
  },
  {
   "cell_type": "code",
   "execution_count": 20,
   "metadata": {},
   "outputs": [
    {
     "data": {
      "text/plain": [
       "[0, 0, 2, 2, 0, 2]"
      ]
     },
     "execution_count": 20,
     "metadata": {},
     "output_type": "execute_result"
    }
   ],
   "source": [
    "#Esercizio5, PESO: 2\n",
    "#definire una funzione che prende in input un numero intero positivo (maggiore di 1) <n> e ritorna una lista di n+1 numeri interi\n",
    "#[x_0,x_1,x_2,...,x_n] tali che x_i è un numero randomico compreso tra 0 ed i incluso.\n",
    "#esempi: \n",
    "#esercizio5(4) -> [0,0,2,1,3]\n",
    "#esercizio5(4) -> [0,1,2,0,4]\n",
    "#esercizio5(4) -> [0,1,1,3,2]\n",
    "#esercizio5(1) -> [0]\n",
    "\n",
    "import random\n",
    "def esercizio5(n):\n",
    "    return [random.randint(0,i) for i in range(n+1)]"
   ]
  },
  {
   "cell_type": "code",
   "execution_count": 23,
   "metadata": {},
   "outputs": [
    {
     "data": {
      "text/plain": [
       "[]"
      ]
     },
     "execution_count": 23,
     "metadata": {},
     "output_type": "execute_result"
    }
   ],
   "source": [
    "#Esercizio6, PESO: 2\n",
    "#definire una funzione che prende in input due liste di interi della medesima lunghezza, e ritorna come output una\n",
    "# una nuova lista che ha come elemento i-esimo il valore massimo tra i due elementi delle due liste della medesima posizione\n",
    "#i-esima. Se le liste sono entrambe vuote ritorno la lista vuota.\n",
    "#Esempi:\n",
    "#esercizio6([1,4,5,6],[4,1,2,6]) -> [4,4,5,6]\n",
    "#esercizio6([],[]) -> []\n",
    "\n",
    "massimo = lambda x,y : x if x>y else y \n",
    "def esercizio6(left,right):\n",
    "    return [massimo(left[i],right[i]) for i in range(len(left))]"
   ]
  },
  {
   "cell_type": "code",
   "execution_count": 34,
   "metadata": {},
   "outputs": [
    {
     "data": {
      "text/plain": [
       "'MAGGIORE'"
      ]
     },
     "execution_count": 34,
     "metadata": {},
     "output_type": "execute_result"
    }
   ],
   "source": [
    "#Esercizio7, PESO: 4\n",
    "#definire una funzione (esercizio6(left,right)) che prende in input due liste di interi <left> and <right> e ritorna\n",
    "#la stringa \"MINORE\" se left è minore di right, \"MAGGIORE\" se left è maggiore di right, \"INCOMPARABILI/UGUALI\" altrimenti. \n",
    "\n",
    "#Dove con minore intendo o che <left> ha meno elementi di <right> (qualunque sia il valore  degli elementi), \n",
    "#oppure se la lunghezza è la medesima tutti gli elementi di <left> devono essere minori strettamente di quelli di <right>\n",
    "#(il confronto è fatto rispettando la posizione, per esempio [1,2,3] è minore di [2,4,6] perche 1 è minore di 2, 2 di 4 e 3 di 6)\n",
    "\n",
    "#Con maggiore invece intendiamo che <left> o ha un numero maggiore di elementi di <right> (qualunque sia il loro valore),\n",
    "#oppure se lunghezza è la medesima tutti gli elementi di <left> devono essere maggiori strettamente di quelli di <right>\n",
    "#(il confronto è fatto rispettando la posizione).\n",
    "\n",
    "#In tutti gli altri casi la fuzione deve tornare come output \"INCOMPARABILI/UGUALI\". \n",
    "#Esempi: \n",
    "# esercizio7([1,2,3],[1,1,1,1]) -> \"MINORE\"\n",
    "# esercizio7([1,2,3,7],[100,100,100]) -> \"MAGGIORE\"\n",
    "# esercizio7([0,1,1,3],[1,2,3,4]) -> \"MINORE\"\n",
    "# esercizio7([1,2,3,4],[2,1,1,3]) -> \"INCOMPARABILI/UGUALI\"\n",
    "# esercizio7([],[]) -> \"INCOMPARABILI/UGUALI\"\n",
    "# esercizio7([1,2,1,4],[0,1,1,3]) -> \"INCOMPARABILI/UGUALI\"\n",
    "# esercizio7([1,2,3,4],[0,1,1,3]) -> \"MAGGIORE\"\n",
    "\n",
    "def esercizio7(left,right):\n",
    "    if(not left):\n",
    "        return \"INCOMPARABILI/UGUALI\"\n",
    "    if(len(left)<len(right)):\n",
    "        return \"MINORE\"\n",
    "    if(len(left)>len(right)):\n",
    "        return \"MAGGIORE\"\n",
    "    if(left[0]<right[0]):\n",
    "        for i in range(len(left)):\n",
    "            if(left[i]>right[i]):\n",
    "                return \"INCOMPARABILI/UGUALI\"\n",
    "        return \"MINORE\"\n",
    "    if(left[0]>right[0]):\n",
    "        for i in range(len(left)):\n",
    "            if(left[i]<right[i]):\n",
    "                return \"INCOMPARABILI/UGUALI\"\n",
    "        return \"MAGGIORE\"\n"
   ]
  },
  {
   "cell_type": "code",
   "execution_count": null,
   "metadata": {},
   "outputs": [],
   "source": []
  }
 ],
 "metadata": {
  "kernelspec": {
   "display_name": "Python 3",
   "language": "python",
   "name": "python3"
  },
  "language_info": {
   "codemirror_mode": {
    "name": "ipython",
    "version": 3
   },
   "file_extension": ".py",
   "mimetype": "text/x-python",
   "name": "python",
   "nbconvert_exporter": "python",
   "pygments_lexer": "ipython3",
   "version": "3.6.8"
  }
 },
 "nbformat": 4,
 "nbformat_minor": 2
}
