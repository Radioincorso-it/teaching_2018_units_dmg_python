{
 "cells": [
  {
   "cell_type": "code",
   "execution_count": null,
   "metadata": {},
   "outputs": [],
   "source": [
    "# Esercizio 6 (per casa): \n",
    "# Scrivere una funzione ( is_a_triangolo(a,b,c) ) che prende in input le lunghezze dei lati di una figura geometrica \n",
    "# e stampa \"è un triangolo\" (\"non è un triangolo\"). \n",
    "\n",
    "# Scrivere una funzione (che_triangolo(a,b,c)) che se la figura è un triangolo \n",
    "# stampa se è un triangolo equilatero, scaleno o isoscele, altrimenti stampa non è un triangolo."
   ]
  },
  {
   "cell_type": "code",
   "execution_count": 1,
   "metadata": {},
   "outputs": [],
   "source": [
    "def is_a_triangolo(a, b, c):\n",
    "    return 0.0"
   ]
  },
  {
   "cell_type": "code",
   "execution_count": 2,
   "metadata": {},
   "outputs": [
    {
     "data": {
      "text/plain": [
       "0.0"
      ]
     },
     "execution_count": 2,
     "metadata": {},
     "output_type": "execute_result"
    }
   ],
   "source": [
    "is_a_triangolo(1, 2, 4)"
   ]
  },
  {
   "cell_type": "code",
   "execution_count": 3,
   "metadata": {},
   "outputs": [],
   "source": [
    "def is_a_triangolo(a, b, c):\n",
    "    isTriangolo =  a+b>c \n",
    "    return isTriangolo"
   ]
  },
  {
   "cell_type": "code",
   "execution_count": 7,
   "metadata": {},
   "outputs": [
    {
     "data": {
      "text/plain": [
       "True"
      ]
     },
     "execution_count": 7,
     "metadata": {},
     "output_type": "execute_result"
    }
   ],
   "source": [
    "is_a_triangolo(1, 2, 2)"
   ]
  },
  {
   "cell_type": "code",
   "execution_count": null,
   "metadata": {},
   "outputs": [],
   "source": [
    "def is_a_triangolo(a, b, c):\n",
    "    isTriangolo =  a+b>c and a+c>b and b+c>a\n",
    "    return isTriangolo"
   ]
  },
  {
   "cell_type": "code",
   "execution_count": 5,
   "metadata": {},
   "outputs": [
    {
     "data": {
      "text/plain": [
       "True"
      ]
     },
     "execution_count": 5,
     "metadata": {},
     "output_type": "execute_result"
    }
   ],
   "source": [
    "is_a_triangolo(2, 4, 5)"
   ]
  },
  {
   "cell_type": "code",
   "execution_count": 8,
   "metadata": {},
   "outputs": [],
   "source": [
    "def is_a_triangolo(a, b, c):\n",
    "    isTriangolo =  a+b>c and a+c>b and b+c>a\n",
    "    if isTriangolo:\n",
    "        print('è un triangolo')\n",
    "    else:\n",
    "        print('non è un triangolo')"
   ]
  },
  {
   "cell_type": "code",
   "execution_count": 9,
   "metadata": {},
   "outputs": [
    {
     "name": "stdout",
     "output_type": "stream",
     "text": [
      "è un triangolo\n"
     ]
    }
   ],
   "source": [
    "is_a_triangolo(2, 4, 5)"
   ]
  },
  {
   "cell_type": "code",
   "execution_count": 10,
   "metadata": {},
   "outputs": [],
   "source": [
    "def che_triangolo(a, b, c):\n",
    "    isTriangolo =  a+b>c and a+c>b and b+c>a\n",
    "    if isTriangolo:\n",
    "        if a==b and b==c:\n",
    "            print('Equilatero')\n",
    "        else:\n",
    "            print('Altro')\n",
    "    else:\n",
    "        print('I tre interi non corrispondono a un triangolo valido')"
   ]
  },
  {
   "cell_type": "code",
   "execution_count": 13,
   "metadata": {},
   "outputs": [
    {
     "name": "stdout",
     "output_type": "stream",
     "text": [
      "Altro\n"
     ]
    }
   ],
   "source": [
    "che_triangolo(2, 3, 3)"
   ]
  },
  {
   "cell_type": "code",
   "execution_count": 14,
   "metadata": {},
   "outputs": [
    {
     "name": "stdout",
     "output_type": "stream",
     "text": [
      "Equilatero\n"
     ]
    }
   ],
   "source": [
    "che_triangolo(2, 2, 2)"
   ]
  },
  {
   "cell_type": "code",
   "execution_count": 15,
   "metadata": {},
   "outputs": [],
   "source": [
    "def che_triangolo(a, b, c):\n",
    "    isTriangolo =  a+b>c and a+c>b and b+c>a\n",
    "    if isTriangolo:\n",
    "        if a==b and b==c:\n",
    "            print('Equilatero')\n",
    "        elif a==b or a==c or b==c:\n",
    "            print('Isoscele')\n",
    "        else:\n",
    "            print('Scaleno')\n",
    "    else:\n",
    "        print('I tre interi non corrispondono a un triangolo valido')"
   ]
  },
  {
   "cell_type": "code",
   "execution_count": 18,
   "metadata": {},
   "outputs": [
    {
     "name": "stdout",
     "output_type": "stream",
     "text": [
      "Scaleno\n"
     ]
    }
   ],
   "source": [
    "che_triangolo(3, 2, 4)"
   ]
  },
  {
   "cell_type": "code",
   "execution_count": 19,
   "metadata": {},
   "outputs": [],
   "source": [
    "def cheTriangoloInput():\n",
    "    a=input(\"inserisci un intero positivo per il lato a: \")\n",
    "    b=input(\"inserisci un intero positivo per il lato b: \")\n",
    "    c=input(\"inserisci un intero positivo per il lato c: \")\n",
    "    return 0.0"
   ]
  },
  {
   "cell_type": "code",
   "execution_count": 20,
   "metadata": {},
   "outputs": [
    {
     "data": {
      "text/plain": [
       "0.0"
      ]
     },
     "execution_count": 20,
     "metadata": {},
     "output_type": "execute_result"
    }
   ],
   "source": [
    "cheTriangoloInput()"
   ]
  },
  {
   "cell_type": "code",
   "execution_count": 21,
   "metadata": {},
   "outputs": [],
   "source": [
    "def cheTriangoloInput():\n",
    "    a=input(\"inserisci un intero positivo per il lato a: \")\n",
    "    b=input(\"inserisci un intero positivo per il lato b: \")\n",
    "    c=input(\"inserisci un intero positivo per il lato c: \")\n",
    "    dati_corretti=a.isdecimal() and b.isdecimal() and c.isdecimal()\n",
    "    return dati_corretti"
   ]
  },
  {
   "cell_type": "code",
   "execution_count": 23,
   "metadata": {},
   "outputs": [
    {
     "data": {
      "text/plain": [
       "False"
      ]
     },
     "execution_count": 23,
     "metadata": {},
     "output_type": "execute_result"
    }
   ],
   "source": [
    "cheTriangoloInput()"
   ]
  },
  {
   "cell_type": "code",
   "execution_count": 24,
   "metadata": {},
   "outputs": [],
   "source": [
    "def cheTriangoloInput():\n",
    "    a=input(\"inserisci un intero positivo per il lato a: \")\n",
    "    b=input(\"inserisci un intero positivo per il lato b: \")\n",
    "    c=input(\"inserisci un intero positivo per il lato c: \")\n",
    "    dati_corretti=a.isdecimal() and b.isdecimal() and c.isdecimal()\n",
    "    if not dati_corretti:\n",
    "        print(\"I dati inseriti contengono un errore\")\n",
    "        print(a,b,c)\n",
    "    else:\n",
    "        a=int(a)\n",
    "        b=int(b)\n",
    "        c=int(c)\n",
    "        che_triangolo(a, b, c)"
   ]
  },
  {
   "cell_type": "code",
   "execution_count": 25,
   "metadata": {},
   "outputs": [
    {
     "name": "stdout",
     "output_type": "stream",
     "text": [
      "Scaleno\n"
     ]
    }
   ],
   "source": [
    "cheTriangoloInput()"
   ]
  },
  {
   "cell_type": "code",
   "execution_count": null,
   "metadata": {},
   "outputs": [],
   "source": [
    "exec(open('Esempi/Sol_Ex_triangolo.py', encoding=\"utf-8\").read())"
   ]
  },
  {
   "cell_type": "code",
   "execution_count": null,
   "metadata": {},
   "outputs": [],
   "source": []
  }
 ],
 "metadata": {
  "kernelspec": {
   "display_name": "Python 3",
   "language": "python",
   "name": "python3"
  },
  "language_info": {
   "codemirror_mode": {
    "name": "ipython",
    "version": 3
   },
   "file_extension": ".py",
   "mimetype": "text/x-python",
   "name": "python",
   "nbconvert_exporter": "python",
   "pygments_lexer": "ipython3",
   "version": "3.6.2"
  }
 },
 "nbformat": 4,
 "nbformat_minor": 2
}
