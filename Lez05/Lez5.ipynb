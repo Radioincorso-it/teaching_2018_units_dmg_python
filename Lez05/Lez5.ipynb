{
 "cells": [
  {
   "cell_type": "markdown",
   "metadata": {},
   "source": [
    "### Ricapitolazione Lez 3 (teoria)\n",
    "- definizione di funzione\n",
    "- espressioni booleane\n",
    "- if elif else"
   ]
  },
  {
   "cell_type": "markdown",
   "metadata": {},
   "source": [
    "#### Confronto fra reali\n",
    "il numero di bit dedicato ai reali è finito, c'è un approssizmazione\n",
    "e spesso == non va bene"
   ]
  },
  {
   "cell_type": "code",
   "execution_count": null,
   "metadata": {
    "scrolled": true
   },
   "outputs": [],
   "source": [
    "from math import *\n",
    "sqrt(2)**2==2"
   ]
  },
  {
   "cell_type": "code",
   "execution_count": null,
   "metadata": {},
   "outputs": [],
   "source": [
    "sqrt(2)"
   ]
  },
  {
   "cell_type": "code",
   "execution_count": null,
   "metadata": {},
   "outputs": [],
   "source": [
    "sqrt(2)**2"
   ]
  },
  {
   "cell_type": "code",
   "execution_count": null,
   "metadata": {},
   "outputs": [],
   "source": [
    "epsilon = 1e-15"
   ]
  },
  {
   "cell_type": "code",
   "execution_count": null,
   "metadata": {},
   "outputs": [],
   "source": [
    "abs(sqrt(2)**2-2) < epsilon"
   ]
  },
  {
   "cell_type": "code",
   "execution_count": null,
   "metadata": {},
   "outputs": [],
   "source": [
    "import sys\n",
    "sys.float_info"
   ]
  },
  {
   "cell_type": "code",
   "execution_count": null,
   "metadata": {},
   "outputs": [],
   "source": [
    "1.8e+308"
   ]
  },
  {
   "cell_type": "markdown",
   "metadata": {},
   "source": [
    "## Iterazioni\n",
    "Ripetizione di istruzioni. Non abbiamo più un programma lineare. Due costrutti iterativi il **for** (numero di iterazioni noto a priori) ed il **while** (numero di iterazioni non noto a priori). Posso simulare uno con l'altro ma creati per usare il più addatto a seconda di quello che devo fare. \n",
    "\n"
   ]
  },
  {
   "cell_type": "markdown",
   "metadata": {},
   "source": [
    "### Riassegnazione"
   ]
  },
  {
   "cell_type": "code",
   "execution_count": null,
   "metadata": {},
   "outputs": [],
   "source": [
    "x = 5"
   ]
  },
  {
   "cell_type": "code",
   "execution_count": null,
   "metadata": {},
   "outputs": [],
   "source": [
    "x = 7"
   ]
  },
  {
   "cell_type": "markdown",
   "metadata": {},
   "source": [
    "### Aggiornamento"
   ]
  },
  {
   "cell_type": "code",
   "execution_count": null,
   "metadata": {},
   "outputs": [],
   "source": [
    "x = 0"
   ]
  },
  {
   "cell_type": "code",
   "execution_count": null,
   "metadata": {},
   "outputs": [],
   "source": [
    "x = x + 1"
   ]
  },
  {
   "cell_type": "markdown",
   "metadata": {},
   "source": [
    "### While\n",
    "**while** condizione_di_controllo:                  \n",
    "\n",
    "    istruzioni eseguite"
   ]
  },
  {
   "cell_type": "code",
   "execution_count": null,
   "metadata": {},
   "outputs": [],
   "source": [
    "x=11                                       \n",
    "while x !=10:                              # condizione iniziale (di controllo)\n",
    "    x=x+1               # istruzione che modifica la condizione del while\n",
    "    print(x)"
   ]
  },
  {
   "cell_type": "code",
   "execution_count": null,
   "metadata": {},
   "outputs": [],
   "source": [
    "import random\n",
    "x=0                                       \n",
    "while x !=2:                              # condizione iniziale (di controllo)\n",
    "    x=random.randint(1,10)                # istruzione che modifica la condizione del while\n",
    "    print(x,end=\"\")"
   ]
  },
  {
   "cell_type": "markdown",
   "metadata": {},
   "source": [
    "L'ordine delle istruzioni è importante!!!"
   ]
  },
  {
   "cell_type": "code",
   "execution_count": null,
   "metadata": {},
   "outputs": [],
   "source": [
    "import random\n",
    "x=0\n",
    "while x !=2:\n",
    "    print(x,end=\"\")          #  cambiando l'ordine non mi stampa più l'ultimo numero\n",
    "    x=random.randint(1,10)   # \n",
    "    "
   ]
  },
  {
   "cell_type": "raw",
   "metadata": {},
   "source": [
    "Per contare le iterazioni"
   ]
  },
  {
   "cell_type": "code",
   "execution_count": null,
   "metadata": {},
   "outputs": [],
   "source": [
    "import random\n",
    "x=0 \n",
    "i=0\n",
    "while x !=2:\n",
    "    x=random.randint(1,4)  \n",
    "    print(x,' ', end=\"\") \n",
    "    i=i+1\n",
    "print (\"\\n\")\n",
    "print ('i =',i)"
   ]
  },
  {
   "cell_type": "markdown",
   "metadata": {},
   "source": [
    "Attenzione ai cicli infiniti. Vedi esempio."
   ]
  },
  {
   "cell_type": "markdown",
   "metadata": {},
   "source": [
    "Attenzione all'and"
   ]
  },
  {
   "cell_type": "code",
   "execution_count": null,
   "metadata": {},
   "outputs": [],
   "source": [
    "s=''\n",
    "False and s[0]   "
   ]
  },
  {
   "cell_type": "markdown",
   "metadata": {},
   "source": [
    "Controlla solo la prima e da falso ma s[0] non potrebbe essere controllata, infatti se le invertiamo..."
   ]
  },
  {
   "cell_type": "code",
   "execution_count": null,
   "metadata": {},
   "outputs": [],
   "source": [
    "s=''\n",
    "s[0] and False"
   ]
  },
  {
   "cell_type": "markdown",
   "metadata": {},
   "source": [
    "Possiamo terminare il while con un input dell'utente"
   ]
  },
  {
   "cell_type": "code",
   "execution_count": null,
   "metadata": {},
   "outputs": [],
   "source": [
    "somma = 0\n",
    "ninput = int(input('Inserisci un numero (0 per terminare): '))\n",
    "while ninput != 0:\n",
    "    somma = somma + ninput\n",
    "    print('somma:', somma)\n",
    "    ninput = int(input('Inserisci un numero (0 per terminare): '))\n",
    "# programma che fa la somma di un tot di numeri inseriti dall'utente"
   ]
  },
  {
   "cell_type": "code",
   "execution_count": null,
   "metadata": {},
   "outputs": [],
   "source": [
    "somma"
   ]
  },
  {
   "cell_type": "code",
   "execution_count": null,
   "metadata": {},
   "outputs": [],
   "source": [
    "s=0        \n",
    "s=s+4 #zero è l'elemento neutro per l'addizione\n",
    "s=s+5\n",
    "s=s+8"
   ]
  },
  {
   "cell_type": "markdown",
   "metadata": {},
   "source": [
    "Stare attenti a fare condizioni robuste e controllare che ci sia dentro al ciclo l'istruzione che rende prima o poi falsa la condizione."
   ]
  },
  {
   "cell_type": "markdown",
   "metadata": {},
   "source": [
    "OSSERVAZIONE: i booleani non si valutano."
   ]
  },
  {
   "cell_type": "code",
   "execution_count": null,
   "metadata": {},
   "outputs": [],
   "source": [
    "x = True"
   ]
  },
  {
   "cell_type": "code",
   "execution_count": null,
   "metadata": {},
   "outputs": [],
   "source": [
    "if x:  # la variabile f è già booleana di per se stessa, non c'è bisogno di confrontarla\n",
    "    print(x)"
   ]
  },
  {
   "cell_type": "markdown",
   "metadata": {},
   "source": [
    "##### NON scrivere:  if x == True"
   ]
  },
  {
   "cell_type": "code",
   "execution_count": null,
   "metadata": {
    "scrolled": true
   },
   "outputs": [],
   "source": [
    "somma = 0\n",
    "nnumeri = 0     # conta le volte che viene eseguito il ciclo\n",
    "ninput = int(input('Inserisci un numero (0 per terminare): '))\n",
    "while ninput != 0:\n",
    "    somma = somma + ninput\n",
    "    nnumeri = nnumeri + 1\n",
    "    print('somma:', somma)\n",
    "    ninput = int(input('Inserisci un numero (0 per terminare): '))\n",
    "print('somma = ', somma)\n",
    "print('hai sommato ', nnumeri, 'numeri')\n",
    "\n",
    "# programma che fa la somma di nnumeri inseriti dall'utente\n",
    "# qui contiamo anche quanti numeri sono stati inseriti"
   ]
  },
  {
   "cell_type": "markdown",
   "metadata": {},
   "source": [
    "Posso attribuire alla variabile di elaborazione un valore fin dall'inizio consistente con la situazione. Si può fare solo se sono sicuro che il primo ingresso è valido"
   ]
  },
  {
   "cell_type": "code",
   "execution_count": null,
   "metadata": {},
   "outputs": [],
   "source": [
    "ninput = int(input('Inserisci un numero (0 per terminare): '))\n",
    "somma = ninput\n",
    "while ninput != 0:\n",
    "    print('somma:', somma)\n",
    "    ninput = int(input('Inserisci un numero (0 per terminare): '))\n",
    "    somma = somma + ninput"
   ]
  },
  {
   "cell_type": "markdown",
   "metadata": {},
   "source": [
    "OSS: abbiamo invertito l'ordine di print e somma perché la prima somma viene già fatta fuori!!!\n",
    "Ragionare sulla differenza!"
   ]
  },
  {
   "cell_type": "code",
   "execution_count": null,
   "metadata": {},
   "outputs": [],
   "source": [
    "x = False\n",
    "while not x: \n",
    "    print('ciao')\n",
    "    x = input('Finisco? (sì/no)').lower()=='sì'    \n",
    "# un ciclo che continua finché l'utente non inserisci la parola si, cioè finché\n",
    "# la variabile finito non diventa vera"
   ]
  },
  {
   "cell_type": "code",
   "execution_count": null,
   "metadata": {},
   "outputs": [],
   "source": [
    "finito = False\n",
    "while not finito:    ### vedete come è chiaro il significato?\n",
    "    print('ciao')\n",
    "    finito =input('Finisco?  (sì/no)').lower()=='sì'"
   ]
  },
  {
   "cell_type": "markdown",
   "metadata": {},
   "source": [
    "#### Scansione di una stringa"
   ]
  },
  {
   "cell_type": "code",
   "execution_count": null,
   "metadata": {},
   "outputs": [],
   "source": [
    "stringa = 'disegno'"
   ]
  },
  {
   "cell_type": "code",
   "execution_count": null,
   "metadata": {},
   "outputs": [],
   "source": [
    "i=0\n",
    "while i < len(stringa):\n",
    "    print(stringa[i])\n",
    "    i=i+1"
   ]
  },
  {
   "cell_type": "markdown",
   "metadata": {},
   "source": [
    "## For\n",
    "**for** i **in** sequenza_di_elementi:\n",
    "    \n",
    "    istruzioni eseguite"
   ]
  },
  {
   "cell_type": "markdown",
   "metadata": {},
   "source": [
    "### in\n",
    "La parola in è un operatore che confronta due stringhe e restituisce True se la prima è una sottostringa della seconda."
   ]
  },
  {
   "cell_type": "code",
   "execution_count": null,
   "metadata": {},
   "outputs": [],
   "source": [
    "'4' in '+748'"
   ]
  },
  {
   "cell_type": "code",
   "execution_count": null,
   "metadata": {},
   "outputs": [],
   "source": [
    "s = '+748'"
   ]
  },
  {
   "cell_type": "code",
   "execution_count": null,
   "metadata": {},
   "outputs": [],
   "source": [
    "s[0] == '+' or s[0] == '-' "
   ]
  },
  {
   "cell_type": "code",
   "execution_count": null,
   "metadata": {},
   "outputs": [],
   "source": [
    "s[0] in '+-'"
   ]
  },
  {
   "cell_type": "code",
   "execution_count": null,
   "metadata": {},
   "outputs": [],
   "source": [
    "for i in 'disegno' :\n",
    "    print(i)"
   ]
  },
  {
   "cell_type": "code",
   "execution_count": null,
   "metadata": {},
   "outputs": [],
   "source": [
    "for i in [1,45,78] :\n",
    "    print(i)"
   ]
  },
  {
   "cell_type": "markdown",
   "metadata": {},
   "source": [
    "Posso scrivere qualsiasi tipo di elenco di oggetti, sequenza di elementi (lista, stringa,file, oggetti più complessi); questo in Java è impossibile!!!!"
   ]
  },
  {
   "cell_type": "code",
   "execution_count": null,
   "metadata": {},
   "outputs": [],
   "source": [
    "for i in [1,'ciao',4/5] :\n",
    "    print(i)"
   ]
  },
  {
   "cell_type": "markdown",
   "metadata": {},
   "source": [
    "Non è pulito, non è un linguaggio tipato ma è comodo da morire"
   ]
  },
  {
   "cell_type": "code",
   "execution_count": null,
   "metadata": {},
   "outputs": [],
   "source": [
    "# cerco il carattere più \"grande\" dell'alfabeto in una stringa\n",
    "s ='ciao'\n",
    "\n"
   ]
  },
  {
   "cell_type": "code",
   "execution_count": null,
   "metadata": {},
   "outputs": [],
   "source": [
    "s ='ciao'\n",
    "cmax=s[0]  \n",
    "for c in s[1:] :\n",
    "    if c >= cmax:\n",
    "        cmax=c\n",
    "print(cmax)\n",
    "\n",
    "# cerco il carattere più \"grande\" dell'alfabeto in una stringa\n",
    "# itero sui caratteri (gli elementi) della stringa\n"
   ]
  },
  {
   "cell_type": "code",
   "execution_count": null,
   "metadata": {},
   "outputs": [],
   "source": [
    "# cerco la posizione del carattere più \"grande\" dell'alfabeto in una stringa\n",
    "# itero sulla posizione (sugli indici) della stringa\n",
    "s ='ciao'\n",
    "imax=0\n",
    "for i in [1,2,3] :\n",
    "    if s[i]>=s[imax]:\n",
    "        imax=i\n",
    "print(imax)"
   ]
  },
  {
   "cell_type": "code",
   "execution_count": null,
   "metadata": {},
   "outputs": [],
   "source": [
    "for x in range(4):\n",
    "    print(x)"
   ]
  },
  {
   "cell_type": "code",
   "execution_count": null,
   "metadata": {},
   "outputs": [],
   "source": [
    "type(range(4))"
   ]
  },
  {
   "cell_type": "code",
   "execution_count": null,
   "metadata": {},
   "outputs": [],
   "source": [
    "list(range(4))"
   ]
  },
  {
   "cell_type": "code",
   "execution_count": null,
   "metadata": {},
   "outputs": [],
   "source": [
    "list(range(3,5))"
   ]
  },
  {
   "cell_type": "code",
   "execution_count": null,
   "metadata": {},
   "outputs": [],
   "source": [
    "s ='ciaoo'\n",
    "for i in range(len(s)) :\n",
    "    print(s[i])"
   ]
  },
  {
   "cell_type": "code",
   "execution_count": null,
   "metadata": {},
   "outputs": [],
   "source": [
    "# Ex conto alla rovescia con il for\n",
    "for i in range(10):\n",
    "    print(10-i)"
   ]
  },
  {
   "cell_type": "markdown",
   "metadata": {},
   "source": [
    "## Ricorsione\n",
    "Abbiamo visto che è del tutto normale che una funzione ne chiami un’altra, ma è anche consentito ad una funzione di chiamare se stessa."
   ]
  },
  {
   "cell_type": "markdown",
   "metadata": {},
   "source": [
    "**def** Ricorsione(): \n",
    "      \n",
    "      Ricorsione()"
   ]
  },
  {
   "cell_type": "code",
   "execution_count": null,
   "metadata": {},
   "outputs": [],
   "source": [
    "def contoallarovesciaRic(n):\n",
    "    if n <= 0:\n",
    "        print('Via!')\n",
    "    else:\n",
    "        print(n)\n",
    "        contoallarovesciaRic(n-1)"
   ]
  },
  {
   "cell_type": "code",
   "execution_count": null,
   "metadata": {},
   "outputs": [],
   "source": [
    "contoallarovesciaRic(10)"
   ]
  },
  {
   "cell_type": "code",
   "execution_count": null,
   "metadata": {},
   "outputs": [],
   "source": [
    "def contoallarovesciaWhile(n):\n",
    "    while n > 0:\n",
    "        print(n)\n",
    "        n = n-1\n",
    "    print('Via!')"
   ]
  },
  {
   "cell_type": "code",
   "execution_count": null,
   "metadata": {},
   "outputs": [],
   "source": [
    "contoallarovesciaWhile(4)"
   ]
  },
  {
   "cell_type": "code",
   "execution_count": null,
   "metadata": {},
   "outputs": [],
   "source": [
    "def contoallarovesciaFor(n):\n",
    "    for i in range(n):\n",
    "        print(n - i)\n",
    "    print('Via!')"
   ]
  },
  {
   "cell_type": "code",
   "execution_count": null,
   "metadata": {},
   "outputs": [],
   "source": [
    "contoallarovesciaFor(4)"
   ]
  },
  {
   "cell_type": "code",
   "execution_count": null,
   "metadata": {},
   "outputs": [],
   "source": [
    "# Ex fibonacci\n",
    "# F(1)=1, \n",
    "# F(2)=1, \n",
    "# F(n)=F(n-1)+F(n-2)"
   ]
  },
  {
   "cell_type": "code",
   "execution_count": null,
   "metadata": {},
   "outputs": [],
   "source": [
    "#h = int(input(\"inserisci l'altezza del triangolo: \"))\n",
    "# stampa un triangolo rettangolo\n",
    "h = 5\n",
    "for i in range(h):\n",
    "        print('-'*(i+1),end='')\n",
    "        print(' '*(h-i-1))"
   ]
  },
  {
   "cell_type": "code",
   "execution_count": null,
   "metadata": {},
   "outputs": [],
   "source": [
    "# stampa un quadrato\n",
    "\n",
    "#l = int(input('inserisci il lato del quadrato: '))\n",
    "l = 5\n",
    "for i in range(l):\n",
    "    if i==0 or i==l-1:\n",
    "        print('* '*l)\n",
    "    else:\n",
    "        print('* '+'  '*(l-2)+'*')"
   ]
  },
  {
   "cell_type": "code",
   "execution_count": null,
   "metadata": {},
   "outputs": [],
   "source": [
    "# stampa uno snake\n",
    "l = int(input('altezza cammino: '))\n",
    "for i in range(l):\n",
    "        print('-'*i+'**'+'-'*(l+1-2-i))"
   ]
  },
  {
   "cell_type": "raw",
   "metadata": {},
   "source": [
    "Se avete voglia di divertirvi XD\n",
    "\n",
    "Esercizio: fate un programma che costruisce un albero di asterischi prendendo in input l'altezza dell'albero(triangolo), l'altezza del tronco e la larghezza del tronco. \n",
    "Hint: fate due cicli diversi per il tronco ed il triangolo.\n",
    "      \n",
    "Albero facile: senza spazi, base triangolo e tronco dispari, numero * in ogni riga dispari\n",
    "\n",
    "     *\n",
    "    ***\n",
    "   *****\n",
    "  *******\n",
    " *********\n",
    "    ***\n",
    "    ***\n",
    "    ***\n",
    "    \n",
    "\n",
    "\n",
    "Opzione2: c'è uno spazio tra ogni asterisco\n",
    "    *\n",
    "   * *\n",
    "  * * * \n",
    " * * * *\n",
    "* * * * *\n",
    "   * *\n",
    "   * *\n",
    "   * *"
   ]
  },
  {
   "cell_type": "raw",
   "metadata": {},
   "source": [
    "Esercizio: scrivere un programma che converte un numero in una base da 2 a 10 ad un numero in base 10"
   ]
  },
  {
   "cell_type": "raw",
   "metadata": {},
   "source": [
    "Se voglio cercare se in una parola c'è un certo carattere che ciclo uso?"
   ]
  }
 ],
 "metadata": {
  "kernelspec": {
   "display_name": "Python 3",
   "language": "python",
   "name": "python3"
  },
  "language_info": {
   "codemirror_mode": {
    "name": "ipython",
    "version": 3
   },
   "file_extension": ".py",
   "mimetype": "text/x-python",
   "name": "python",
   "nbconvert_exporter": "python",
   "pygments_lexer": "ipython3",
   "version": "3.6.2"
  }
 },
 "nbformat": 4,
 "nbformat_minor": 2
}
