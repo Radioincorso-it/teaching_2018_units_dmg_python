{
 "cells": [
  {
   "cell_type": "markdown",
   "metadata": {},
   "source": [
    "### Comunicazioni\n",
    "* chi non ha frequentato almeno 9 lezioni (65% delle lezioni), il giorno della correzione del compito dovrà integrare l'esame con un orale di 10 minuti. \n",
    "* procedure standard per esami universitari (portate il documento, no cellulari, etc.)"
   ]
  },
  {
   "cell_type": "code",
   "execution_count": null,
   "metadata": {},
   "outputs": [],
   "source": [
    "#esercizio 1 (lambda expression)\n",
    "#1 - definiamo una lambda expression che prende in input un numero x e ritorna il quadrato. \n",
    "#2 - definiamo una lambda expressione che prende in input due numeri x, y e ritorna la somma. \n",
    "#3 - definiamo una lambda expressione che prende in input una funzione <f> \n",
    "#(che accetta numeri interi) e ritonra la funzione <g> conrrispondente a f(n)*f(n+1)"
   ]
  },
  {
   "cell_type": "code",
   "execution_count": null,
   "metadata": {},
   "outputs": [],
   "source": [
    "#esercizio 2 (list comprhension)\n",
    "#usare la funzione al punto 2 dell'esercizio precedente per definire tutte le tuple (a,b,c)\n",
    "#di numeri interi positivi tali che a+b=c e c<204"
   ]
  },
  {
   "cell_type": "code",
   "execution_count": null,
   "metadata": {},
   "outputs": [],
   "source": [
    "#esercizio 3 (lettura da file) \n",
    "# definire una funzione che prende in input una file di testo <file> e un numero intero positivo <n>\n",
    "# e ritorna la lista di tutte le parole di lunghezza minore o uguale a n. Se non ci sono parole\n",
    "# che soddisfano tale vincolo la funzione deve ritornare None"
   ]
  },
  {
   "cell_type": "code",
   "execution_count": null,
   "metadata": {},
   "outputs": [],
   "source": [
    "#esercizio 4 (dizionari)\n",
    "#definire una funzione che prende in input due dizionari <left> e <right> che hanno una chiave \"nome\" \n",
    "#di tipo stringa e una chiave valore di tipo intero. Come output una funzione rutorna un nuovo \n",
    "#dizionario con il nome la concatenazione dei nomi e come valore la somma modulo 5 di <left> e <right> "
   ]
  },
  {
   "cell_type": "code",
   "execution_count": null,
   "metadata": {},
   "outputs": [],
   "source": [
    "#Esercizio 5 (iterazioni)\n",
    "#definire una funzione che prende in input una lista di numeri interi e ritorna come output\n",
    "#la lista senza ripetizioni dei numeri che si ripetono almeno una volta. Se non ve ne sono la funzione\n",
    "#ritorna la lista vuoota.\n",
    "#Esempi: \n",
    "#esercizio5([1,2,3,4,1,3]) -> [1,3]\n",
    "#esercizio5([1,2,3,4,5,6]) -> []"
   ]
  },
  {
   "cell_type": "code",
   "execution_count": null,
   "metadata": {},
   "outputs": [],
   "source": [
    "#esercizio 6\n",
    "#definire una funzione  che accetta come input due stringhe e ritorna 'minore' o 'maggiore'\n",
    "#se la prima <left> è minore di <right> secondo l'ordine lessicografico. \n",
    "# https://it.wikipedia.org/wiki/Ordine_lessicografico"
   ]
  }
 ],
 "metadata": {
  "kernelspec": {
   "display_name": "Python 3",
   "language": "python",
   "name": "python3"
  },
  "language_info": {
   "codemirror_mode": {
    "name": "ipython",
    "version": 3
   },
   "file_extension": ".py",
   "mimetype": "text/x-python",
   "name": "python",
   "nbconvert_exporter": "python",
   "pygments_lexer": "ipython3",
   "version": "3.6.2"
  }
 },
 "nbformat": 4,
 "nbformat_minor": 2
}
