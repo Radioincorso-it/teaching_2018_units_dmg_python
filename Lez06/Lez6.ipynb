{
 "cells": [
  {
   "cell_type": "markdown",
   "metadata": {},
   "source": [
    "### Riassunto Lez 5 (teoria)\n",
    "* Iterazioni: while e for\n",
    "* scansione di una stringa con il while o con il for\n",
    "* for: i in elenco, indicizza su un elenco di oggetti\n",
    "* for su elementi di una stringa vs for su indici di una stringa\n",
    "* funzione range\n",
    "* ricorsione"
   ]
  },
  {
   "cell_type": "code",
   "execution_count": null,
   "metadata": {},
   "outputs": [],
   "source": [
    "### Esercizio 1\n",
    "# definire una funzione che prenda in input una numero intero positivo e stampi a schermo (su un linea unica)\n",
    "#tutti i divisori di quel numero.\n",
    "## Esempio\n",
    "#divisore(33) -> 1 3 11 33\n",
    "#divisore(10) -> 1 2 5 10\n",
    "\n",
    "def divisore(n):\n",
    "    c = 1\n",
    "    while c<=n/2:\n",
    "        if n%c==0:\n",
    "            print(c,end=' ')\n",
    "        c=c+1\n",
    "    print(n)\n",
    "        "
   ]
  },
  {
   "cell_type": "code",
   "execution_count": null,
   "metadata": {},
   "outputs": [],
   "source": [
    "#Esercizio 2:\n",
    "#definire una funzione (check(carattere,stringa)) che prende in input \n",
    "#un carattere e una stringa e ritorna True se il carattere è contenuto nella stringa,\n",
    "#False altrimenti\n",
    "\n",
    "#Esempio:\n",
    "#check('e','abc') -> False\n",
    "#check('a','abc') -> True\n",
    "\n",
    "def check(carattere,stringa):\n",
    "    return carattere in stringa"
   ]
  },
  {
   "cell_type": "code",
   "execution_count": null,
   "metadata": {},
   "outputs": [],
   "source": [
    "#Esercizio 2_bis:\n",
    "#stesso esercizio precedente utilizzando il ciclo for\n",
    "def check(carattere,stringa):\n",
    "    for s in stringa:\n",
    "        if carattere==s:\n",
    "            return True\n",
    "    return False"
   ]
  },
  {
   "cell_type": "code",
   "execution_count": null,
   "metadata": {},
   "outputs": [],
   "source": [
    "#Esercizio 3: \n",
    "#definire la funzione (passwordIdonea(password)) che prende in input una password (stringa)\n",
    "#e ritorna True se password contiene almeno una lettera maiuscola, due cifre \n",
    "#e 1 segno speciale tra i seguenti: ,/()&%$£ . Ritorna False in caso contrario. \n",
    "\n",
    "\n",
    "maiuscole = 'QWERTYUIOPASDFGHJKLZXCVBNM'\n",
    "cifre = '123456789'\n",
    "special = ',/()&%$£'\n",
    "def passwordIdonea(password):\n",
    "    maiuscoleCounter = 0 \n",
    "    cifreCounter = 0 \n",
    "    specialCounter=0\n",
    "    for s in password: \n",
    "        if s in maiuscole:\n",
    "            maiuscoleCounter=maiuscoleCounter+1\n",
    "        elif s in cifre:\n",
    "            cifreCounter = cifreCounter +1\n",
    "        elif s in special:\n",
    "            specialCounter=specialCounter+1\n",
    "    return specialCounter>=1 and maiuscoleCounter>=1 and cifreCounter>=2"
   ]
  },
  {
   "cell_type": "code",
   "execution_count": null,
   "metadata": {},
   "outputs": [],
   "source": [
    "#Esercizio 4\n",
    "#definire la funzione fattoriale come una funzione ricorsiva\n",
    "def fattoriale(n):\n",
    "    if n==0:  \n",
    "        return 1\n",
    "    return n*fattoriale(n-1)\n",
    "    "
   ]
  },
  {
   "cell_type": "code",
   "execution_count": null,
   "metadata": {},
   "outputs": [],
   "source": [
    "#Esercizio 5: definire la funzione di fibonacci ricorsiva\n",
    "#f(0)=1\n",
    "#f(1)=1\n",
    "#f(n)=f(n-1)+f(n-2)\n",
    "def fibonacci(n):\n",
    "    if n<=1:\n",
    "        return 1\n",
    "    return fibonacci(n-1)+fibonacci(n-2)"
   ]
  },
  {
   "cell_type": "markdown",
   "metadata": {},
   "source": [
    "### Esercizi per Casa"
   ]
  },
  {
   "cell_type": "code",
   "execution_count": null,
   "metadata": {},
   "outputs": [],
   "source": [
    "### Esercizio per casa 1\n",
    "# definire una funzione con 0 parametri di input, che generi al suo interno un intero randomico (<numero>) tra 0 e 20, \n",
    "# e per 5 volte chieda all'untente di indovinare il numero dando dei suggerimenti a ogni tentativo. \n",
    "# I suggerimenti possono essere: \"Hai inserito un numero troppo piccolo\" o \"Hai inserito un numero troppo grande\"\n",
    "#Se l'untente non indovina il numero, alla fine viene scritto: \"Hai perso! Il numero era <numero>!\"\n",
    "\n",
    "#Esempio:\n",
    "#Inserisci il numero:15\n",
    "#Hai inserito un numero troppo piccolo\n",
    "#Inserisci il numero:19\n",
    "#Hai inserito un numero troppo grande\n",
    "#Inserisci il numero:17\n",
    "#Hai inserito un numero troppo grande\n",
    "#Inserisci il numero:16\n",
    "#Hai indovinato!\n",
    "\n",
    "def game():\n",
    "    #scrivi qui"
   ]
  },
  {
   "cell_type": "code",
   "execution_count": null,
   "metadata": {},
   "outputs": [],
   "source": [
    "#Esercizio per casa 2\n",
    "#stampare tutti i numeri multipli di 3 ma non di 4 compresi tra 0 e 120 incluso.\n",
    "\n",
    "#scrivi qui"
   ]
  },
  {
   "cell_type": "code",
   "execution_count": null,
   "metadata": {},
   "outputs": [],
   "source": [
    "#Esercizio per casa 3\n",
    "#definire la funzione fattoriale con il ciclo for\n",
    "\n",
    "def fattoriale_for(n):\n",
    "    #scrivi qui"
   ]
  },
  {
   "cell_type": "code",
   "execution_count": null,
   "metadata": {},
   "outputs": [],
   "source": [
    "#### Esercizio per casa 4\n",
    "#definire la funzione di fibonacci con il ciclo for\n",
    "\n",
    "def fibonacci_for(n):\n",
    "    #scrivi qui"
   ]
  },
  {
   "cell_type": "code",
   "execution_count": null,
   "metadata": {},
   "outputs": [],
   "source": [
    "#### Esercizio per casa 5\n",
    "#Scrivere un programma che converte un numero in una base da 2 a 10 ad un numero in base 10\n",
    "\n",
    "#scrivi qui"
   ]
  }
 ],
 "metadata": {
  "kernelspec": {
   "display_name": "Python 3",
   "language": "python",
   "name": "python3"
  },
  "language_info": {
   "codemirror_mode": {
    "name": "ipython",
    "version": 3
   },
   "file_extension": ".py",
   "mimetype": "text/x-python",
   "name": "python",
   "nbconvert_exporter": "python",
   "pygments_lexer": "ipython3",
   "version": "3.6.2"
  }
 },
 "nbformat": 4,
 "nbformat_minor": 2
}
