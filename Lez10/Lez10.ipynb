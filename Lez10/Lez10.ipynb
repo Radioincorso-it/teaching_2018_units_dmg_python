{
 "cells": [
  {
   "cell_type": "markdown",
   "metadata": {},
   "source": [
    "### Comunicazione\n",
    "* cambiamento di orario per le prossime due lezioni (interessa il primo gruppo)\n",
    "* dobbiamo recuperare una lezione (o martedì 28 o un giorno tra il 10 e il 20 giugno)\n",
    "* il primo appello sarà tra il 10 e fine Giugno."
   ]
  },
  {
   "cell_type": "markdown",
   "metadata": {},
   "source": [
    "### Riassunto Lez 9\n",
    "* dizionari, tuple, set\n",
    "* List comprehension"
   ]
  },
  {
   "cell_type": "markdown",
   "metadata": {},
   "source": [
    "### Warm up (1 minute)"
   ]
  },
  {
   "cell_type": "code",
   "execution_count": null,
   "metadata": {},
   "outputs": [],
   "source": [
    "# definite un dizionario con 3 chiavi e 3 valori\n",
    "d={'nome':'Daenerys', 'ruolo':'madre dei draghi', 'età': 18} \n",
    "#lista delle chiavi\n",
    "list(d.keys())\n",
    "#verifico se la chiave 'nome' è presente nel dizionario\n",
    "'nome' in d.keys()\n",
    "#fatevi restituire il valore di una chiave, per esempio di 'ruolo'\n",
    "print(d['ruolo'])\n",
    "#aggiungiamo una nuova chiave con valore intero\n",
    "d['anno di nascita']=284\n",
    "# definite due insiemi e determinate l'insieme degli elementi comuni\n",
    "a = {'a','b','c'}\n",
    "c= {'a','r','z'}\n",
    "d = a & c\n",
    "# create la lista dei numeri dispari da 1 a 101 divisibili per 3 (alternativa 1)\n",
    "print([2*n+1 for n in range(51) if (2*n+1)%3==0 ])\n",
    "# create la lista dei numeri dispari da 1 a 101 divisibili per 3 (alternativa 2)\n",
    "print([n for n in range(1,101) if n%3==0 and n%2==1 ])"
   ]
  },
  {
   "cell_type": "code",
   "execution_count": null,
   "metadata": {},
   "outputs": [],
   "source": [
    "#Esercizio 1\n",
    "#creare una funzione che prende in input un dizionario del tipo\n",
    "#studente = {\"nome\": \"Mario\", \"cognome\": \"Luigi\", \"voto\": 12 }\n",
    "#e stampa a schermo: \n",
    "\n",
    "#\"lo studente <nome> <cognome> non ha passato l'esame\"\n",
    "#se il voto è minore di 18, \n",
    "\n",
    "#lo studente <nome> <cognome> ha passato l'esame\". \n",
    "#se il voto è maggiore o uguale a 18.\n",
    "\n",
    "studente = {\"nome\": \"Mario\", \"cognome\": \"Luigi\", \"voto\": 12 }\n",
    "\n",
    "def esercizio1(dizionario):\n",
    "    if dizionario['voto'] < 18:\n",
    "        print(\"lo studente {} {}  non ha passato l'esame\".format(dizionario['nome'],dizionario['cognome']))\n",
    "    else:\n",
    "        print(\"lo studente {} {}  ha passato l'esame\".format(dizionario['nome'],dizionario['cognome']))       "
   ]
  },
  {
   "cell_type": "code",
   "execution_count": null,
   "metadata": {},
   "outputs": [],
   "source": [
    "#Esercizio 2\n",
    "#definire una funzione che prende in input una stringa \n",
    "#e ritorna un dizionario che associa ad ogni lettera quante volte appare nella stringa.\n",
    "\n",
    "#esercizio2(\"pollo\") -> {'p':1,'l':2,'o':2}\n",
    "\n",
    "def esercizio2(parola):\n",
    "    lettere={}\n",
    "    for p in parola:\n",
    "        if(p in lettere):\n",
    "            lettere[p]=lettere[p]+1\n",
    "        else:\n",
    "            lettere[p]=1\n",
    "    return lettere"
   ]
  },
  {
   "cell_type": "code",
   "execution_count": null,
   "metadata": {},
   "outputs": [],
   "source": [
    "#Esercizio 3 (casa)\n",
    "#definire una funzione che prende in input un numero \n",
    "#intero e restituisce la scomposizione in fattori primi. \n",
    "#esempio: scomposizione(20) -> 2**2*5\n",
    "def esercizio3(studente):\n",
    "    return None"
   ]
  },
  {
   "cell_type": "code",
   "execution_count": null,
   "metadata": {},
   "outputs": [],
   "source": [
    "#Esercizio 4\n",
    "# anagrammi, utilizzando i dizionari creare una funzione che \n",
    "# torna True se due parola sono uno l'anagramma dell'altro, False altrimenti\n",
    "\n",
    "def esercizio4(parola1,parola2):\n",
    "    if(len(parola1)!=len(parola2)):\n",
    "        return False\n",
    "    dizionario={}\n",
    "    for lettera in parola1:\n",
    "        if lettera in dizionario.keys():\n",
    "            dizionario[lettera]=dizionario[lettera]+1\n",
    "        else:\n",
    "            dizionario[lettera]=1\n",
    "    for lettera in parola2:\n",
    "        if lettera in dizionario:\n",
    "            dizionario[lettera]=dizionario[lettera]-1\n",
    "        else:\n",
    "            return False\n",
    "    \n",
    "    for letter in dizionario:\n",
    "        if(dizionario[lettera]!=0):\n",
    "            return False\n",
    "    \n",
    "    return True\n",
    "\n",
    "# come emerso in classe, riutilizzando la funzione dell'esercizio 2 potevamo anche scrivere: \n",
    "def esercizio4_bis(parola1,parola2):\n",
    "    return esercizio2(parola1)==esercizio2(parola2)"
   ]
  },
  {
   "cell_type": "code",
   "execution_count": null,
   "metadata": {},
   "outputs": [],
   "source": [
    "#Esercizio 5\n",
    "# definire una funzione che prenda in input un intero e restituisca una lista di \n",
    "#n numeri randomici compresi tra 3 e 90\n",
    "import random\n",
    "def esercizio5(n):\n",
    "    return [random.randint(3,90) for i in range(n)]\n",
    "    "
   ]
  },
  {
   "cell_type": "code",
   "execution_count": null,
   "metadata": {},
   "outputs": [],
   "source": [
    "#come utilizzare il manuale online\n",
    "import random \n",
    "random.randint?"
   ]
  },
  {
   "cell_type": "code",
   "execution_count": null,
   "metadata": {},
   "outputs": [],
   "source": [
    "#Esercizio 6\n",
    "# creare una funzione che prende in input una stringa e controlla (i.e; ritorna True o False)\n",
    "#se ci sono caratteri ripetuti.\n",
    "def esercizio6(parola):\n",
    "    s = set()\n",
    "    for l in parola:\n",
    "        if(l not in s):\n",
    "            s.add(l)\n",
    "        else:\n",
    "            return True\n",
    "    return False\n",
    "\n",
    "# sfruttando la caratteristica degli insiemi (ogni elemento per appare una e una sola volta), \n",
    "#possiamo scrivere: \n",
    "def esercizio6_bis(parola):\n",
    "    return len(set(parola))==len(parola) #set(parola) genere linsieme delle lettere di parola\n"
   ]
  },
  {
   "cell_type": "code",
   "execution_count": null,
   "metadata": {},
   "outputs": [],
   "source": [
    "#Esercizio 7\n",
    "#creare una funzione che prende in input due stringhe e \n",
    "#ritorna l'insieme delle lettere comuni.\n",
    "def esercizio7(parola1,parola2):\n",
    "    return set(parola1) & set(parola2)\n"
   ]
  }
 ],
 "metadata": {
  "kernelspec": {
   "display_name": "Python 3",
   "language": "python",
   "name": "python3"
  },
  "language_info": {
   "codemirror_mode": {
    "name": "ipython",
    "version": 3
   },
   "file_extension": ".py",
   "mimetype": "text/x-python",
   "name": "python",
   "nbconvert_exporter": "python",
   "pygments_lexer": "ipython3",
   "version": "3.6.2"
  }
 },
 "nbformat": 4,
 "nbformat_minor": 2
}
