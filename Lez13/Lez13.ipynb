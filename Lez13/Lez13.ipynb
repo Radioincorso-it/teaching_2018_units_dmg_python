{
 "cells": [
  {
   "cell_type": "code",
   "execution_count": null,
   "metadata": {},
   "outputs": [],
   "source": [
    "#Esercizio1 (Peso 2)\n",
    "# definire una funzione che prende in input un intero <n> e una <parola> \n",
    "#(stringa di caratteri di lunghezza a piacere)  e ritorna come output una lista di n parole randomiche di lunghezza n, con caratteri in <parola>. Se inserisco n=0 deve tornare la lista vuota.\n",
    "#esempio:  \n",
    "#esercizio1(3,\"pollo\") -> ['oll','plo','ppo']\n",
    "#esercizio1(0,\"pollo\") -> []\n",
    "\n",
    "import random \n",
    "def esercizio1(n,parola):\n",
    "    l=[]\n",
    "    for i in range(n):\n",
    "        l.append(estraggo(n,parola))\n",
    "    return l\n",
    "\n",
    "def estraggo(n,parola):\n",
    "    s=''\n",
    "    for i in range(n):\n",
    "        s=s+parola[random.randint(0,len(parola)-1)]\n",
    "    return s\n",
    "\n",
    "esercizio1(5,'pollo')   "
   ]
  },
  {
   "cell_type": "code",
   "execution_count": null,
   "metadata": {},
   "outputs": [],
   "source": [
    "#Esercizio2 (Peso 1)\n",
    "#1) Definire un codice che prende in input da tastiera nome, cognome, età di una persona \n",
    "#e costruisce un dizionario che memorizzi tali informazioni. \n",
    "#2) Definire una funzione che prende in input il dizionario creato al punto 1 e \n",
    "#stampa a schermo \"il signor <cognome> <nome> ha più di 30 anni\" \n",
    "#oppure il \"il signor <cognome> <nome> ha meno di 30 anni\"\n",
    "\n",
    "nome = input(\"nome:\")\n",
    "cognome = input(\"cognome:\")\n",
    "eta = int(input(\"eta:\"))\n",
    "\n",
    "persona = {'nome':nome,'cognome':cognome, 'età':eta}\n",
    "\n",
    "def esercizio2(dizionario):\n",
    "    if(dizionario['età']>=30):\n",
    "        print('{} {} ha più di 30 anni'.format(dizionario['nome'],dizionario['cognome']))\n",
    "    else:\n",
    "        print('{} {} ha meno di 30 anni'.format(dizionario['nome'],dizionario['cognome']))\n",
    "            \n",
    "esercizio2(persona)    "
   ]
  },
  {
   "cell_type": "code",
   "execution_count": null,
   "metadata": {},
   "outputs": [],
   "source": [
    "#Esercizio3 (Peso 1)\n",
    "#Usare la list comprhension per definire le tuple (a,b,c) \n",
    "#tali che a*a+b=c, con a b e c che assumono valori interi tra 2 e 45 (incluso) \n",
    "\n",
    "l = [(a,b,c) for a in range(2,46) for b in range(2,46) for c in range(2,46) if a*a+b==c]\n",
    "print(l)"
   ]
  },
  {
   "cell_type": "code",
   "execution_count": null,
   "metadata": {},
   "outputs": [],
   "source": [
    "#Esercizio4 (Peso 2)\n",
    "#definire una funzione ricorsiva che implementi la seguente ricorsione\n",
    "#a(0)=1\n",
    "#a(n)=1+1/(1+a(n-1))\n",
    "\n",
    "def esercizio4(n):\n",
    "    if n==0 : \n",
    "        return 1\n",
    "    return 1+1/(1+esercizio4(n-1))\n",
    "\n",
    "esercizio4(100)"
   ]
  },
  {
   "cell_type": "code",
   "execution_count": null,
   "metadata": {},
   "outputs": [],
   "source": [
    "#Esercizio5 (Peso 2)\n",
    "#scrivere una funzione che prende in input una parola e ritorna true \n",
    "#se esistono almeno 3 lettere uguali, false altrimenti. \n",
    "\n",
    "def count(lettera,parola):\n",
    "    c=0\n",
    "    for l in parola:\n",
    "        if (lettera==l):\n",
    "            c=c+1\n",
    "            if(c==3):\n",
    "                return True\n",
    "    return False\n",
    "\n",
    "def esercizio5(parola):\n",
    "    for l in parola:\n",
    "        if(count(l,parola)):\n",
    "            return True\n",
    "    return False\n"
   ]
  },
  {
   "cell_type": "code",
   "execution_count": null,
   "metadata": {},
   "outputs": [],
   "source": [
    "#Esercizio6 (peso 2)\n",
    "#definire una funzione che prende in input un file di testo (o meglio l'indirizzo dove il file di testo si trova) \n",
    "#e ritorna in output una tupla contenente la parole più lunga e quella più corta contenute nel testo. \n",
    "#A parità di lunghezza viene memorizzata l'ultima che viene trovata. \n",
    "def esercizio6(file):\n",
    "    with open(file) as file: \n",
    "        parole=file.read().strip().split()\n",
    "        massimo = minimo = len(s[0])\n",
    "        parola_massima=parola_minima=s[0]\n",
    "        for l in s[1:]:\n",
    "            if(len(l)>=massimo):\n",
    "                massimo = len(l)\n",
    "                parola_massima=arola_massima=l\n",
    "            elif(len(l)<=minimo):\n",
    "                minimo= len(l)\n",
    "                parola_minima=l\n",
    "        return (parola_minima,parola_massima)\n",
    "esercizio6(\"test.txt\")"
   ]
  },
  {
   "cell_type": "code",
   "execution_count": null,
   "metadata": {},
   "outputs": [],
   "source": [
    "#Esercizio7 (aggiunto)\n",
    "#definire una funzione che prende in input due funzioni da R in R e ritorna come output la composizione \n",
    "#della prima per la seconda \n",
    "#esempio:\n",
    "#esercizio7(f,g)-> (f) o (g) dove (f o g)(x) = f(g(x))\n",
    "def esercizio7(f,g):\n",
    "    return lambda x : f(g(x))"
   ]
  }
 ],
 "metadata": {
  "kernelspec": {
   "display_name": "Python 3",
   "language": "python",
   "name": "python3"
  },
  "language_info": {
   "codemirror_mode": {
    "name": "ipython",
    "version": 3
   },
   "file_extension": ".py",
   "mimetype": "text/x-python",
   "name": "python",
   "nbconvert_exporter": "python",
   "pygments_lexer": "ipython3",
   "version": "3.6.2"
  }
 },
 "nbformat": 4,
 "nbformat_minor": 2
}
