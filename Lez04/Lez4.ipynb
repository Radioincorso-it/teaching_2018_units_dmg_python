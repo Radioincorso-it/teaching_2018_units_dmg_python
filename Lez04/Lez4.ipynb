{
 "cells": [
  {
   "cell_type": "markdown",
   "metadata": {},
   "source": [
    "### Riassunto Lezione Precedente\n",
    "* definizione di funzione\n",
    "* espressioni booleane\n",
    "* if-else"
   ]
  },
  {
   "cell_type": "markdown",
   "metadata": {},
   "source": [
    "## Esercizi\n"
   ]
  },
  {
   "cell_type": "markdown",
   "metadata": {},
   "source": [
    "#### Short circuiting - provate a valutare le seguenti espressioni"
   ]
  },
  {
   "cell_type": "code",
   "execution_count": null,
   "metadata": {},
   "outputs": [],
   "source": [
    "print('True and False ->',True and False)\n",
    "print('True and 3 ->',True and 3)\n",
    "print('3 and True ->',3 and True)\n",
    "print('True or 3 ->',True or 3)\n",
    "print('3 or 4 ->',3 or 4)\n",
    "print('0 or 4 ->',0 or 4)\n",
    "print('True and False or 5 ->',True and False or 5)\n",
    "print('False and 1/0 ->', False and 1/0)\n",
    "print('False or 1/0 ->',False or 1/0)"
   ]
  },
  {
   "cell_type": "markdown",
   "metadata": {},
   "source": [
    "#### I numeri hanno un valore di verità. '0' corrisponde a False, tutti gli altri a True."
   ]
  },
  {
   "cell_type": "code",
   "execution_count": 12,
   "metadata": {},
   "outputs": [
    {
     "name": "stdout",
     "output_type": "stream",
     "text": [
      "bool(0) -> False\n",
      "bool(1) -> True\n",
      "bool(1.2) -> True\n"
     ]
    }
   ],
   "source": [
    "print('bool(0) ->',bool(0))\n",
    "print('bool(1) ->',bool(1))\n",
    "print('bool(1.2) ->',bool(1.2))"
   ]
  },
  {
   "cell_type": "markdown",
   "metadata": {},
   "source": [
    "#### se trasformo (in inglese \"to cast\") un booleano in intero ottengo 1 per il True, 0 per il False. "
   ]
  },
  {
   "cell_type": "code",
   "execution_count": 13,
   "metadata": {},
   "outputs": [
    {
     "name": "stdout",
     "output_type": "stream",
     "text": [
      "int(True) -> 1\n",
      "int(False) -> 0\n"
     ]
    }
   ],
   "source": [
    "print('int(True) ->',int(True))\n",
    "print('int(False) ->',int(False))"
   ]
  },
  {
   "cell_type": "markdown",
   "metadata": {},
   "source": [
    "#### Esercizio 1: Scrivere una funzione che prende in input un numero intero e ritorna  True se è maggiore di  67 ed è dispari, False altrimenti. "
   ]
  },
  {
   "cell_type": "code",
   "execution_count": 5,
   "metadata": {},
   "outputs": [],
   "source": [
    "def esercizio1(x):\n",
    "    return x>67 and x%2==1\n",
    "    "
   ]
  },
  {
   "cell_type": "markdown",
   "metadata": {},
   "source": [
    "#### Esercizio 2: Scrivere una funzione che prende in input un numero intero e ritorna 0 se è minore di  67, il numero stesso se è maggiore uguale a 67. Non usate if-else. "
   ]
  },
  {
   "cell_type": "code",
   "execution_count": 9,
   "metadata": {},
   "outputs": [],
   "source": [
    "#suggerimento sfruttare lo short-circuiting delle espressioni booleane e il cast a intero!\n",
    "def esercizio2(x):\n",
    "    return int(x>=67 and x)"
   ]
  },
  {
   "cell_type": "code",
   "execution_count": 10,
   "metadata": {},
   "outputs": [],
   "source": [
    "def esercizio2_alternative(x):\n",
    "    return int(x>=67)*x"
   ]
  },
  {
   "cell_type": "markdown",
   "metadata": {},
   "source": [
    "#### Esercizio 2bis: è meglio non usare numeri in espressioni booleane!! Risolvete l'esercizio precedente con il costrutto if-else. "
   ]
  },
  {
   "cell_type": "code",
   "execution_count": null,
   "metadata": {},
   "outputs": [],
   "source": [
    "def esercizio2_bis(x):\n",
    "    if (x<67):\n",
    "        return 0 \n",
    "    else:\n",
    "        return x"
   ]
  },
  {
   "cell_type": "code",
   "execution_count": null,
   "metadata": {},
   "outputs": [],
   "source": [
    "def esercizio2_bis_alternative(x):\n",
    "    if (x<67):\n",
    "        return 0    # posso eliminare l'ultimo else.\n",
    "    return x"
   ]
  },
  {
   "cell_type": "markdown",
   "metadata": {},
   "source": [
    "### Scope di una funzione"
   ]
  },
  {
   "cell_type": "code",
   "execution_count": 28,
   "metadata": {},
   "outputs": [],
   "source": [
    "c=64\n",
    "def funzione(x):\n",
    "    c=x\n",
    "    return c"
   ]
  },
  {
   "cell_type": "code",
   "execution_count": null,
   "metadata": {},
   "outputs": [],
   "source": [
    "b = 5\n",
    "def funzione(a):\n",
    "    b=a*a        # b è una variabile locale diversa da quella definita alla riga 1. Nasce e muore all'interno\n",
    "    return b     # dello scope della funzione.\n",
    "c = funzione(2)\n",
    "print('b =',b)\n",
    "print('c =',c)"
   ]
  },
  {
   "cell_type": "code",
   "execution_count": 30,
   "metadata": {},
   "outputs": [
    {
     "name": "stdout",
     "output_type": "stream",
     "text": [
      "b = 4\n",
      "c = 4\n"
     ]
    }
   ],
   "source": [
    "b = 5\n",
    "def funzione(a):\n",
    "    global b     # stiamo dicendo che la variabile b che utilizzeremo non è locale ma si riferisce a quella globale\n",
    "    b=a*a        # definita fuori della funzione alla riga 1.\n",
    "    return b\n",
    "c = funzione(2)\n",
    "print('b =',b)\n",
    "print('c =',c)\n",
    "#Quanto vale b?"
   ]
  },
  {
   "cell_type": "code",
   "execution_count": 31,
   "metadata": {},
   "outputs": [
    {
     "name": "stdout",
     "output_type": "stream",
     "text": [
      "b = 2\n",
      "b = 5\n"
     ]
    }
   ],
   "source": [
    "b = 5\n",
    "def funzione():\n",
    "    b=2            # b è una variabile locale.\n",
    "    print('b =',b) # il programma controlla se b è stato definito nello scope della funzione, altrimenti guarda  \n",
    "funzione()         # nello scope globale.  \n",
    "print('b =',b)"
   ]
  },
  {
   "cell_type": "code",
   "execution_count": null,
   "metadata": {},
   "outputs": [],
   "source": [
    "b = 5\n",
    "def funzione():\n",
    "    print('b =',b) # il programma controlla se b è stato definito nello scope della funzione, altrimenti guarda\n",
    "funzione()         # nello scope globale.\n",
    "print('b =',b)"
   ]
  },
  {
   "cell_type": "markdown",
   "metadata": {},
   "source": [
    "#### Esercizio 3: Scrivere una funzione ( operazione(x,y,s) ) che prende come input due numeri (x,y) e una stringa s che assume valore in ['somma','prodotto','diviso','potenza'] ed effettua la suddetta operazione tra x e y. Se non viene passato nessuna stringa allora effettua la somma di default. Se viene passata una stringa diversa da quelle precedenti ritorna la stringa: \"non so cosa fare\""
   ]
  },
  {
   "cell_type": "code",
   "execution_count": null,
   "metadata": {},
   "outputs": [],
   "source": [
    "def operazione(x,y,s='somma'):\n",
    "    if s=='somma':\n",
    "        return x+y\n",
    "    if s=='prodotto':\n",
    "        return x*y\n",
    "    if s=='diviso':\n",
    "        return x/y\n",
    "    if s=='potenza':\n",
    "        return x**y\n",
    "    return 'non so cosa fare'"
   ]
  },
  {
   "cell_type": "markdown",
   "metadata": {},
   "source": [
    "#### Esercizio 4: Scrivere una funzione ( valore_assoluto(x) ) che prende come input un numero e ne fa il modulo"
   ]
  },
  {
   "cell_type": "code",
   "execution_count": null,
   "metadata": {},
   "outputs": [],
   "source": [
    "def valore_assoluto(x):\n",
    "    if (x<0):\n",
    "        return -x \n",
    "    else:\n",
    "        return x"
   ]
  },
  {
   "cell_type": "markdown",
   "metadata": {},
   "source": [
    "#### Posso eliminare l'ultimo else?"
   ]
  },
  {
   "cell_type": "markdown",
   "metadata": {},
   "source": [
    "#### SI"
   ]
  },
  {
   "cell_type": "code",
   "execution_count": null,
   "metadata": {},
   "outputs": [],
   "source": [
    "def valore_assoluto(x):\n",
    "    if (x<0):\n",
    "        return -x \n",
    "    return x"
   ]
  },
  {
   "cell_type": "markdown",
   "metadata": {},
   "source": [
    "#### Esercizio 5: Scrivere una funzione ( divisibile(x,y) ) che prende due numeri interi come input e ritorna se il primo e divisibile per il secondo.."
   ]
  },
  {
   "cell_type": "code",
   "execution_count": null,
   "metadata": {},
   "outputs": [],
   "source": [
    "def divisibile_naive(x, y):\n",
    "    if x % y == 0:\n",
    "        return True\n",
    "    else:\n",
    "        return False"
   ]
  },
  {
   "cell_type": "code",
   "execution_count": null,
   "metadata": {},
   "outputs": [],
   "source": [
    "def divisibile(x,y):\n",
    "    return x % y == 0"
   ]
  },
  {
   "cell_type": "markdown",
   "metadata": {},
   "source": [
    "#### Esercizio 6 (per casa):  Scrivere una funzione ( is_a_triangolo(a,b,c) ) che prende in input le lunghezze dei lati di una figura geometrica e stampa \"è un triangolo\" (\"non è un triangolo\").  Scrivere una funzione (is_triangolo_upgrade(a,b,c)) che se la figura è un triangolo stampa se è un triangolo equilatero, scaleno o isoscele, altrimenti stampa non è un triangolo.\n"
   ]
  },
  {
   "cell_type": "markdown",
   "metadata": {},
   "source": [
    "#### Recap: operazionie con le stringhe"
   ]
  },
  {
   "cell_type": "markdown",
   "metadata": {},
   "source": [
    "![title](img/hello.png)"
   ]
  },
  {
   "cell_type": "code",
   "execution_count": 13,
   "metadata": {},
   "outputs": [
    {
     "name": "stdout",
     "output_type": "stream",
     "text": [
      "s =  pipino\n",
      "s[0] : p\n",
      "s[-1] : o\n",
      "s[-2] : n\n",
      "s[2:4] : pi\n",
      "s[2::2] : pn\n",
      "s[::-1] : onipip\n",
      "2\n",
      "s.replace('p','d') : didino\n",
      "s =  pipino\n"
     ]
    }
   ],
   "source": [
    "s='pipino'\n",
    "print('s = ',s)\n",
    "print('s[0] :',s[0])\n",
    "print('s[-1] :',s[-1])\n",
    "print('s[-2] :',s[-2])\n",
    "print('s[2:4] :',s[2:4])  \n",
    "print('s[2::2] :',s[2::2])\n",
    "print('s[::-1] :',s[::-1])\n",
    "print(s.count('p'))\n",
    "s_new = s.replace('p','d')\n",
    "print(\"s.replace('p','d') :\",s_new)\n",
    "print('s = ',s)"
   ]
  },
  {
   "cell_type": "code",
   "execution_count": 14,
   "metadata": {},
   "outputs": [
    {
     "data": {
      "text/plain": [
       "True"
      ]
     },
     "execution_count": 14,
     "metadata": {},
     "output_type": "execute_result"
    }
   ],
   "source": [
    "#operatore in\n",
    "\"ipi\" in s"
   ]
  },
  {
   "cell_type": "code",
   "execution_count": 15,
   "metadata": {},
   "outputs": [
    {
     "data": {
      "text/plain": [
       "False"
      ]
     },
     "execution_count": 15,
     "metadata": {},
     "output_type": "execute_result"
    }
   ],
   "source": [
    "\"ipi\" not in s"
   ]
  },
  {
   "cell_type": "markdown",
   "metadata": {},
   "source": [
    "#### Esercizio 7: scrivere una funzione che prende in input una stringa e ritorna True se è un palindromo, False altrimenti"
   ]
  },
  {
   "cell_type": "code",
   "execution_count": 47,
   "metadata": {},
   "outputs": [],
   "source": [
    "def palindromo(s):\n",
    "    return s == s[::-1]"
   ]
  },
  {
   "cell_type": "markdown",
   "metadata": {},
   "source": [
    "#### Esercizio 7_bis:  scrivere una funzione che prende in input una frase ritorna True se è un palindromo, False altrimenti. Dovete eliminare gli spazi!"
   ]
  },
  {
   "cell_type": "code",
   "execution_count": null,
   "metadata": {},
   "outputs": [],
   "source": [
    "def palindromo_large(s):\n",
    "    a = s.replace(' ', '')\n",
    "    return palindromo(a)"
   ]
  },
  {
   "cell_type": "markdown",
   "metadata": {},
   "source": [
    "#### Esercizio 8:  definire una funzione (is_float(x)) che controlla se un numero in input è un float o meno (2.3, 5.678, 9. , .45, etc..)\n"
   ]
  },
  {
   "cell_type": "code",
   "execution_count": 57,
   "metadata": {},
   "outputs": [],
   "source": [
    "def is_float(x):\n",
    "    return x.count(\".\")==1 and x.replace('.','').isdecimal()"
   ]
  },
  {
   "cell_type": "markdown",
   "metadata": {},
   "source": [
    "#### Esercizio 9(casa):  definire una funzione (sum_float) che  prende in input due stringhe rappresentanti due numeri numeri e se sono entrambi dei float ne ritorna la stringa corrispondende alla la somma, altrimenti ritorna la stringa vuota."
   ]
  },
  {
   "cell_type": "code",
   "execution_count": 19,
   "metadata": {},
   "outputs": [],
   "source": [
    "def sum_float(a,b):\n",
    "    #scrivi qui"
   ]
  },
  {
   "cell_type": "markdown",
   "metadata": {},
   "source": [
    "#### Esercizio 10 (casa): Fizz-Buzz https://en.wikipedia.org/wiki/Fizz_buzz\n",
    "definire una funzione che prende in input numeri interi e ritorna 'Fizz' se il numero è divisibile per 3, 'Buzz' se è divisibile per 5 e 'Fizz-Buzz' se è divisibile per entrambi. Negli altri casi ritorna il numero stesso.\n",
    "Esempio: fizzBuzz(1)=1, fizzBuzz(5)='Buzz', fizzBuzz(30)='Fizz-Buzz', fizzBuzz(9)='Fizz'"
   ]
  },
  {
   "cell_type": "code",
   "execution_count": 63,
   "metadata": {},
   "outputs": [],
   "source": [
    "def FizzBuzz(x):\n",
    "    x3=(x%3==0)\n",
    "    x5=(x%5==0)\n",
    "    if(x3 and x5):\n",
    "        return 'Fizz-Buzz'\n",
    "    elif(x3):\n",
    "        return 'Fizz'\n",
    "    elif(x5):\n",
    "        return 'Buzz'\n",
    "    return x\n",
    "    "
   ]
  },
  {
   "cell_type": "code",
   "execution_count": 19,
   "metadata": {},
   "outputs": [],
   "source": [
    "def FizzBuzz(x):\n",
    "    s=''\n",
    "    if(x%3==0):\n",
    "        s=' Fizz'\n",
    "    if(x%5==0):\n",
    "        s=s+'-Buzz'\n",
    "    if s=='':\n",
    "        return str(x)\n",
    "    return s[1:]"
   ]
  }
 ],
 "metadata": {
  "kernelspec": {
   "display_name": "Python 3",
   "language": "python",
   "name": "python3"
  },
  "language_info": {
   "codemirror_mode": {
    "name": "ipython",
    "version": 3
   },
   "file_extension": ".py",
   "mimetype": "text/x-python",
   "name": "python",
   "nbconvert_exporter": "python",
   "pygments_lexer": "ipython3",
   "version": "3.6.2"
  }
 },
 "nbformat": 4,
 "nbformat_minor": 2
}
