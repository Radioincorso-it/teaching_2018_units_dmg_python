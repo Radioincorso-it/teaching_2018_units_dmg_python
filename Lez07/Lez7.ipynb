{
 "cells": [
  {
   "cell_type": "markdown",
   "metadata": {},
   "source": [
    "# Lez 7"
   ]
  },
  {
   "cell_type": "markdown",
   "metadata": {},
   "source": [
    "### Riassunto Lez 5 (teoria)\n",
    "* Iterazioni: while e for\n",
    "* scansione di una stringa con il while o con il for\n",
    "* for: i in elenco, indicizza su un elenco di oggetti\n",
    "* for su elementi di una stringa vs for su indici di una stringa\n",
    "* funzione range\n",
    "* ricorsione"
   ]
  },
  {
   "cell_type": "markdown",
   "metadata": {},
   "source": [
    "### Soluzione Esercizi"
   ]
  },
  {
   "cell_type": "code",
   "execution_count": 56,
   "metadata": {},
   "outputs": [],
   "source": [
    "### Esercizio per casa 1\n",
    "# definire una funzione con 0 parametri di input, che generi al suo interno un intero randomico tra 0 e 20, \n",
    "# e per 5 volte chieda all'untente di indovinare il numero dando dei suggerimenti a ogni tentativo. \n",
    "#Esempio:\n",
    "#Inserisci il numero:15\n",
    "#Hai inserito un numero troppo piccolo\n",
    "#Inserisci il numero:19\n",
    "#Hai inserito un numero troppo grande\n",
    "#Inserisci il numero:17\n",
    "#Hai inserito un numero troppo grande\n",
    "#Inserisci il numero:16\n",
    "#Hai indovinato!\n",
    "   \n",
    "import random\n",
    "def game():\n",
    "    n = random.randint(0,20)\n",
    "    guess = -1\n",
    "    c=0\n",
    "    while c<5 and guess!=n:\n",
    "        c=c+1\n",
    "        guess = int(input('Inserisci il numero:'))\n",
    "        if guess<n:\n",
    "            print(\"Hai inserito un numero troppo piccolo\")\n",
    "        elif guess > n :\n",
    "            print(\"Hai inserito un numero troppo grande\")\n",
    "        else:\n",
    "            print(\"Hai indovinato!\")\n",
    "    if(guess!=n):\n",
    "         print(\"Hai perso! Il numero era {}!\".format(n))\n",
    "            \n",
    "\n",
    "def game2():\n",
    "    n = random.randint(0,20)\n",
    "    guess = -1\n",
    "    c=0\n",
    "    while c<5 and guess!=n:\n",
    "        c=c+1\n",
    "        guess = int(input('Inserisci il numero:'))\n",
    "        if guess<n:\n",
    "            print(\"Hai inserito un numero troppo piccolo\")\n",
    "        elif guess > n :\n",
    "            print(\"Hai inserito un numero troppo grande\")\n",
    "        else:\n",
    "            print(\"Hai indovinato!\")\n",
    "            return\n",
    "    print(\"Hai perso! Il numero era {}!\".format(n))\n",
    "        "
   ]
  },
  {
   "cell_type": "code",
   "execution_count": 58,
   "metadata": {},
   "outputs": [
    {
     "name": "stdout",
     "output_type": "stream",
     "text": [
      "Inserisci il numero:15\n",
      "Hai inserito un numero troppo piccolo\n",
      "Inserisci il numero:19\n",
      "Hai inserito un numero troppo grande\n",
      "Inserisci il numero:17\n",
      "Hai inserito un numero troppo grande\n",
      "Inserisci il numero:16\n",
      "Hai indovinato!\n"
     ]
    }
   ],
   "source": [
    "game()"
   ]
  },
  {
   "cell_type": "code",
   "execution_count": null,
   "metadata": {},
   "outputs": [],
   "source": [
    "#Esercizio per casa 2\n",
    "#stampare tutti i numeri multipli di 3 ma non di 4 compresi tra 0 e 120 incluso.\n",
    "\n",
    "for i in range(0,121):\n",
    "    if i%3==0 and i%4!=0:  \n",
    "        print(i)"
   ]
  },
  {
   "cell_type": "code",
   "execution_count": 41,
   "metadata": {},
   "outputs": [],
   "source": [
    "#Esercizio per casa 3\n",
    "#definire la funzione fattoriale con il ciclo for\n",
    "def fattoriale(n):\n",
    "    f = 1\n",
    "    for i in range(2,n+1):\n",
    "        f=f*i\n",
    "    return f\n"
   ]
  },
  {
   "cell_type": "code",
   "execution_count": 104,
   "metadata": {},
   "outputs": [],
   "source": [
    "#Esercizio per casa 4 \n",
    "# definire la funzione di fibonacci con il ciclo for\n",
    "def fibonacci(n):\n",
    "    a = 0\n",
    "    b = 1\n",
    "    for i in range(0,n):\n",
    "        temp = a\n",
    "        a = b\n",
    "        b = temp + b\n",
    "    return b\n"
   ]
  },
  {
   "cell_type": "code",
   "execution_count": 105,
   "metadata": {},
   "outputs": [
    {
     "name": "stdout",
     "output_type": "stream",
     "text": [
      "1, 1, 2, 3, 5, 8, 13, 21, 34, 55, 89, 144, 233, 377, 610, "
     ]
    }
   ],
   "source": [
    "for n in range(0, 15):\n",
    "    print(fibonacci(n), end = ', ')"
   ]
  },
  {
   "cell_type": "code",
   "execution_count": 1,
   "metadata": {},
   "outputs": [
    {
     "name": "stdout",
     "output_type": "stream",
     "text": [
      "23 (base 4), in base 10 vale +2*4^1+3*4^0 = 11\n"
     ]
    }
   ],
   "source": [
    "# Esercizio per casa 5\n",
    "#Scrivere un programma che converte un numero in una base da 2 a 10 ad un numero in base 10\n",
    "\n",
    "base=int(input(\"inserisci la base (2..10): \"))\n",
    "  \n",
    "s=input(\"inserisci il numero in base \"+str(base)+\": \")\n",
    "valore=0\n",
    "polinomio=''\n",
    "for i in range(len(s)):\n",
    "    valore=valore+int(s[i])*base**(len(s)-(i+1))\n",
    "    polinomio = polinomio+'+'+s[i]+'*'+str(base)+'^'+str((len(s)-(i+1)))\n",
    "print(\"{} (base {}), in base 10 vale {} = {}\".format(s,base,polinomio,valore))"
   ]
  },
  {
   "cell_type": "markdown",
   "metadata": {},
   "source": [
    "## My Library"
   ]
  },
  {
   "cell_type": "code",
   "execution_count": 142,
   "metadata": {},
   "outputs": [
    {
     "data": {
      "text/plain": [
       "True"
      ]
     },
     "execution_count": 142,
     "metadata": {},
     "output_type": "execute_result"
    }
   ],
   "source": [
    "from myLibrary import *\n",
    "\n",
    "isIntero('+10')"
   ]
  },
  {
   "cell_type": "markdown",
   "metadata": {},
   "source": [
    "## Liste\n",
    "\n",
    "Comodissime, potentissime!!! Non ha equivalenti con altri linguaggi di programmazione per come è fatta in python. La lista è una sequenza ordinata di elementi **eterogenei** e **mutabili**!!!"
   ]
  },
  {
   "cell_type": "code",
   "execution_count": 48,
   "metadata": {},
   "outputs": [],
   "source": [
    "l = ['ieri', 19, 3.1, [1,2] ]   # possono contenere elementi di tipo diverso.   "
   ]
  },
  {
   "cell_type": "raw",
   "metadata": {},
   "source": [
    "!!!! Le liste possono essere cambiate le stringhe no!!!!!"
   ]
  },
  {
   "cell_type": "code",
   "execution_count": 23,
   "metadata": {},
   "outputs": [],
   "source": [
    "s= 'pappa'"
   ]
  },
  {
   "cell_type": "code",
   "execution_count": 44,
   "metadata": {},
   "outputs": [
    {
     "data": {
      "text/plain": [
       "'cacca'"
      ]
     },
     "execution_count": 44,
     "metadata": {},
     "output_type": "execute_result"
    }
   ],
   "source": [
    "#le stringe sono immutabili!! \n",
    "s.replace('p','c')    # look the function with shift tab"
   ]
  },
  {
   "cell_type": "code",
   "execution_count": 26,
   "metadata": {},
   "outputs": [
    {
     "data": {
      "text/plain": [
       "'pappa'"
      ]
     },
     "execution_count": 26,
     "metadata": {},
     "output_type": "execute_result"
    }
   ],
   "source": [
    "s"
   ]
  },
  {
   "cell_type": "code",
   "execution_count": 28,
   "metadata": {},
   "outputs": [],
   "source": [
    "#le liste sono mutabili\n",
    "l.append('ciao')  # look the function with shift tab"
   ]
  },
  {
   "cell_type": "code",
   "execution_count": 29,
   "metadata": {},
   "outputs": [
    {
     "data": {
      "text/plain": [
       "['ciao', 19, 3.1, [1, 2], [1, 2], 'ciao']"
      ]
     },
     "execution_count": 29,
     "metadata": {},
     "output_type": "execute_result"
    }
   ],
   "source": [
    "l"
   ]
  },
  {
   "cell_type": "code",
   "execution_count": 32,
   "metadata": {},
   "outputs": [],
   "source": [
    "l[0]='domani'"
   ]
  },
  {
   "cell_type": "code",
   "execution_count": 45,
   "metadata": {},
   "outputs": [
    {
     "data": {
      "text/plain": [
       "['ieri', 19, 3.1, [1, 2], [1, 2], 'ciao']"
      ]
     },
     "execution_count": 45,
     "metadata": {},
     "output_type": "execute_result"
    }
   ],
   "source": [
    "l"
   ]
  },
  {
   "cell_type": "code",
   "execution_count": 34,
   "metadata": {},
   "outputs": [
    {
     "ename": "TypeError",
     "evalue": "'str' object does not support item assignment",
     "output_type": "error",
     "traceback": [
      "\u001b[0;31m---------------------------------------------------------------------------\u001b[0m",
      "\u001b[0;31mTypeError\u001b[0m                                 Traceback (most recent call last)",
      "\u001b[0;32m<ipython-input-34-628f2b6d582f>\u001b[0m in \u001b[0;36m<module>\u001b[0;34m()\u001b[0m\n\u001b[0;32m----> 1\u001b[0;31m \u001b[0ms\u001b[0m\u001b[0;34m[\u001b[0m\u001b[0;36m0\u001b[0m\u001b[0;34m]\u001b[0m\u001b[0;34m=\u001b[0m \u001b[0;34m'c'\u001b[0m\u001b[0;34m\u001b[0m\u001b[0m\n\u001b[0m",
      "\u001b[0;31mTypeError\u001b[0m: 'str' object does not support item assignment"
     ]
    }
   ],
   "source": [
    "s[0]= 'c'"
   ]
  },
  {
   "cell_type": "code",
   "execution_count": null,
   "metadata": {},
   "outputs": [],
   "source": [
    "#posso generare la lista vuola\n",
    "lista = []"
   ]
  },
  {
   "cell_type": "code",
   "execution_count": null,
   "metadata": {},
   "outputs": [],
   "source": [
    "lista= list()"
   ]
  },
  {
   "cell_type": "code",
   "execution_count": null,
   "metadata": {},
   "outputs": [],
   "source": [
    "#posso costruire una lista partendo range.\n",
    "list(range(5))"
   ]
  },
  {
   "cell_type": "code",
   "execution_count": null,
   "metadata": {},
   "outputs": [],
   "source": [
    "list(range(1,5))"
   ]
  },
  {
   "cell_type": "code",
   "execution_count": null,
   "metadata": {},
   "outputs": [],
   "source": [
    "list(range(2,10,2))"
   ]
  },
  {
   "cell_type": "code",
   "execution_count": null,
   "metadata": {},
   "outputs": [],
   "source": [
    "list(range(10,0,-2))"
   ]
  },
  {
   "cell_type": "code",
   "execution_count": null,
   "metadata": {},
   "outputs": [],
   "source": [
    "#posso costruire una lista partendo da una stringa.\n",
    "list(\"ciao\")"
   ]
  },
  {
   "cell_type": "code",
   "execution_count": null,
   "metadata": {},
   "outputs": [],
   "source": [
    "#posso costruire una lista partendo da una stringa e applicando la funzione split.\n",
    "s1 = 'ciao come stai?'\n",
    "s2 = s1.split(' ') # equivalemente s1.split(\" \")\n",
    "print(s2)"
   ]
  },
  {
   "cell_type": "code",
   "execution_count": null,
   "metadata": {},
   "outputs": [],
   "source": [
    "s1 = 'anshd#sdsda#asddd#dfdf#3233#ss?'\n",
    "s2 = s1.split('#') # equivalemente s1.split(\" \")\n",
    "print(s2)"
   ]
  },
  {
   "cell_type": "code",
   "execution_count": null,
   "metadata": {},
   "outputs": [],
   "source": [
    "#Ricordatevi: in Python virgolette ' ' e doppie-virgolette \" \"  per riferirsi a stringhe sono intercambiabili. \n",
    "#Sopra infatti abbiamo usato a volte '', altre volte \"\"."
   ]
  },
  {
   "cell_type": "markdown",
   "metadata": {},
   "source": [
    "### Accedere a un elemento: **x[ indice ]**"
   ]
  },
  {
   "cell_type": "code",
   "execution_count": 49,
   "metadata": {},
   "outputs": [
    {
     "name": "stdout",
     "output_type": "stream",
     "text": [
      "il primo elemento vale:23\n",
      "l'ultimo elemento vale:65\n"
     ]
    }
   ],
   "source": [
    "x = [23,3,2,65]\n",
    "print('il primo elemento vale:'+str(x[0])) # <-- Python e molti altri linguaggi cominciano a contare da zero. \n",
    "print('l\\'ultimo elemento vale:'+str(x[-1]))"
   ]
  },
  {
   "cell_type": "markdown",
   "metadata": {},
   "source": [
    "### Slicing: x[init : end : step]"
   ]
  },
  {
   "cell_type": "code",
   "execution_count": 50,
   "metadata": {},
   "outputs": [
    {
     "data": {
      "text/plain": [
       "[3, 2]"
      ]
     },
     "execution_count": 50,
     "metadata": {},
     "output_type": "execute_result"
    }
   ],
   "source": [
    "x = [23,3,2,65]\n",
    "x[1:3] #seleziona gli elementi di indice 1 e 3 (escluso)."
   ]
  },
  {
   "cell_type": "code",
   "execution_count": 51,
   "metadata": {},
   "outputs": [
    {
     "data": {
      "text/plain": [
       "[2, 65]"
      ]
     },
     "execution_count": 51,
     "metadata": {},
     "output_type": "execute_result"
    }
   ],
   "source": [
    "x[2:] #dall'elemento di indice 2 fino alla fine. "
   ]
  },
  {
   "cell_type": "code",
   "execution_count": 52,
   "metadata": {},
   "outputs": [
    {
     "data": {
      "text/plain": [
       "[23, 3, 2]"
      ]
     },
     "execution_count": 52,
     "metadata": {},
     "output_type": "execute_result"
    }
   ],
   "source": [
    "x[:3] #dall'inizio fino all'elemento di indice 3 escluso. "
   ]
  },
  {
   "cell_type": "code",
   "execution_count": 53,
   "metadata": {},
   "outputs": [],
   "source": [
    "y = x + [6,7,8,9,10] #concatenazione"
   ]
  },
  {
   "cell_type": "code",
   "execution_count": 54,
   "metadata": {},
   "outputs": [
    {
     "name": "stdout",
     "output_type": "stream",
     "text": [
      "[23, 3, 2, 65, 6, 7, 8, 9, 10]\n"
     ]
    }
   ],
   "source": [
    "print(y)"
   ]
  },
  {
   "cell_type": "code",
   "execution_count": 55,
   "metadata": {},
   "outputs": [
    {
     "data": {
      "text/plain": [
       "[3, 65, 7]"
      ]
     },
     "execution_count": 55,
     "metadata": {},
     "output_type": "execute_result"
    }
   ],
   "source": [
    "y[1:6:2] #dall'elemento di indice 1 fino all'elemento di indice 6 (escluso), con step 2  . "
   ]
  },
  {
   "cell_type": "code",
   "execution_count": 56,
   "metadata": {},
   "outputs": [
    {
     "data": {
      "text/plain": [
       "[23, 2, 6, 8, 10]"
      ]
     },
     "execution_count": 56,
     "metadata": {},
     "output_type": "execute_result"
    }
   ],
   "source": [
    "y[::2] #dall'inizio alla fine, con step 2. "
   ]
  },
  {
   "cell_type": "code",
   "execution_count": 57,
   "metadata": {},
   "outputs": [
    {
     "data": {
      "text/plain": [
       "[10, 9, 8, 7, 6, 65, 2, 3, 23]"
      ]
     },
     "execution_count": 57,
     "metadata": {},
     "output_type": "execute_result"
    }
   ],
   "source": [
    "y[::-1] #dall'inizio alla fine, con step -1 (quindi parte dalla fine e va verso l'inizio con step 1 ) "
   ]
  },
  {
   "cell_type": "code",
   "execution_count": 58,
   "metadata": {},
   "outputs": [
    {
     "data": {
      "text/plain": [
       "[10, 7, 2]"
      ]
     },
     "execution_count": 58,
     "metadata": {},
     "output_type": "execute_result"
    }
   ],
   "source": [
    "y[::-3] #dall'inizio alla fine, con step -1 (quindi parte dalla fine e va verso l'inizio con step 3 ) "
   ]
  },
  {
   "cell_type": "markdown",
   "metadata": {},
   "source": [
    "### Operazioni sulle liste"
   ]
  },
  {
   "cell_type": "code",
   "execution_count": null,
   "metadata": {},
   "outputs": [],
   "source": [
    "[1,2]+[4,5]      # concatenazione"
   ]
  },
  {
   "cell_type": "code",
   "execution_count": null,
   "metadata": {},
   "outputs": [],
   "source": [
    "[1,2]*3          # ripetizione  concatenata"
   ]
  },
  {
   "cell_type": "code",
   "execution_count": 106,
   "metadata": {},
   "outputs": [
    {
     "name": "stdout",
     "output_type": "stream",
     "text": [
      "prima: [1, 2, 3, 4, 5, 6, 7, 8]\n",
      "dopo: [1, 4, 5, 6, 7, 8]\n"
     ]
    }
   ],
   "source": [
    "x= [1,2,3,4,5,6,7,8]\n",
    "print('prima: '+str(x))\n",
    "x[1:3]=[] #elimino gli elementi dall'indice 1 all'indice 3 (escluso)\n",
    "print('dopo: '+str(x))"
   ]
  },
  {
   "cell_type": "code",
   "execution_count": 107,
   "metadata": {},
   "outputs": [
    {
     "name": "stdout",
     "output_type": "stream",
     "text": [
      "prima: [1, 2, 3, 4, 5, 6, 7, 8]\n",
      "dopo: [1, 'ciccia', 'casa', 'pluto', 4, 5, 6, 7, 8]\n"
     ]
    }
   ],
   "source": [
    "x= [1,2,3,4,5,6,7,8]\n",
    "print('prima: '+str(x))\n",
    "x[1:3]=['ciccia','casa','pluto'] #sostituisco gli elementi dall'indice 1 all'indice 3 (escluso) con altri elementi. \n",
    "print('dopo: '+str(x))"
   ]
  },
  {
   "cell_type": "code",
   "execution_count": null,
   "metadata": {},
   "outputs": [],
   "source": [
    "x= [1,2,3,4,5,6,7,8]\n",
    "print('x='+str(x))\n",
    "print('cancello il primo elemento')\n",
    "del x[0]\n",
    "print('x='+str(x))"
   ]
  },
  {
   "cell_type": "markdown",
   "metadata": {},
   "source": [
    "### Attenzione all'operatore di assegnazione ('=') quando lavorate con oggetti mutabili. "
   ]
  },
  {
   "cell_type": "raw",
   "metadata": {},
   "source": [
    "Se assegno ad un'altra variabile una lista, non sto creando un nuovo elemento come nelle stringhe, è sempre lo stesso elemento, le due variabili puntano alla stessa lista!!!!"
   ]
  },
  {
   "cell_type": "code",
   "execution_count": 70,
   "metadata": {},
   "outputs": [
    {
     "name": "stdout",
     "output_type": "stream",
     "text": [
      "prima: l1=['a', 7, 'ciao']\n"
     ]
    }
   ],
   "source": [
    "l1 = ['a',7, 'ciao']\n",
    "print('prima: l1='+str(l1))"
   ]
  },
  {
   "cell_type": "code",
   "execution_count": 67,
   "metadata": {},
   "outputs": [],
   "source": [
    "l2=l1 # list2 ed list1 puntano alla stesso oggetto in memoria. "
   ]
  },
  {
   "cell_type": "code",
   "execution_count": 69,
   "metadata": {},
   "outputs": [
    {
     "name": "stdout",
     "output_type": "stream",
     "text": [
      "dopo: l1=['a', '123', 'ciao']\n"
     ]
    }
   ],
   "source": [
    "l2[1]='123' #tutte le modifiche che faccio su list2 le sto facendo anche su list1!!!!\n",
    "print('dopo: l1='+str(l1))"
   ]
  },
  {
   "cell_type": "raw",
   "metadata": {},
   "source": [
    "Le variabili sono puntatori all'oggetto di riferimento!!!!"
   ]
  },
  {
   "cell_type": "markdown",
   "metadata": {},
   "source": [
    "<img src=\"fig/assegnazione.png\" width=\"400\">"
   ]
  },
  {
   "cell_type": "markdown",
   "metadata": {},
   "source": [
    "### Copiare una lista: list.copy()"
   ]
  },
  {
   "cell_type": "markdown",
   "metadata": {},
   "source": [
    "<img src=\"fig/copy.png\" width=\"400\">"
   ]
  },
  {
   "cell_type": "code",
   "execution_count": 71,
   "metadata": {},
   "outputs": [
    {
     "name": "stdout",
     "output_type": "stream",
     "text": [
      "list1[0]=a\n",
      "list2[0]=b\n"
     ]
    }
   ],
   "source": [
    "list1 = ['a',7,'pippo']\n",
    "list2=list1.copy() # oppure list2=list1[:]\n",
    "list2[0]='b'\n",
    "print('list1[0]='+str(list1[0]))\n",
    "print('list2[0]='+str(list2[0]))"
   ]
  },
  {
   "cell_type": "code",
   "execution_count": 72,
   "metadata": {},
   "outputs": [
    {
     "name": "stdout",
     "output_type": "stream",
     "text": [
      "list3 e list4  puntano allo stesso oggetto? False\n"
     ]
    }
   ],
   "source": [
    "#quando si effettua la copia \n",
    "list3 = ['11',7,23]\n",
    "list4 = list3.copy()\n",
    "# list4 punta a un oggetto diverso da list3\n",
    "print('list3 e list4  puntano allo stesso oggetto? '+str( id(list4)==id(list3)))"
   ]
  },
  {
   "cell_type": "code",
   "execution_count": 9,
   "metadata": {},
   "outputs": [
    {
     "name": "stdout",
     "output_type": "stream",
     "text": [
      "list3[0] e list4[0] puntano allo stesso oggetto? True\n",
      "list3[1] e list4[1] puntano allo stesso oggetto? True\n",
      "list3[2] e list4[2] puntano allo stesso oggetto? True\n"
     ]
    }
   ],
   "source": [
    "# tuttavia al loro interno ci sono delle variabili list3[0],list3[1],list3[3], list4[0],list4[1],list4[3]\n",
    "#che puntano ai medesimi oggetti... bisogna fare attenzione se alcuni di questi oggetti sono oggetti mutabili\n",
    "# per esempio delle liste.... (vedi liste annidate!)\n",
    "for i in range(len(list3)):\n",
    "    print('list3[{}] e list4[{}] puntano allo stesso oggetto? {}'.format(i,i,id(list3[i])==id(list4[i])))"
   ]
  },
  {
   "cell_type": "markdown",
   "metadata": {},
   "source": [
    "## Attenzione alla copia di liste annidate."
   ]
  },
  {
   "cell_type": "markdown",
   "metadata": {},
   "source": [
    "<img src=\"fig/annidate.png\" width=\"450\">"
   ]
  },
  {
   "cell_type": "code",
   "execution_count": null,
   "metadata": {},
   "outputs": [],
   "source": [
    "#occhio alle liste annidate!!! \n",
    "list1 = ['a','b',['c','d']]\n",
    "list2= list1.copy()\n",
    "print('prima: list1: '+str(list1))\n",
    "print('prima: list2: '+str(list2))\n",
    "#list1 e list2 puntano ad oggetti diversi. \n",
    "print('list1 e list2 puntano ad oggetti diversi? '+str(id(list1)!=id(list2))) \n",
    "#tuttavia visto che list1[2] e list2[2] puntano a un oggetto mutabile se io lo modifico tramite list2...\n",
    "list2[2][0]='q'\n",
    "print('assegno \"q\" a list2[2][0]')\n",
    "#...la modifica la vedrò anche su list1\n",
    "print('dopo: list1: '+str(list1))\n",
    "print('dopo: list2: '+str(list2))"
   ]
  },
  {
   "cell_type": "markdown",
   "metadata": {},
   "source": [
    "### per copiare liste  annidate posso usare il deepcopy()"
   ]
  },
  {
   "cell_type": "markdown",
   "metadata": {},
   "source": [
    "<img src=\"fig/deepcopy.png\" width=\"450\">"
   ]
  },
  {
   "cell_type": "code",
   "execution_count": 73,
   "metadata": {},
   "outputs": [
    {
     "name": "stdout",
     "output_type": "stream",
     "text": [
      "prima: list1: ['a', 'b', ['c', 'd']]\n",
      "prima: list2: ['a', 'b', ['c', 'd']]\n",
      "list1 e list2 puntano ad oggetti diversi? True\n",
      "assegno \"k\" a list1[2][0]\n",
      "dopo: list1: ['a', 'b', ['c', 'd']]\n",
      "dopo: list2: ['a', 'b', ['k', 'd']]\n"
     ]
    }
   ],
   "source": [
    "import copy\n",
    "\n",
    "list1 = ['a','b',['c','d']]\n",
    "list2= copy.deepcopy(list1)\n",
    "print('prima: list1: '+str(list1))\n",
    "print('prima: list2: '+str(list2))\n",
    "#list1 e list2 puntano ad oggetti diversi. \n",
    "print('list1 e list2 puntano ad oggetti diversi? '+str(id(list1)!=id(list2))) \n",
    "list2[2][0]='k'\n",
    "print('assegno \"k\" a list1[2][0]')\n",
    "#visto che ho usato il deepcopy la modifica la vedrò solo su list2 \n",
    "print('dopo: list1: '+str(list1))\n",
    "print('dopo: list2: '+str(list2))"
   ]
  },
  {
   "cell_type": "markdown",
   "metadata": {},
   "source": [
    "## Metodi delle liste"
   ]
  },
  {
   "cell_type": "raw",
   "metadata": {},
   "source": [
    "!!!!! I metodi delle liste modificano l'oggetto di partenza !!!!"
   ]
  },
  {
   "cell_type": "code",
   "execution_count": null,
   "metadata": {},
   "outputs": [],
   "source": [
    "l3=list()\n",
    "l3"
   ]
  },
  {
   "cell_type": "code",
   "execution_count": null,
   "metadata": {},
   "outputs": [],
   "source": [
    "l4 = l3.append('casa')  ### modifica l3 ma non restituisce nessun valore"
   ]
  },
  {
   "cell_type": "code",
   "execution_count": null,
   "metadata": {},
   "outputs": [],
   "source": [
    "l3"
   ]
  },
  {
   "cell_type": "code",
   "execution_count": null,
   "metadata": {},
   "outputs": [],
   "source": [
    "l3.append(9)    # ho modificato la lista\n",
    "l3"
   ]
  },
  {
   "cell_type": "code",
   "execution_count": null,
   "metadata": {},
   "outputs": [],
   "source": [
    "l2"
   ]
  },
  {
   "cell_type": "code",
   "execution_count": null,
   "metadata": {},
   "outputs": [],
   "source": [
    "l2=l2*2         # ho creato una nuova lista"
   ]
  },
  {
   "cell_type": "code",
   "execution_count": null,
   "metadata": {},
   "outputs": [],
   "source": [
    "l2"
   ]
  },
  {
   "cell_type": "code",
   "execution_count": null,
   "metadata": {},
   "outputs": [],
   "source": [
    "l2[0]='ciao'\n",
    "l2"
   ]
  },
  {
   "cell_type": "code",
   "execution_count": null,
   "metadata": {},
   "outputs": [],
   "source": [
    "l2[2][0]='giuseppe'\n",
    "l2"
   ]
  },
  {
   "cell_type": "code",
   "execution_count": 108,
   "metadata": {},
   "outputs": [
    {
     "data": {
      "text/plain": [
       "['a', 'b', 'c']"
      ]
     },
     "execution_count": 108,
     "metadata": {},
     "output_type": "execute_result"
    }
   ],
   "source": [
    "l4=['a','b','c']\n",
    "l4\n"
   ]
  },
  {
   "cell_type": "code",
   "execution_count": 109,
   "metadata": {},
   "outputs": [],
   "source": [
    "ele1= l4.pop()"
   ]
  },
  {
   "cell_type": "code",
   "execution_count": 110,
   "metadata": {},
   "outputs": [
    {
     "data": {
      "text/plain": [
       "'c'"
      ]
     },
     "execution_count": 110,
     "metadata": {},
     "output_type": "execute_result"
    }
   ],
   "source": [
    "ele1"
   ]
  },
  {
   "cell_type": "code",
   "execution_count": 111,
   "metadata": {},
   "outputs": [
    {
     "data": {
      "text/plain": [
       "['a', 'b']"
      ]
     },
     "execution_count": 111,
     "metadata": {},
     "output_type": "execute_result"
    }
   ],
   "source": [
    "l4"
   ]
  },
  {
   "cell_type": "code",
   "execution_count": 112,
   "metadata": {},
   "outputs": [],
   "source": [
    "ele2 = l4.pop(0)"
   ]
  },
  {
   "cell_type": "code",
   "execution_count": 113,
   "metadata": {},
   "outputs": [
    {
     "data": {
      "text/plain": [
       "'a'"
      ]
     },
     "execution_count": 113,
     "metadata": {},
     "output_type": "execute_result"
    }
   ],
   "source": [
    "ele2"
   ]
  },
  {
   "cell_type": "code",
   "execution_count": 114,
   "metadata": {},
   "outputs": [
    {
     "data": {
      "text/plain": [
       "['b']"
      ]
     },
     "execution_count": 114,
     "metadata": {},
     "output_type": "execute_result"
    }
   ],
   "source": [
    "l4"
   ]
  },
  {
   "cell_type": "code",
   "execution_count": 115,
   "metadata": {},
   "outputs": [
    {
     "data": {
      "text/plain": [
       "[1, 2, 3, 4, 5, 6]"
      ]
     },
     "execution_count": 115,
     "metadata": {},
     "output_type": "execute_result"
    }
   ],
   "source": [
    "l5 = [1,2,3]\n",
    "l6=[4,5,6]\n",
    "l5=l5+l6\n",
    "l5"
   ]
  },
  {
   "cell_type": "code",
   "execution_count": 116,
   "metadata": {},
   "outputs": [
    {
     "data": {
      "text/plain": [
       "[1, 2, 3, 4, 5, 6]"
      ]
     },
     "execution_count": 116,
     "metadata": {},
     "output_type": "execute_result"
    }
   ],
   "source": [
    "l5 = [1,2,3]\n",
    "l6=[4,5,6]\n",
    "l5.extend(l6)\n",
    "l5"
   ]
  },
  {
   "cell_type": "code",
   "execution_count": 117,
   "metadata": {},
   "outputs": [
    {
     "data": {
      "text/plain": [
       "[1, 2, 3, 4, 5, 6, 4, 5, 6]"
      ]
     },
     "execution_count": 117,
     "metadata": {},
     "output_type": "execute_result"
    }
   ],
   "source": [
    "l5.extend(l6)\n",
    "l5"
   ]
  },
  {
   "cell_type": "code",
   "execution_count": 120,
   "metadata": {},
   "outputs": [],
   "source": [
    "x=[3,4,67,88,900,2,1,124,5]"
   ]
  },
  {
   "cell_type": "code",
   "execution_count": 123,
   "metadata": {},
   "outputs": [
    {
     "data": {
      "text/plain": [
       "[1, 2, 5, 67, 88, 124, 900]"
      ]
     },
     "execution_count": 123,
     "metadata": {},
     "output_type": "execute_result"
    }
   ],
   "source": [
    "x.sort()\n",
    "x"
   ]
  },
  {
   "cell_type": "code",
   "execution_count": 124,
   "metadata": {},
   "outputs": [
    {
     "data": {
      "text/plain": [
       "[2, 5, 67, 88, 124, 900]"
      ]
     },
     "execution_count": 124,
     "metadata": {},
     "output_type": "execute_result"
    }
   ],
   "source": [
    "del x[0]\n",
    "x"
   ]
  },
  {
   "cell_type": "code",
   "execution_count": 126,
   "metadata": {},
   "outputs": [
    {
     "data": {
      "text/plain": [
       "6"
      ]
     },
     "execution_count": 126,
     "metadata": {},
     "output_type": "execute_result"
    }
   ],
   "source": [
    "len(x)  # lunghezza"
   ]
  },
  {
   "cell_type": "code",
   "execution_count": 125,
   "metadata": {},
   "outputs": [
    {
     "data": {
      "text/plain": [
       "4561482952"
      ]
     },
     "execution_count": 125,
     "metadata": {},
     "output_type": "execute_result"
    }
   ],
   "source": [
    "id(x)  #indirizzo di memoria dell'oggetto"
   ]
  },
  {
   "cell_type": "code",
   "execution_count": 153,
   "metadata": {},
   "outputs": [
    {
     "data": {
      "text/plain": [
       "4524773872"
      ]
     },
     "execution_count": 153,
     "metadata": {},
     "output_type": "execute_result"
    }
   ],
   "source": [
    "id('4')"
   ]
  },
  {
   "cell_type": "code",
   "execution_count": 156,
   "metadata": {},
   "outputs": [
    {
     "data": {
      "text/plain": [
       "4562086088"
      ]
     },
     "execution_count": 156,
     "metadata": {},
     "output_type": "execute_result"
    }
   ],
   "source": [
    "id(['4'])"
   ]
  },
  {
   "cell_type": "markdown",
   "metadata": {},
   "source": [
    "### La funzione split \n",
    "è essenziale se dovete analizzare dei testi"
   ]
  },
  {
   "cell_type": "code",
   "execution_count": null,
   "metadata": {},
   "outputs": [],
   "source": [
    "s ='Oggi il sole splende nel cielo. Domani pioverà? Chissà chi può saperlo veramente!'"
   ]
  },
  {
   "cell_type": "code",
   "execution_count": null,
   "metadata": {},
   "outputs": [],
   "source": [
    "print(s.split( ))\n"
   ]
  },
  {
   "cell_type": "code",
   "execution_count": null,
   "metadata": {},
   "outputs": [],
   "source": [
    "s.split('.')"
   ]
  },
  {
   "cell_type": "code",
   "execution_count": null,
   "metadata": {},
   "outputs": [],
   "source": [
    "x='[1,2,34,5,]'\n",
    "x.split(',')"
   ]
  },
  {
   "cell_type": "code",
   "execution_count": null,
   "metadata": {},
   "outputs": [],
   "source": []
  },
  {
   "cell_type": "markdown",
   "metadata": {},
   "source": [
    "## File"
   ]
  },
  {
   "cell_type": "markdown",
   "metadata": {},
   "source": [
    "I file hanno dei caratteri che formattano il testo, questi caratteri fanno parte del file.\n",
    "La riga è l'elemento atomico che noi possiamo gestire in un file. Di solito un file viene letto per riga. I caratteri devono essere codificati.\n",
    "Caratteri ASCII 1 byte, UNICODE 1 o 2 o più. In Europa molto usato l'\"UTF-8\", che se codifica caratteri li memorizza sempre con la memoria dell'ASCII.\n",
    "Noi useremo encoding=\"UTF-8\", ma non è detto che vi capitano pagine che non si riescano a codificare con l'encoding con UTF-8."
   ]
  },
  {
   "cell_type": "raw",
   "metadata": {},
   "source": [
    "open(file, mode='r', buffering=-1, encoding=None, errors=None, newline=None, closefd=True, opener=None)"
   ]
  },
  {
   "cell_type": "code",
   "execution_count": 37,
   "metadata": {},
   "outputs": [
    {
     "data": {
      "text/plain": [
       "<_io.TextIOWrapper name='Esempi/provaTesto.txt' mode='r' encoding='utf-8'>"
      ]
     },
     "execution_count": 37,
     "metadata": {},
     "output_type": "execute_result"
    }
   ],
   "source": [
    "open(\"Esempi/provaTesto.txt\",encoding='utf-8')"
   ]
  },
  {
   "cell_type": "code",
   "execution_count": 41,
   "metadata": {},
   "outputs": [],
   "source": [
    "f = open(\"Esempi/provaTesto.txt\", encoding='utf-8')"
   ]
  },
  {
   "cell_type": "code",
   "execution_count": 42,
   "metadata": {},
   "outputs": [
    {
     "data": {
      "text/plain": [
       "'I file hanno dei caratteri che formattano il testo, questi caratteri fanno parte del file. \\nLa riga è l\\'elemento atomico che noi possiamo gestire in un file. Di solito un file viene letto per riga. I caratteri devono essere codificati.\\n\\nCaratteri ASCII 1 byte, UNICODE 1 o 2 o più. In europa molto usato l\\'\"UTF-8\", che se codifica caratteri semplici li memorizza con la memoria dell\\'ASCII.\\nNon è detto che vi capitano pagine che non si riescano a codificare con l\\'encoding con UTF-8. \\n* + ù ∑†\\xa0∞¨©™®™©æ §\\ns\\ns\\ns\\ns\\n'"
      ]
     },
     "execution_count": 42,
     "metadata": {},
     "output_type": "execute_result"
    }
   ],
   "source": [
    "s = f.read()\n",
    "s"
   ]
  },
  {
   "cell_type": "code",
   "execution_count": 43,
   "metadata": {},
   "outputs": [
    {
     "name": "stdout",
     "output_type": "stream",
     "text": [
      "I file hanno dei caratteri che formattano il testo, questi caratteri fanno parte del file. \n",
      "La riga è l'elemento atomico che noi possiamo gestire in un file. Di solito un file viene letto per riga. I caratteri devono essere codificati.\n",
      "\n",
      "Caratteri ASCII 1 byte, UNICODE 1 o 2 o più. In europa molto usato l'\"UTF-8\", che se codifica caratteri semplici li memorizza con la memoria dell'ASCII.\n",
      "Non è detto che vi capitano pagine che non si riescano a codificare con l'encoding con UTF-8. \n",
      "* + ù ∑† ∞¨©™®™©æ §\n",
      "s\n",
      "s\n",
      "s\n",
      "s\n",
      "\n"
     ]
    }
   ],
   "source": [
    "print(s)"
   ]
  },
  {
   "cell_type": "code",
   "execution_count": 44,
   "metadata": {},
   "outputs": [],
   "source": [
    "f.close()"
   ]
  },
  {
   "cell_type": "code",
   "execution_count": 45,
   "metadata": {},
   "outputs": [
    {
     "ename": "ValueError",
     "evalue": "I/O operation on closed file.",
     "output_type": "error",
     "traceback": [
      "\u001b[0;31m---------------------------------------------------------------------------\u001b[0m",
      "\u001b[0;31mValueError\u001b[0m                                Traceback (most recent call last)",
      "\u001b[0;32m<ipython-input-45-bacd0e0f09a3>\u001b[0m in \u001b[0;36m<module>\u001b[0;34m()\u001b[0m\n\u001b[0;32m----> 1\u001b[0;31m \u001b[0mf\u001b[0m\u001b[0;34m.\u001b[0m\u001b[0mread\u001b[0m\u001b[0;34m(\u001b[0m\u001b[0;34m)\u001b[0m\u001b[0;34m\u001b[0m\u001b[0m\n\u001b[0m",
      "\u001b[0;31mValueError\u001b[0m: I/O operation on closed file."
     ]
    }
   ],
   "source": [
    "f.read()"
   ]
  },
  {
   "cell_type": "raw",
   "metadata": {},
   "source": [
    "!!!Tutto quello che avete imparato sulle liste potete applicarlo sui file!!!"
   ]
  },
  {
   "cell_type": "code",
   "execution_count": 46,
   "metadata": {},
   "outputs": [
    {
     "data": {
      "text/plain": [
       "True"
      ]
     },
     "execution_count": 46,
     "metadata": {},
     "output_type": "execute_result"
    }
   ],
   "source": [
    "'un' in s"
   ]
  },
  {
   "cell_type": "code",
   "execution_count": 50,
   "metadata": {},
   "outputs": [
    {
     "data": {
      "text/plain": [
       "'I file hanno dei caratteri che formattano il testo, questi caratteri fanno parte del file. \\n'"
      ]
     },
     "execution_count": 50,
     "metadata": {},
     "output_type": "execute_result"
    }
   ],
   "source": [
    "f = open(\"Esempi/provaTesto.txt\",encoding='utf-8')\n",
    "f.readline()"
   ]
  },
  {
   "cell_type": "code",
   "execution_count": 49,
   "metadata": {},
   "outputs": [
    {
     "data": {
      "text/plain": [
       "[\"La riga è l'elemento atomico che noi possiamo gestire in un file. Di solito un file viene letto per riga. I caratteri devono essere codificati.\\n\",\n",
       " '\\n',\n",
       " 'Caratteri ASCII 1 byte, UNICODE 1 o 2 o più. In europa molto usato l\\'\"UTF-8\", che se codifica caratteri semplici li memorizza con la memoria dell\\'ASCII.\\n',\n",
       " \"Non è detto che vi capitano pagine che non si riescano a codificare con l'encoding con UTF-8. \\n\",\n",
       " '* + ù ∑†\\xa0∞¨©™®™©æ §\\n',\n",
       " 's\\n',\n",
       " 's\\n',\n",
       " 's\\n',\n",
       " 's\\n']"
      ]
     },
     "execution_count": 49,
     "metadata": {},
     "output_type": "execute_result"
    }
   ],
   "source": [
    "s2=f.readlines()\n",
    "s2"
   ]
  },
  {
   "cell_type": "raw",
   "metadata": {},
   "source": [
    "Quindi f.read() costruisce una stringa mentre f.readlines() mi da una lista, la scelta dipenderà da quello che dovete fare! Un terzo modo è usare il for"
   ]
  },
  {
   "cell_type": "code",
   "execution_count": 51,
   "metadata": {},
   "outputs": [
    {
     "name": "stdout",
     "output_type": "stream",
     "text": [
      "0 I file hanno dei caratteri che formattano il testo, questi caratteri fanno parte del file. \n",
      "\n",
      "1 La riga è l'elemento atomico che noi possiamo gestire in un file. Di solito un file viene letto per riga. I caratteri devono essere codificati.\n",
      "\n",
      "2 \n",
      "\n",
      "3 Caratteri ASCII 1 byte, UNICODE 1 o 2 o più. In europa molto usato l'\"UTF-8\", che se codifica caratteri semplici li memorizza con la memoria dell'ASCII.\n",
      "\n",
      "4 Non è detto che vi capitano pagine che non si riescano a codificare con l'encoding con UTF-8. \n",
      "\n",
      "5 * + ù ∑† ∞¨©™®™©æ §\n",
      "\n",
      "6 s\n",
      "\n",
      "7 s\n",
      "\n",
      "8 s\n",
      "\n",
      "9 s\n",
      "\n"
     ]
    }
   ],
   "source": [
    "# leggo il file per riga usando un ciclo for\n",
    "f = open(\"Esempi/provaTesto.txt\",encoding='utf-8')\n",
    "i=0\n",
    "for riga in f:\n",
    "    print(i,riga)      \n",
    "    i=i+1\n",
    "f.close()"
   ]
  },
  {
   "cell_type": "code",
   "execution_count": null,
   "metadata": {},
   "outputs": [],
   "source": [
    "f = open(\"Esempi/provaTesto.txt\")\n",
    "for i in range(5):\n",
    "    print(i)\n",
    "    print(f.read(20))\n",
    "    "
   ]
  },
  {
   "cell_type": "code",
   "execution_count": null,
   "metadata": {},
   "outputs": [],
   "source": [
    "f.read()"
   ]
  },
  {
   "cell_type": "code",
   "execution_count": null,
   "metadata": {},
   "outputs": [],
   "source": [
    "f.read()"
   ]
  },
  {
   "cell_type": "code",
   "execution_count": 52,
   "metadata": {},
   "outputs": [],
   "source": [
    "f = open(\"Esempi/provaTesto.txt\",encoding='utf-8')"
   ]
  },
  {
   "cell_type": "code",
   "execution_count": 53,
   "metadata": {},
   "outputs": [],
   "source": [
    "#  funzione che legge per riga un file\n",
    "def stampa(testo):\n",
    "    i=0\n",
    "    for riga in testo:\n",
    "        print(i,riga)      \n",
    "        i=i+1"
   ]
  },
  {
   "cell_type": "code",
   "execution_count": 55,
   "metadata": {},
   "outputs": [
    {
     "name": "stdout",
     "output_type": "stream",
     "text": [
      "0 I file hanno dei caratteri che formattano il testo, questi caratteri fanno parte del file. \n",
      "\n",
      "1 La riga è l'elemento atomico che noi possiamo gestire in un file. Di solito un file viene letto per riga. I caratteri devono essere codificati.\n",
      "\n",
      "2 \n",
      "\n",
      "3 Caratteri ASCII 1 byte, UNICODE 1 o 2 o più. In europa molto usato l'\"UTF-8\", che se codifica caratteri semplici li memorizza con la memoria dell'ASCII.\n",
      "\n",
      "4 Non è detto che vi capitano pagine che non si riescano a codificare con l'encoding con UTF-8. \n",
      "\n",
      "5 * + ù ∑† ∞¨©™®™©æ §\n",
      "\n",
      "6 s\n",
      "\n",
      "7 s\n",
      "\n",
      "8 s\n",
      "\n",
      "9 s\n",
      "\n"
     ]
    }
   ],
   "source": [
    "stampa(open(\"Esempi/provaTesto.txt\",encoding='utf-8'))"
   ]
  },
  {
   "cell_type": "code",
   "execution_count": 56,
   "metadata": {},
   "outputs": [
    {
     "name": "stdout",
     "output_type": "stream",
     "text": [
      "0 1\n",
      "1 cia\n",
      "2 4.3\n",
      "3 [3, 4, 5]\n"
     ]
    }
   ],
   "source": [
    "stampa([1,'cia',4.3,[3,4,5]])"
   ]
  },
  {
   "cell_type": "markdown",
   "metadata": {},
   "source": [
    "Usando read a split posso crearmi una lista in cui ogni elemento della lista è una parola?\n"
   ]
  },
  {
   "cell_type": "code",
   "execution_count": 57,
   "metadata": {},
   "outputs": [
    {
     "name": "stdout",
     "output_type": "stream",
     "text": [
      "['I', 'file', 'hanno', 'dei', 'caratteri', 'che', 'formattano', 'il', 'testo,', 'questi', 'caratteri', 'fanno', 'parte', 'del', 'file.', 'La', 'riga', 'è', \"l'elemento\", 'atomico', 'che', 'noi', 'possiamo', 'gestire', 'in', 'un', 'file.', 'Di', 'solito', 'un', 'file', 'viene', 'letto', 'per', 'riga.', 'I', 'caratteri', 'devono', 'essere', 'codificati.', 'Caratteri', 'ASCII', '1', 'byte,', 'UNICODE', '1', 'o', '2', 'o', 'più.', 'In', 'europa', 'molto', 'usato', 'l\\'\"UTF-8\",', 'che', 'se', 'codifica', 'caratteri', 'semplici', 'li', 'memorizza', 'con', 'la', 'memoria', \"dell'ASCII.\", 'Non', 'è', 'detto', 'che', 'vi', 'capitano', 'pagine', 'che', 'non', 'si', 'riescano', 'a', 'codificare', 'con', \"l'encoding\", 'con', 'UTF-8.', '*', '+', 'ù', '∑†', '∞¨©™®™©æ', '§', 's', 's', 's', 's']\n"
     ]
    }
   ],
   "source": [
    "f = open(\"Esempi/provaTesto.txt\",encoding='utf-8')\n",
    "s = f.read()\n",
    "l = s.split()\n",
    "print(l)"
   ]
  },
  {
   "cell_type": "code",
   "execution_count": null,
   "metadata": {},
   "outputs": [],
   "source": []
  },
  {
   "cell_type": "markdown",
   "metadata": {},
   "source": [
    "### Tipi di memorizzazione per stringa ed intero\n",
    "\n",
    "In C ed in Java variabile va sempre dichiarata con il tipo, eg int x = 5\n",
    "\n",
    "Variabile corrisponde ad un indirizzo di memoria a cui è associato un numero finito di bit (a parte per gli interi di python)\n"
   ]
  },
  {
   "cell_type": "code",
   "execution_count": 162,
   "metadata": {},
   "outputs": [
    {
     "data": {
      "text/plain": [
       "49"
      ]
     },
     "execution_count": 162,
     "metadata": {},
     "output_type": "execute_result"
    }
   ],
   "source": [
    "ord('1')   #  posizione (Unicode code point) perstringhe di un carattere"
   ]
  },
  {
   "cell_type": "code",
   "execution_count": 9,
   "metadata": {},
   "outputs": [
    {
     "data": {
      "text/plain": [
       "'p'"
      ]
     },
     "execution_count": 9,
     "metadata": {},
     "output_type": "execute_result"
    }
   ],
   "source": [
    "chr(112)  # carattere salvato in posizione 112"
   ]
  },
  {
   "cell_type": "code",
   "execution_count": null,
   "metadata": {},
   "outputs": [],
   "source": [
    "chr(ord('a'))"
   ]
  },
  {
   "cell_type": "markdown",
   "metadata": {},
   "source": [
    "### Aprire ed eseguire uno script python"
   ]
  },
  {
   "cell_type": "code",
   "execution_count": 59,
   "metadata": {},
   "outputs": [
    {
     "name": "stdout",
     "output_type": "stream",
     "text": [
      "ciao\n"
     ]
    }
   ],
   "source": [
    "# Per richiamare uno script python usare exec(open('path/nomefile.py').read())\n",
    "# leggere un file attenzione al path dove avete salvato il file\n",
    "exec(open('Esempi/provaProg.py',encoding='utf-8').read())"
   ]
  }
 ],
 "metadata": {
  "kernelspec": {
   "display_name": "Python 3",
   "language": "python",
   "name": "python3"
  },
  "language_info": {
   "codemirror_mode": {
    "name": "ipython",
    "version": 3
   },
   "file_extension": ".py",
   "mimetype": "text/x-python",
   "name": "python",
   "nbconvert_exporter": "python",
   "pygments_lexer": "ipython3",
   "version": "3.6.1"
  }
 },
 "nbformat": 4,
 "nbformat_minor": 2
}
