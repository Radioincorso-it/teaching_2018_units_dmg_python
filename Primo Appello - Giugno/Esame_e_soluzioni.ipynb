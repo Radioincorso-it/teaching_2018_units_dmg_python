{
 "cells": [
  {
   "cell_type": "markdown",
   "metadata": {},
   "source": [
    "### Soluzioni Primo Appello\n",
    "Di seguito trovate le soluzioni di una delle due tracce proposte. Le differenze sono minime e non ha molto senso riportare entrambe le soluzioni.\n",
    "Il prossimo appello sarà tra il 1 e il 15 luglio, verosimilmente il 5 luglio alle ore 17:00.\n",
    "Discutete tra di voi se preferite un altro giorno e mandatemi una mail.  \n",
    "Pubblicherò la data ufficiale la prossima settimana in un'apposita cartella di questo sito. "
   ]
  },
  {
   "cell_type": "code",
   "execution_count": null,
   "metadata": {},
   "outputs": [],
   "source": [
    "#Esercizio 1 (Peso 1)\n",
    "#usare la list comprehension per definire tutte le triple di numeri (a,b,c) tali che a assuma valori in [0,26]\n",
    "#b in [12,58] e c in [58,127]  e a+b+c è multiplo di 13.\n",
    "triple = [(a,b,c) for a in range(0,27) for b in range(12,59) for c in range(58,128) if (a+b+c)%13==0]\n",
    "print(triple)"
   ]
  },
  {
   "cell_type": "code",
   "execution_count": null,
   "metadata": {},
   "outputs": [],
   "source": [
    "#Esercizio 2 (Peso 2)\n",
    "#definire una funzione che prenda in input tre numeri interi a, b e N e generi una lista di N numeri randomici\n",
    "# compresi tra a e b (incluso). \n",
    "#Se a è maggiore di b la funzione ritorna una stringa con scritto \"Errore a deve essere minore o uguale a b\". \n",
    "#Se N è negativo la funzione ritorna una stringa con scritto \"Errore N deve essere positivo\". \n",
    "#Se N è zero la funzione ritorna la lista vuota. \n",
    "#diamo per scontato che a e b siano numeri positivi (maggiori uguali a zero)\n",
    "#esempio: \n",
    "#esercizio2(2,7,5) -> [2,7,3,6,5]\n",
    "#esercizio2(2,2,5) -> [2,2,2,2,2]\n",
    "#esercizio2(3,2,5) -> \"Errore a deve essere minore o uguale a b\"\n",
    "#esercizio2(3,2,0) -> \"Errore a deve essere minore o uguale a b\"\n",
    "#esercizio2(2,2,0) -> []\n",
    "\n",
    "import random\n",
    "\n",
    "def esercizio2(a,b,n):\n",
    "    if a>b:\n",
    "        return \"Errore a deve essere minore o uguale a b\"\n",
    "    if n<0:\n",
    "        return \"Errore N deve essere positivo\"\n",
    "    if n==0:\n",
    "        return []\n",
    "    return [random.randint(a,b) for i in range(n)]\n",
    "\n",
    "print(esercizio2(2,7,5))\n",
    "print(esercizio2(2,2,5))\n",
    "print(esercizio2(3,2,5))\n",
    "print(esercizio2(3,2,-1))\n",
    "print(esercizio2(2,2,0))\n",
    "print(esercizio2(2,7,-1))"
   ]
  },
  {
   "cell_type": "code",
   "execution_count": null,
   "metadata": {},
   "outputs": [],
   "source": [
    "#Esercizio 3 (Peso 2)\n",
    "#definire una funzione ricorsiva che implementi la seguente successione: \n",
    "# a_0 = 1\n",
    "# a_n = 3*a_{n-1} +1\n",
    "\n",
    "def esercizio3(n):\n",
    "    if n==0:\n",
    "        return 1\n",
    "    return 3*esercizio3(n-1)+1\n",
    "\n",
    "esercizio3(2)"
   ]
  },
  {
   "cell_type": "code",
   "execution_count": null,
   "metadata": {},
   "outputs": [],
   "source": [
    "#Esercizio 4 (Peso 2)\n",
    "#definire una funzione che prende in input un dizionario contenente il nome di un oggetto rettangolare, memorizzato nella chiave 'nome'\n",
    "#i valori della base e dell'altezza, memorizzati rispettivamente nelle chiavi 'base' e 'altezza'. \n",
    "#Come output la funzione stampa a schermo \"l'oggetto <nome dell' oggetto>\" è troppo grande\" se l'area è maggiore o uguale a 1024, \n",
    "#\"l'oggetto <nome dell' oggetto> è troppo piccolo\" viceversa. \n",
    "\n",
    "def esercizio4(d):\n",
    "    if d['base']*d['altezza']>=1024:\n",
    "        print(\"l'oggetto {} è troppo grande\".format(d['nome']))\n",
    "    else:\n",
    "        print(\"l'oggetto {} è troppo piccolo\".format(d['nome']))\n",
    "\n",
    "dizionario={'nome':'rettangolo', 'base':10,'altezza':11}\n",
    "esercizio4(dizionario)"
   ]
  },
  {
   "cell_type": "code",
   "execution_count": null,
   "metadata": {},
   "outputs": [],
   "source": [
    "#Esercizio 5 (peso 3)\n",
    "#definire una funzione che prende in input una <frase> (insieme di parole distanziate da uno spazio) \n",
    "#e una <lettera> e ritorna come output, \n",
    "# un dizionario con 2 chiavi: \"parola_corta\" con valore la parola che inizia con <lettera> di lunghezza minore,\n",
    "# e \"parola_lunga\" con valore la parola di lunghezza maggiore che termina con <lettera>. A parità di lunghezza si preferisce la\n",
    "# prima parola individuata. Se non esiste una parola soddisfacente tali requisiti per una o per l'altra chiave, \n",
    "# il valore da memorizzare nel dizionario è None\n",
    "#esempio: \n",
    "#frase = \"come è bello il mare a trieste pinguetudine bollo\"\n",
    "#esercizio5(frase,\"e\") -> {\"parola_corta\": None, \"parola_lunga\":\"pinguetudine\"}\n",
    "#esercizio5(frase,\"b\") -> {\"parola_corta\": \"bello\", \"parola_lunga\":None}\n",
    "\n",
    "def esercizio5(frase,lettera):\n",
    "    parola_corta=None \n",
    "    parola_lunga=None\n",
    "    parole=frase.split()\n",
    "    for parola in parole:\n",
    "        if lettera==parola[0]:\n",
    "            if parola_corta==None:\n",
    "                parola_corta=parola\n",
    "            elif len(parola)<len(parola_corta):\n",
    "                parola_corta=parola\n",
    "        elif lettera==parola[-1]:\n",
    "            if parola_lunga==None:\n",
    "                parola_lunga=parola\n",
    "            elif len(parola)>len(parola_lunga):\n",
    "                parola_lunga=parola\n",
    "    return {'parola_corta':parola_corta,'parola_lunga':parola_lunga}\n",
    "\n",
    "frase = \"come è bello il mare a trieste pinguetudine bollo\"\n",
    "\n",
    "print(esercizio5(frase,\"e\"))\n",
    "print(esercizio5(frase,\"b\"))"
   ]
  },
  {
   "cell_type": "code",
   "execution_count": null,
   "metadata": {},
   "outputs": [],
   "source": []
  }
 ],
 "metadata": {
  "kernelspec": {
   "display_name": "Python 3",
   "language": "python",
   "name": "python3"
  },
  "language_info": {
   "codemirror_mode": {
    "name": "ipython",
    "version": 3
   },
   "file_extension": ".py",
   "mimetype": "text/x-python",
   "name": "python",
   "nbconvert_exporter": "python",
   "pygments_lexer": "ipython3",
   "version": "3.6.2"
  }
 },
 "nbformat": 4,
 "nbformat_minor": 2
}
