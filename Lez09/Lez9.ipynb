{
 "cells": [
  {
   "cell_type": "markdown",
   "metadata": {},
   "source": [
    "# Lez 9"
   ]
  },
  {
   "cell_type": "markdown",
   "metadata": {},
   "source": [
    "## Recap Lez 7 (teoria)\n",
    "* string.format()\n",
    "* liste\n",
    "* copiare una lista\n",
    "* liste annidate\n",
    "* copy vs  deepcopy di una lista\n",
    "* leggere file"
   ]
  },
  {
   "cell_type": "markdown",
   "metadata": {},
   "source": [
    "## File"
   ]
  },
  {
   "cell_type": "markdown",
   "metadata": {},
   "source": [
    "### Aprire ed eseguire uno script python"
   ]
  },
  {
   "cell_type": "code",
   "execution_count": null,
   "metadata": {},
   "outputs": [],
   "source": [
    "# Per richiamare uno script python usare exec(open('path/nomefile.py').read())\n",
    "# leggere un file attenzione al path dove avete salvato il file\n",
    "exec(open('Esempi/provaProg.py',encoding='utf-8').read())"
   ]
  },
  {
   "cell_type": "markdown",
   "metadata": {},
   "source": [
    "### Scrivere un file"
   ]
  },
  {
   "cell_type": "code",
   "execution_count": null,
   "metadata": {
    "collapsed": true
   },
   "outputs": [],
   "source": [
    "f=open('provaScrittura.txt','w',encoding='utf-8')"
   ]
  },
  {
   "cell_type": "code",
   "execution_count": null,
   "metadata": {},
   "outputs": [],
   "source": [
    "f.write('Adesso ti scrivo un file e questa cosa è proprio incredibile!!')\n",
    "# la funzione ritorna il numero di caratteri scritti"
   ]
  },
  {
   "cell_type": "code",
   "execution_count": null,
   "metadata": {
    "collapsed": true
   },
   "outputs": [],
   "source": [
    "f.close()"
   ]
  },
  {
   "cell_type": "code",
   "execution_count": null,
   "metadata": {
    "collapsed": true
   },
   "outputs": [],
   "source": [
    "f=open('provaScrittura.txt',encoding='utf-8')"
   ]
  },
  {
   "cell_type": "code",
   "execution_count": null,
   "metadata": {},
   "outputs": [],
   "source": [
    "f.read()"
   ]
  },
  {
   "cell_type": "code",
   "execution_count": null,
   "metadata": {},
   "outputs": [],
   "source": [
    "f.closed"
   ]
  },
  {
   "cell_type": "code",
   "execution_count": null,
   "metadata": {
    "collapsed": true
   },
   "outputs": [],
   "source": [
    "f.close()"
   ]
  },
  {
   "cell_type": "code",
   "execution_count": null,
   "metadata": {},
   "outputs": [],
   "source": [
    "with open(\"example.txt\", \"w\",encoding='utf-8') as file: #file è una variabile che si riferisce al file testuale (examples.txt) che ho creato \n",
    "    file.write(\"ciao\\ncome va?\\n\")           # nella cartella files in modalità di lettura (\"w\") "
   ]
  },
  {
   "cell_type": "code",
   "execution_count": null,
   "metadata": {},
   "outputs": [],
   "source": [
    "f.closed"
   ]
  },
  {
   "cell_type": "code",
   "execution_count": null,
   "metadata": {},
   "outputs": [],
   "source": [
    "with open('example.txt',encoding='utf-8') as file: \n",
    "    s=file.read()\n",
    "print(s)"
   ]
  },
  {
   "cell_type": "code",
   "execution_count": null,
   "metadata": {},
   "outputs": [],
   "source": [
    "with open(\"example.txt\", \"a\",encoding='utf-8')as file:\n",
    "    file.write(\"Io bene e tu?\\n\")"
   ]
  },
  {
   "cell_type": "code",
   "execution_count": null,
   "metadata": {},
   "outputs": [],
   "source": [
    "with open('example.txt',encoding='utf-8') as file: \n",
    "    s=file.read()\n",
    "print(s)"
   ]
  },
  {
   "cell_type": "markdown",
   "metadata": {},
   "source": [
    "## Tuple\n",
    "Sono liste di valori separati da virgole. Non è necessaria ma è convenzionale racchiuderle fra parentesi tonde.\n",
    "\n",
    "Sono immutabili!!!"
   ]
  },
  {
   "cell_type": "code",
   "execution_count": null,
   "metadata": {},
   "outputs": [],
   "source": [
    "vuota = () #vuota = tuple()\n",
    "type(vuota)"
   ]
  },
  {
   "cell_type": "code",
   "execution_count": null,
   "metadata": {},
   "outputs": [],
   "source": [
    "tupla = (2,)\n",
    "type(vuota)\n",
    "type(vuota), tupla"
   ]
  },
  {
   "cell_type": "code",
   "execution_count": null,
   "metadata": {},
   "outputs": [],
   "source": [
    "tupla = 2,\n",
    "type(vuota), tupla"
   ]
  },
  {
   "cell_type": "code",
   "execution_count": null,
   "metadata": {},
   "outputs": [],
   "source": [
    "#accesso a un elemento\n",
    "tupla=(4,5,6)\n",
    "tupla[0]"
   ]
  },
  {
   "cell_type": "code",
   "execution_count": null,
   "metadata": {},
   "outputs": [],
   "source": [
    "#le tuple sono immutabili\n",
    "tupla=(4,5,6)\n",
    "tupla[0]=5"
   ]
  },
  {
   "cell_type": "code",
   "execution_count": null,
   "metadata": {},
   "outputs": [],
   "source": [
    "# diciamo che voglio cambiare il primo elemento della tupla, come faccio? \n",
    "# tupla=(4,5,6) -> tupla=(5,5,6)\n",
    "#init code here\n",
    "tupla2 = (5,)+ tupla[1:]   #creo una nuova tupla\n",
    "#end core\n",
    "tupla2"
   ]
  },
  {
   "cell_type": "code",
   "execution_count": null,
   "metadata": {},
   "outputs": [],
   "source": [
    "#cose utili\n",
    "(a,b,c) = (1,2,3)\n",
    "print('a =', a)\n",
    "print('b =', b)\n",
    "print('c =', c)\n",
    "print((a,b,c))"
   ]
  },
  {
   "cell_type": "markdown",
   "metadata": {},
   "source": [
    "### Esercizio insieme: \"swap the values\"  - superhero mode"
   ]
  },
  {
   "cell_type": "code",
   "execution_count": null,
   "metadata": {},
   "outputs": [],
   "source": [
    "x = 34\n",
    "y = 6 \n",
    "#init code here\n",
    "x,y = y,x\n",
    "#end core\n",
    "print('x=',x)\n",
    "print('y=',y)"
   ]
  },
  {
   "cell_type": "code",
   "execution_count": null,
   "metadata": {},
   "outputs": [],
   "source": [
    "def cercaMaggiore(lista,n): #cerca nella lista l un intero maggiore di n\n",
    "    for i in range(len(lista)):        \n",
    "        if lista[i]>n:\n",
    "            return i,lista[i]  #se lo trova restituisce l'indice e il valore\n",
    "    return  None,None   #se NON lo trova restituisce None,None\n",
    "\n",
    "l=[7,2,11,27]\n",
    "result=cercaMaggiore(l,8)\n",
    "print(result)\n",
    "print('indice del maggiore:',result[0],'\\nvalore del maggiore:',result[1])"
   ]
  },
  {
   "cell_type": "markdown",
   "metadata": {},
   "source": [
    "### Dizionari "
   ]
  },
  {
   "cell_type": "code",
   "execution_count": null,
   "metadata": {},
   "outputs": [],
   "source": [
    "dizionario = dict()"
   ]
  },
  {
   "cell_type": "code",
   "execution_count": null,
   "metadata": {},
   "outputs": [],
   "source": [
    "dizionario = {}"
   ]
  },
  {
   "cell_type": "markdown",
   "metadata": {},
   "source": [
    "dizionario = {chiave: valore}, la chiave può essere un qualsisi oggetto **immutabile**, come tuple, stringe, interi etc.."
   ]
  },
  {
   "cell_type": "code",
   "execution_count": null,
   "metadata": {},
   "outputs": [],
   "source": [
    "#se uso come chiave una lista... \n",
    "dizionario = {[1,2]:3}"
   ]
  },
  {
   "cell_type": "code",
   "execution_count": null,
   "metadata": {},
   "outputs": [],
   "source": [
    "Voti={'Antonio':27, 'Erica':30, 'Luca':20, 'Caterina':18 }"
   ]
  },
  {
   "cell_type": "code",
   "execution_count": null,
   "metadata": {},
   "outputs": [],
   "source": [
    "#leggere un valore\n",
    "Voti['Antonio']"
   ]
  },
  {
   "cell_type": "code",
   "execution_count": null,
   "metadata": {},
   "outputs": [],
   "source": [
    "#aggiungere un elemento\n",
    "Voti['Ludovica'] = 30"
   ]
  },
  {
   "cell_type": "code",
   "execution_count": null,
   "metadata": {},
   "outputs": [],
   "source": [
    "print(Voti)"
   ]
  },
  {
   "cell_type": "code",
   "execution_count": null,
   "metadata": {},
   "outputs": [],
   "source": [
    "#cambiare un valore\n",
    "Voti['Antonio']=Voti['Antonio']-1\n",
    "Voti['Ludovica'] = 29 "
   ]
  },
  {
   "cell_type": "code",
   "execution_count": null,
   "metadata": {},
   "outputs": [],
   "source": [
    "#cancellare un elemento\n",
    "del Voti['Luca']"
   ]
  },
  {
   "cell_type": "code",
   "execution_count": null,
   "metadata": {},
   "outputs": [],
   "source": [
    "Voti"
   ]
  },
  {
   "cell_type": "markdown",
   "metadata": {},
   "source": [
    "**non è una struttura ordinata.... quindi ... **"
   ]
  },
  {
   "cell_type": "code",
   "execution_count": null,
   "metadata": {},
   "outputs": [],
   "source": [
    "Voti[0]='p'"
   ]
  },
  {
   "cell_type": "code",
   "execution_count": null,
   "metadata": {},
   "outputs": [],
   "source": [
    "Voti"
   ]
  },
  {
   "cell_type": "markdown",
   "metadata": {},
   "source": [
    "### Dizionari: i metodi "
   ]
  },
  {
   "cell_type": "code",
   "execution_count": null,
   "metadata": {},
   "outputs": [],
   "source": [
    "#Numero di coppie chiave:valore\n",
    "len(Voti)"
   ]
  },
  {
   "cell_type": "code",
   "execution_count": null,
   "metadata": {},
   "outputs": [],
   "source": [
    "list(Voti.keys())"
   ]
  },
  {
   "cell_type": "code",
   "execution_count": null,
   "metadata": {},
   "outputs": [],
   "source": [
    "list(Voti.values()) #lista valori"
   ]
  },
  {
   "cell_type": "code",
   "execution_count": null,
   "metadata": {},
   "outputs": [],
   "source": [
    "list(Voti.items())"
   ]
  },
  {
   "cell_type": "code",
   "execution_count": null,
   "metadata": {},
   "outputs": [],
   "source": [
    "'Ludovica' in Voti.keys() "
   ]
  },
  {
   "cell_type": "code",
   "execution_count": null,
   "metadata": {},
   "outputs": [],
   "source": [
    "#non è ordinato, e non rispetta l'ordine di inserimento!! \n",
    "for i in Voti:\n",
    "    print(i) "
   ]
  },
  {
   "cell_type": "code",
   "execution_count": null,
   "metadata": {},
   "outputs": [],
   "source": [
    "Voti"
   ]
  },
  {
   "cell_type": "code",
   "execution_count": null,
   "metadata": {},
   "outputs": [],
   "source": [
    "# Esercizio: Creare due tuple che rappresentino i due elenchi di nomi e cognomi descritti sotto:\n",
    "#nomi: Numa, Tullo, Anco\n",
    "#cognomi: Pompilio, Ostilio, Marzio\n",
    "#Ottenere una lista in cui ogni elemento è un dizionario {'nome': nome, 'cognome': cognome}, \n",
    "# che accoppia nomi e cognomi in base all'ordine.\n",
    "nomi = ('Numa','Tullo','Anco')\n",
    "cognomi = ('Pompilio','Ostilio','Marzio')\n",
    "l = []\n",
    "for nome, cognome in zip(nomi,cognomi):\n",
    "    l.append({'nome': nome, 'cognome': cognome})\n",
    "    "
   ]
  },
  {
   "cell_type": "markdown",
   "metadata": {},
   "source": [
    "### Set\n",
    "collezione non ordinata di oggetti unici e immutabili"
   ]
  },
  {
   "cell_type": "code",
   "execution_count": null,
   "metadata": {},
   "outputs": [],
   "source": [
    "#definizione\n",
    "a={'s','5'} #a=set('s','5')\n",
    "type(a)"
   ]
  },
  {
   "cell_type": "code",
   "execution_count": null,
   "metadata": {},
   "outputs": [],
   "source": [
    "a.add('pippo')\n",
    "print(a)"
   ]
  },
  {
   "cell_type": "code",
   "execution_count": null,
   "metadata": {},
   "outputs": [],
   "source": [
    "a.remove('pippo')\n",
    "print(a)"
   ]
  },
  {
   "cell_type": "code",
   "execution_count": null,
   "metadata": {},
   "outputs": [],
   "source": [
    "a = set('aaaaaaaaa')\n",
    "b = set('abracadabra')\n",
    "type(a)\n",
    "print('a=', a)\n",
    "print('b=', b)"
   ]
  },
  {
   "cell_type": "code",
   "execution_count": null,
   "metadata": {},
   "outputs": [],
   "source": [
    "# differenza\n",
    "print ('a - b ', a - b)\n",
    "print ('b - a ', b - a)"
   ]
  },
  {
   "cell_type": "code",
   "execution_count": null,
   "metadata": {},
   "outputs": [],
   "source": [
    "#unione, or logico. \n",
    "print ('a | b ', a | b)"
   ]
  },
  {
   "cell_type": "code",
   "execution_count": null,
   "metadata": {},
   "outputs": [],
   "source": [
    "#intersezione, and logico. \n",
    "print ('a & b ', a & b)"
   ]
  },
  {
   "cell_type": "code",
   "execution_count": null,
   "metadata": {},
   "outputs": [],
   "source": [
    "#simmetric difference\n",
    "print('a^b      ' , a^b)\n",
    "print('a-b | b-a',a-b | b-a )\n",
    "print('a|b - a&b',(a|b)-(a&b) ) #occhio alle parentesi il - ha la precedenza su | and &."
   ]
  },
  {
   "cell_type": "code",
   "execution_count": null,
   "metadata": {},
   "outputs": [],
   "source": [
    "'a' in a #come nei dizionari controllare se un oggetto è nel set è molto economico.\n",
    "        #Costa 1 ed usa gli hash "
   ]
  },
  {
   "cell_type": "code",
   "execution_count": null,
   "metadata": {},
   "outputs": [],
   "source": []
  },
  {
   "cell_type": "markdown",
   "metadata": {},
   "source": [
    "### List comprehensions"
   ]
  },
  {
   "cell_type": "code",
   "execution_count": null,
   "metadata": {},
   "outputs": [],
   "source": [
    "# {2*n+1 | n è un naturale} = .... \n",
    "# {(x,y,z) | x**2+y**2=z**2 and x e y e z numeri naturali} == .... "
   ]
  },
  {
   "cell_type": "code",
   "execution_count": null,
   "metadata": {},
   "outputs": [],
   "source": [
    "dispari1 = [2*n+1 for n in range(20) ] #dipari da zero a quaranta\n",
    "print(dispari1)"
   ]
  },
  {
   "cell_type": "code",
   "execution_count": null,
   "metadata": {},
   "outputs": [],
   "source": [
    "dispari2 = [n for n in range(40) if n%2==1]\n",
    "print(dispari2)"
   ]
  },
  {
   "cell_type": "code",
   "execution_count": null,
   "metadata": {},
   "outputs": [],
   "source": [
    "dadi = [(x,y) for x in range(1,7) for y in  range(1,7)]\n",
    "print(dadi)\n",
    "\n",
    "[n for n in range(40) if n%2==1]"
   ]
  },
  {
   "cell_type": "markdown",
   "metadata": {},
   "source": [
    "### Esercizio insieme(1)\n",
    "list comprension:\n",
    "* trovare tutti i numeri da 1 a 1000 divisibili per 13\n",
    "* trovare tutti i numeri da 1 a 1000 che hanno un 7 nella scrittura\n",
    "* trovare tutti  le terne pitagoriche in [1,50]x[1,50]x[1,100]\n",
    "* trovare tutti  i numeri primi tra 0 e 50"
   ]
  },
  {
   "cell_type": "code",
   "execution_count": null,
   "metadata": {},
   "outputs": [],
   "source": [
    "divPer13=[ n for n in range(1000) if n%13==0]\n",
    "sette = [ n for n in range(1000) if '7' in str(n)]\n",
    "terne = [(a,b,c) for a in range(1,50) for b in range(1,50) for c in range(100) if a*a+b*b==c*c]\n"
   ]
  },
  {
   "cell_type": "code",
   "execution_count": null,
   "metadata": {},
   "outputs": [],
   "source": [
    "noprimes = [j for i in range(2, 8) for j in range(i*2, 50, i)]\n",
    "primes = [x for x in range(2, 50) if x not in noprimes]\n",
    "print(primes)"
   ]
  },
  {
   "cell_type": "code",
   "execution_count": null,
   "metadata": {},
   "outputs": [],
   "source": [
    "nomi = ('Numa','Tullo','Anco')\n",
    "cognomi = ('Pompilio','Ostilio','Marzio')\n",
    "l = [{'nome': nome, 'cognome': cognome} for nome, cognome in zip(nomi, cognomi)]\n",
    "l"
   ]
  },
  {
   "cell_type": "markdown",
   "metadata": {},
   "source": [
    "### Lambda Expression"
   ]
  },
  {
   "cell_type": "code",
   "execution_count": null,
   "metadata": {},
   "outputs": [],
   "source": [
    "#funzioni anonime\n",
    "f = lambda x : x+1 ## f: x -> x+1\n",
    "g = lambda x:x**2 ## g: x -> x*x\n",
    "ma = lambda x,y:max(x,y) \n",
    "div = lambda x,y: y%x==0\n",
    "comp = lambda f,g:lambda x: f(g(x))  ##comp: (f:B ->C)x(g:A ->B) -> (f*g:A -> C)\n"
   ]
  },
  {
   "cell_type": "code",
   "execution_count": null,
   "metadata": {},
   "outputs": [],
   "source": [
    "#esercizio determinare la lambda expression che restituisce il massimo tra due valori. \n",
    "massimo = lambda x,y: x if x>y else y"
   ]
  },
  {
   "cell_type": "code",
   "execution_count": null,
   "metadata": {},
   "outputs": [],
   "source": [
    "massimo(2,3)"
   ]
  },
  {
   "cell_type": "markdown",
   "metadata": {},
   "source": [
    "### map , filter e reduce\n"
   ]
  },
  {
   "cell_type": "code",
   "execution_count": null,
   "metadata": {},
   "outputs": [],
   "source": [
    "#map (f, [1,2,3,4]) applica f a ogni elemento della lista e genera una nuova lista [f(1),f(2),f(3),f(4)]\n",
    "list(map(lambda x: x+1,[1,2,3,4]))"
   ]
  },
  {
   "cell_type": "code",
   "execution_count": null,
   "metadata": {},
   "outputs": [],
   "source": [
    "#filter(f,list) filtra gli elementi che soddisfano il predicato f.\n",
    "list(filter(lambda x: x>2,[1,2,3,4]))"
   ]
  },
  {
   "cell_type": "code",
   "execution_count": null,
   "metadata": {},
   "outputs": [],
   "source": [
    "#reduce si trova in un pacchetto specifico. \n",
    "from functools import reduce # con questa lista stiamo dicendo dal package functools prendi la funzione reduce\n",
    "product = reduce((lambda x, y: x * y), [1, 2, 3, 4])\n",
    "print(product)"
   ]
  },
  {
   "cell_type": "code",
   "execution_count": null,
   "metadata": {},
   "outputs": [],
   "source": [
    "# in alternativa potevamo scrivere così... \n",
    "import functools #importo tutto il pacchetto... ma se voglio poi richiamare reduce devo scrivere functools.reduce, come quando usuamo il randint dentro il package random!! \n",
    "product = functools.reduce((lambda x, y: x * y), [1, 2, 3, 4])\n",
    "print(product)"
   ]
  },
  {
   "cell_type": "markdown",
   "metadata": {},
   "source": [
    "###  Esercizio insieme "
   ]
  },
  {
   "cell_type": "code",
   "execution_count": null,
   "metadata": {},
   "outputs": [],
   "source": [
    "# utilizziamo reduce per determinare il massimo di un vettore\n",
    "import random\n",
    "from functools import reduce\n",
    "massimo = lambda x,y: x if x>y else y\n",
    "reduce(massimo, [1, 56, 3, 4])\n",
    "#code here "
   ]
  },
  {
   "cell_type": "code",
   "execution_count": null,
   "metadata": {},
   "outputs": [],
   "source": [
    "#Esercizio fibonacci con il ciclo for\n",
    "def fibonacci(n):\n",
    "    a = 0\n",
    "    b = 1\n",
    "    for i in range(0,n):\n",
    "        temp = a\n",
    "        a = b\n",
    "        b = temp + b\n",
    "    return b\n"
   ]
  },
  {
   "cell_type": "markdown",
   "metadata": {},
   "source": [
    "### la funzione ricorsiva fibonacci (che avevamo definito) ha un \"problema\"!! effettua troppe chiamate ricorsive..."
   ]
  },
  {
   "cell_type": "code",
   "execution_count": null,
   "metadata": {},
   "outputs": [],
   "source": [
    "# fibonacci old \n",
    "#f(0)=1\n",
    "#f(1)=1\n",
    "#f(n)=f(n-1)+f(n-2)\n",
    "def fibonacci(n):\n",
    "    if n<=1:\n",
    "        print('[+]fibonacci{}'.format(n))\n",
    "        return 1\n",
    "    \n",
    "    print('[-]fibonacci{}'.format(n))\n",
    "    return fibonacci(n-1)+fibonacci(n-2)\n",
    "\n",
    "fibonacci(5)"
   ]
  },
  {
   "cell_type": "markdown",
   "metadata": {},
   "source": [
    "<img src=\"fig/Lez6-1.png\" width=\"450\">"
   ]
  },
  {
   "cell_type": "markdown",
   "metadata": {},
   "source": [
    "<img src=\"fig/Lez6-2.png\" width=\"450\">"
   ]
  },
  {
   "cell_type": "markdown",
   "metadata": {},
   "source": [
    "<img src=\"fig/Lez6-3.png\" width=\"450\">"
   ]
  },
  {
   "cell_type": "markdown",
   "metadata": {},
   "source": [
    "<img src=\"fig/Lez6-4.png\" width=\"450\">"
   ]
  },
  {
   "cell_type": "code",
   "execution_count": null,
   "metadata": {},
   "outputs": [],
   "source": [
    "#fibonacci new: utilizziamo i dizionari\n",
    "memory={0:1,1:1}\n",
    "def superFibonacci(n):\n",
    "    if n in memory:\n",
    "        print('[+]fibonacci{}'.format(n))\n",
    "        return memory[n]\n",
    "    else:\n",
    "        print('[-]fibonacci{}'.format(n))\n",
    "        NuovoValore = superFibonacci(n-1) + superFibonacci(n-2)\n",
    "        memory[n] = NuovoValore\n",
    "        return NuovoValore "
   ]
  },
  {
   "cell_type": "code",
   "execution_count": null,
   "metadata": {},
   "outputs": [],
   "source": [
    "superFibonacci(5)"
   ]
  }
 ],
 "metadata": {
  "kernelspec": {
   "display_name": "Python 3",
   "language": "python",
   "name": "python3"
  },
  "language_info": {
   "codemirror_mode": {
    "name": "ipython",
    "version": 3
   },
   "file_extension": ".py",
   "mimetype": "text/x-python",
   "name": "python",
   "nbconvert_exporter": "python",
   "pygments_lexer": "ipython3",
   "version": "3.6.1"
  }
 },
 "nbformat": 4,
 "nbformat_minor": 2
}
