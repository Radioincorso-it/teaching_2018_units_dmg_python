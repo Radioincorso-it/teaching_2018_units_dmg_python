{
 "cells": [
  {
   "cell_type": "markdown",
   "metadata": {},
   "source": [
    "### Tipi di memorizzazione per stringa ed intero\n",
    "\n",
    "In C ed in Java variabile va sempre dichiarata con il tipo, eg int x = 5\n",
    "\n",
    "Variabile corrisponde ad un indirizzo di memoria a cui è associato un numero finito di bit (a parte per gli interi di python)\n"
   ]
  },
  {
   "cell_type": "code",
   "execution_count": null,
   "metadata": {},
   "outputs": [],
   "source": [
    "ord('1')   #  posizione (Unicode code point) perstringhe di un carattere"
   ]
  },
  {
   "cell_type": "code",
   "execution_count": null,
   "metadata": {},
   "outputs": [],
   "source": [
    "chr(112)  # carattere salvato in posizione 112"
   ]
  },
  {
   "cell_type": "code",
   "execution_count": null,
   "metadata": {},
   "outputs": [],
   "source": [
    "chr(ord('a'))"
   ]
  },
  {
   "cell_type": "markdown",
   "metadata": {},
   "source": [
    "### File Excel\n",
    "\n",
    "Salvateli come CSV, Comma Separated Valued"
   ]
  },
  {
   "cell_type": "code",
   "execution_count": null,
   "metadata": {},
   "outputs": [],
   "source": [
    "f = open(\"Esempi/dadi.csv\")\n",
    "for riga in f:\n",
    "    print(riga)"
   ]
  },
  {
   "cell_type": "code",
   "execution_count": null,
   "metadata": {},
   "outputs": [],
   "source": [
    "f = open(\"Esempi/dadi.csv\")\n",
    "listaCSV=[]\n",
    "for riga in f:\n",
    "    s = riga.split(';')\n",
    "    print(s)"
   ]
  },
  {
   "cell_type": "code",
   "execution_count": null,
   "metadata": {},
   "outputs": [],
   "source": [
    "f = open(\"Esempi/dadi.csv\")\n",
    "listaCSV=[]\n",
    "for riga in f:\n",
    "    s = riga.strip().split(';')\n",
    "    print(s)"
   ]
  },
  {
   "cell_type": "code",
   "execution_count": null,
   "metadata": {},
   "outputs": [],
   "source": [
    "f = open(\"Esempi/dadi.csv\")\n",
    "listaCSV=[]\n",
    "for riga in f:\n",
    "    s = riga.strip().split(';')\n",
    "    listaCSV.append(s)\n",
    "print(listaCSV)"
   ]
  },
  {
   "cell_type": "code",
   "execution_count": null,
   "metadata": {},
   "outputs": [],
   "source": [
    "def creaListaCSV(file):\n",
    "    f = open(file) \n",
    "    listaCSV=[]\n",
    "    for riga in f:\n",
    "        s = riga.strip().split(';')\n",
    "        listaCSV.append(s)\n",
    "    return(listaCSV)"
   ]
  },
  {
   "cell_type": "code",
   "execution_count": null,
   "metadata": {},
   "outputs": [],
   "source": [
    "print(creaListadaCSV(\"Esempi/dadi.csv\"))"
   ]
  },
  {
   "cell_type": "markdown",
   "metadata": {},
   "source": [
    "### Lettura e scrittura su file"
   ]
  },
  {
   "cell_type": "raw",
   "metadata": {},
   "source": [
    "open(file, mode='r', buffering=-1, encoding=None, errors=None, newline=None, closefd=True, opener=None)"
   ]
  },
  {
   "cell_type": "markdown",
   "metadata": {},
   "source": [
    "creare un file dal sito : https://it.lipsum.com/feed/html"
   ]
  },
  {
   "cell_type": "code",
   "execution_count": null,
   "metadata": {},
   "outputs": [],
   "source": [
    "file = open('esempi/lorem.txt','r')"
   ]
  },
  {
   "cell_type": "code",
   "execution_count": null,
   "metadata": {},
   "outputs": [],
   "source": [
    "file"
   ]
  },
  {
   "cell_type": "code",
   "execution_count": null,
   "metadata": {},
   "outputs": [],
   "source": [
    "#dopo aver lavorato con un file bisogna chiuderlo\n",
    "file.close()"
   ]
  },
  {
   "cell_type": "code",
   "execution_count": null,
   "metadata": {},
   "outputs": [],
   "source": [
    "file = open('files/lorem.txt')\n",
    "for line in file:\n",
    "    print(line.strip())\n",
    "file.close()"
   ]
  },
  {
   "cell_type": "code",
   "execution_count": null,
   "metadata": {},
   "outputs": [],
   "source": [
    "# per non dover ogni volta chiudere il file posso usare with:\n",
    "with open('files/lorem.txt') as file: \n",
    "    for line in file:\n",
    "        print(line.strip())\n",
    "file.closed #quando esco dallo \"blocco\" with il file viene chiuso automaticamente \n",
    "    "
   ]
  },
  {
   "cell_type": "code",
   "execution_count": null,
   "metadata": {},
   "outputs": [],
   "source": [
    "with open('files/lorem.txt') as file: \n",
    "    s=file.read()\n",
    "print(s)"
   ]
  },
  {
   "cell_type": "code",
   "execution_count": null,
   "metadata": {},
   "outputs": [],
   "source": [
    "type(s)"
   ]
  },
  {
   "cell_type": "code",
   "execution_count": null,
   "metadata": {},
   "outputs": [],
   "source": [
    "with open('files/lorem.txt') as file: \n",
    "    s=file.readlines()\n",
    "print(s)"
   ]
  },
  {
   "cell_type": "code",
   "execution_count": null,
   "metadata": {},
   "outputs": [],
   "source": [
    "type(s)"
   ]
  },
  {
   "cell_type": "markdown",
   "metadata": {},
   "source": [
    "### Esercizio insieme(2):\n",
    "creare un dizionario con chiavi le righe e valori il numero di parole nella riga del  'files/lorem.txt' ."
   ]
  },
  {
   "cell_type": "raw",
   "metadata": {},
   "source": [
    "with open('files/lorem.txt') as file: \n",
    "    s=file.readlines()\n",
    "{i:len(s[i].split()) for i in range(len(s))}"
   ]
  },
  {
   "cell_type": "raw",
   "metadata": {},
   "source": [
    "creare un dizionario con chiavi le righe e valori la lunghezza della parola più lunga in quella riga del  'files/lorem.txt' ."
   ]
  },
  {
   "cell_type": "code",
   "execution_count": null,
   "metadata": {},
   "outputs": [],
   "source": [
    "with open('files/lorem.txt') as file: \n",
    "    s=file.readlines()\n",
    "{i:max([len(x) for x in s[i].split()+['']]) for i in range(len(s))}"
   ]
  }
 ],
 "metadata": {
  "kernelspec": {
   "display_name": "Python 3",
   "language": "python",
   "name": "python3"
  },
  "language_info": {
   "codemirror_mode": {
    "name": "ipython",
    "version": 3
   },
   "file_extension": ".py",
   "mimetype": "text/x-python",
   "name": "python",
   "nbconvert_exporter": "python",
   "pygments_lexer": "ipython3",
   "version": "3.6.1"
  }
 },
 "nbformat": 4,
 "nbformat_minor": 2
}
