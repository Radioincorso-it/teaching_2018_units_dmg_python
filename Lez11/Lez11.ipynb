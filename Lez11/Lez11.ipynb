{
 "cells": [
  {
   "cell_type": "markdown",
   "metadata": {},
   "source": [
    "# Lez 11"
   ]
  },
  {
   "cell_type": "markdown",
   "metadata": {},
   "source": [
    "## Info importanti\n",
    " - la lezione di recupero è il 10 giugno alle 9:00. Solito metodo primo e secondo gruppo\n",
    " - Il compito sarà l'11 giugno alle 15:00. \n",
    " - Gli studenti saranno divisi in due gruppi a seconda dell'ordine di prenotazione"
   ]
  },
  {
   "cell_type": "markdown",
   "metadata": {},
   "source": [
    "## Recap Lez 9 (teoria)\n",
    "* scrivere un file\n",
    "* tuple, dizionari e set\n",
    "* list, dict e set comprenhension"
   ]
  },
  {
   "cell_type": "markdown",
   "metadata": {},
   "source": [
    "**list comprehensions**"
   ]
  },
  {
   "cell_type": "code",
   "execution_count": null,
   "metadata": {},
   "outputs": [],
   "source": [
    "# lista numeri da 1 a 5\n",
    "[n for n in range(1,6)]"
   ]
  },
  {
   "cell_type": "code",
   "execution_count": null,
   "metadata": {},
   "outputs": [],
   "source": [
    "# combinare elementi di due liste se non sono uguali\n",
    "lista1 =  [1,2,3]\n",
    "lista2 = [3,1,4]\n",
    "[(x,y) for x in lista1 for y in  lista2 if x!=y]"
   ]
  },
  {
   "cell_type": "code",
   "execution_count": null,
   "metadata": {},
   "outputs": [],
   "source": []
  },
  {
   "cell_type": "code",
   "execution_count": null,
   "metadata": {},
   "outputs": [],
   "source": [
    "matrice = [\n",
    "...     [1, 2, 3, 4],\n",
    "...    [5, 6, 7, 8],\n",
    "...     [9, 10, 11, 12],\n",
    "... ]\n",
    "matrice     "
   ]
  },
  {
   "cell_type": "code",
   "execution_count": null,
   "metadata": {},
   "outputs": [],
   "source": [
    "# costruire una matrice\n",
    "matrice = [[ n+4*i for n in range(1,5)]for i in range(3)]\n",
    "matrice"
   ]
  },
  {
   "cell_type": "code",
   "execution_count": null,
   "metadata": {},
   "outputs": [],
   "source": [
    "#  Calcolare la matrice trasposta\n",
    "numColonne = len(matrice[0])\n",
    "[[ riga[i_colonna] for riga in matrice] for i_colonna in range(numColonne)]"
   ]
  },
  {
   "cell_type": "markdown",
   "metadata": {},
   "source": [
    "### Lambda Expression"
   ]
  },
  {
   "cell_type": "code",
   "execution_count": null,
   "metadata": {},
   "outputs": [],
   "source": [
    "#funzioni anonime\n",
    "## f: x -> x+1\n",
    "f = lambda x : x+1 "
   ]
  },
  {
   "cell_type": "code",
   "execution_count": null,
   "metadata": {},
   "outputs": [],
   "source": [
    "f(2)"
   ]
  },
  {
   "cell_type": "code",
   "execution_count": null,
   "metadata": {},
   "outputs": [],
   "source": [
    "quadrato = lambda x:x*x             ## g: x -> x*x"
   ]
  },
  {
   "cell_type": "code",
   "execution_count": null,
   "metadata": {},
   "outputs": [],
   "source": [
    "quadrato(3)"
   ]
  },
  {
   "cell_type": "code",
   "execution_count": null,
   "metadata": {},
   "outputs": [],
   "source": [
    "somma = lambda x,y: x+y"
   ]
  },
  {
   "cell_type": "code",
   "execution_count": null,
   "metadata": {},
   "outputs": [],
   "source": [
    "somma(2,3)"
   ]
  },
  {
   "cell_type": "code",
   "execution_count": null,
   "metadata": {},
   "outputs": [],
   "source": [
    "##comp: (f:A ->B)x(g:B ->C) -> (g*f:A -> C)\n",
    "comp = lambda g,f:lambda x: g(f(x)) "
   ]
  },
  {
   "cell_type": "code",
   "execution_count": null,
   "metadata": {},
   "outputs": [],
   "source": [
    "comp(quadrato, f)(2)"
   ]
  },
  {
   "cell_type": "code",
   "execution_count": null,
   "metadata": {},
   "outputs": [],
   "source": [
    "#esercizio determinare la lambda expression \n",
    "# che restituisce il massimo tra due valori. \n",
    "massimo = lambda x,y: x if x>y else y"
   ]
  },
  {
   "cell_type": "code",
   "execution_count": null,
   "metadata": {},
   "outputs": [],
   "source": [
    "massimo(2,3)"
   ]
  },
  {
   "cell_type": "code",
   "execution_count": null,
   "metadata": {},
   "outputs": [],
   "source": [
    "# scrivere con lambda la funzione dell'area del triangolo\n",
    "area = lambda h,b : b*h/2  "
   ]
  },
  {
   "cell_type": "code",
   "execution_count": null,
   "metadata": {},
   "outputs": [],
   "source": [
    "area(3,2)"
   ]
  },
  {
   "cell_type": "markdown",
   "metadata": {},
   "source": [
    "### map , filter e reduce\n"
   ]
  },
  {
   "cell_type": "markdown",
   "metadata": {},
   "source": [
    "**map**(funzione, lista)"
   ]
  },
  {
   "cell_type": "code",
   "execution_count": null,
   "metadata": {},
   "outputs": [],
   "source": [
    "def f(x):\n",
    "    return x+1\n",
    "\n",
    "lista =[1,2,3,4]\n",
    "\n",
    "list(map(f,lista)) \n",
    "#applica f a ogni elemento della lista \n",
    "# e genera una nuova lista [f(1),f(2),f(3),f(4)]"
   ]
  },
  {
   "cell_type": "code",
   "execution_count": null,
   "metadata": {},
   "outputs": [],
   "source": [
    "list( map( lambda x: x+1, [1,2,3,4] ) )"
   ]
  },
  {
   "cell_type": "code",
   "execution_count": null,
   "metadata": {},
   "outputs": [],
   "source": [
    "# fare la mappa della funzione doppio x*2 dei primi 10 numeri interi.\n",
    "list(map(lambda x: x*2, range(1,11)))"
   ]
  },
  {
   "cell_type": "markdown",
   "metadata": {},
   "source": [
    "**filter**(funzione booleana, lista)"
   ]
  },
  {
   "cell_type": "code",
   "execution_count": null,
   "metadata": {},
   "outputs": [],
   "source": [
    "f_bool = lambda x: x>2\n",
    "\n",
    "lista =[1,2,3,4]\n",
    "\n",
    "list(filter(f_bool,lista))  \n",
    "#filter(f_bool,list) filtra gli elementi che soddisfano il predicato f_bool."
   ]
  },
  {
   "cell_type": "code",
   "execution_count": null,
   "metadata": {},
   "outputs": [],
   "source": [
    "# fare la lista dei numeri pari dei primi 10 numeri interi.\n",
    "list(filter(lambda x: x%2==0,range(1,11)))"
   ]
  },
  {
   "cell_type": "markdown",
   "metadata": {},
   "source": [
    "**reduce**(funzione, lista)"
   ]
  },
  {
   "cell_type": "code",
   "execution_count": null,
   "metadata": {},
   "outputs": [],
   "source": [
    "# ritorna un solo valore, chiamando ricorsivamente coppie di elementi"
   ]
  },
  {
   "cell_type": "code",
   "execution_count": null,
   "metadata": {},
   "outputs": [],
   "source": [
    "#reduce si trova in un pacchetto specifico.\n",
    "from functools import reduce  \n",
    "# dal package functools prendi la funzione reduce\n",
    "massimo = lambda x,y: max(x,y)\n",
    "lista =  [2,35,6,9]\n",
    "reduce( massimo , lista )   #trova il massimo di una lista\n",
    "# massimo(2,35), massimo(35, 6), massimo(35,9) -------> 35"
   ]
  },
  {
   "cell_type": "code",
   "execution_count": null,
   "metadata": {},
   "outputs": [],
   "source": [
    "# fare la sommma dei primi 5 numeri interi \n",
    "reduce(lambda x,y: x+y, range(1,6))\n",
    "# somma(1,2), somma(3,3), somma(6,4), somma(10,5) ----->15"
   ]
  },
  {
   "cell_type": "code",
   "execution_count": null,
   "metadata": {},
   "outputs": [],
   "source": [
    "product = reduce((lambda x, y: x * y), [1, 2, 3, 4])\n",
    "print(product)"
   ]
  },
  {
   "cell_type": "code",
   "execution_count": null,
   "metadata": {},
   "outputs": [],
   "source": [
    "# in alternativa potevamo scrivere così... \n",
    "import functools \n",
    "#se scrivo così poi per richiamare reduce \n",
    "# devo scrivere functools.reduce \n",
    "product = functools.reduce((lambda x, y: x * y), [1, 2, 3, 4])\n",
    "print(product)"
   ]
  },
  {
   "cell_type": "markdown",
   "metadata": {},
   "source": [
    "### Whos"
   ]
  },
  {
   "cell_type": "code",
   "execution_count": null,
   "metadata": {
    "scrolled": true
   },
   "outputs": [],
   "source": [
    "whos"
   ]
  },
  {
   "cell_type": "markdown",
   "metadata": {},
   "source": [
    "### Parole Riservate"
   ]
  },
  {
   "cell_type": "code",
   "execution_count": null,
   "metadata": {},
   "outputs": [],
   "source": [
    "import keyword\n",
    "print(keyword.kwlist)"
   ]
  },
  {
   "cell_type": "code",
   "execution_count": null,
   "metadata": {},
   "outputs": [],
   "source": [
    "return = 1"
   ]
  },
  {
   "cell_type": "markdown",
   "metadata": {},
   "source": [
    "### Lettura e scrittura su file"
   ]
  },
  {
   "cell_type": "raw",
   "metadata": {},
   "source": [
    "open(file, mode='r', buffering=-1, encoding=None, errors=None, newline=None, closefd=True, opener=None)"
   ]
  },
  {
   "cell_type": "code",
   "execution_count": null,
   "metadata": {},
   "outputs": [],
   "source": [
    "file = open('esempi/lorem.txt','r')"
   ]
  },
  {
   "cell_type": "code",
   "execution_count": null,
   "metadata": {},
   "outputs": [],
   "source": [
    "file"
   ]
  },
  {
   "cell_type": "code",
   "execution_count": null,
   "metadata": {},
   "outputs": [],
   "source": [
    "#dopo aver lavorato con un file bisogna chiuderlo\n",
    "file.close()"
   ]
  },
  {
   "cell_type": "code",
   "execution_count": null,
   "metadata": {},
   "outputs": [],
   "source": [
    "file = open('esempi/lorem.txt')\n",
    "i=0\n",
    "for riga in file:\n",
    "    print(i)\n",
    "    print(riga.strip())\n",
    "    i = i+1\n",
    "file.close()"
   ]
  },
  {
   "cell_type": "code",
   "execution_count": null,
   "metadata": {},
   "outputs": [],
   "source": [
    "riga.strip()"
   ]
  },
  {
   "cell_type": "code",
   "execution_count": null,
   "metadata": {},
   "outputs": [],
   "source": [
    "# per non dover ogni volta chiudere il file posso usare with:\n",
    "with open('esempi/lorem.txt') as file: \n",
    "    for riga in file:\n",
    "        print(riga.strip())\n",
    "file.closed #quando esco dallo \"blocco\" with il file viene chiuso automaticamente "
   ]
  },
  {
   "cell_type": "code",
   "execution_count": null,
   "metadata": {},
   "outputs": [],
   "source": [
    "with open('esempi/lorem.txt') as file: \n",
    "    s=file.read()\n",
    "print(s)"
   ]
  },
  {
   "cell_type": "code",
   "execution_count": null,
   "metadata": {},
   "outputs": [],
   "source": [
    "type(file), type(s)"
   ]
  },
  {
   "cell_type": "code",
   "execution_count": null,
   "metadata": {},
   "outputs": [],
   "source": [
    "with open('esempi/lorem.txt') as file: \n",
    "    listaRighe=file.readlines()\n",
    "print(listaRighe)"
   ]
  },
  {
   "cell_type": "code",
   "execution_count": null,
   "metadata": {},
   "outputs": [],
   "source": [
    "type(file), type(listaRighe)"
   ]
  },
  {
   "cell_type": "markdown",
   "metadata": {},
   "source": [
    "### Esercizio insieme:\n",
    "creare un dizionario con chiavi le righe e valori il numero di parole nella riga del  'files/lorem.txt' ."
   ]
  },
  {
   "cell_type": "code",
   "execution_count": null,
   "metadata": {},
   "outputs": [],
   "source": [
    "with open('esempi/lorem.txt') as file: \n",
    "    listaRighe=file.readlines()"
   ]
  },
  {
   "cell_type": "code",
   "execution_count": null,
   "metadata": {},
   "outputs": [],
   "source": [
    "listaRighe"
   ]
  },
  {
   "cell_type": "code",
   "execution_count": null,
   "metadata": {},
   "outputs": [],
   "source": [
    "x = listaRighe[2]\n",
    "x"
   ]
  },
  {
   "cell_type": "code",
   "execution_count": null,
   "metadata": {},
   "outputs": [],
   "source": [
    "x.split()"
   ]
  },
  {
   "cell_type": "code",
   "execution_count": null,
   "metadata": {},
   "outputs": [],
   "source": []
  },
  {
   "cell_type": "code",
   "execution_count": null,
   "metadata": {},
   "outputs": [],
   "source": [
    "numRighe = len(listaRighe)\n",
    "\n",
    "{i:len(listaRighe[i].split()) for i in range(numRighe)}\n",
    "\n",
    "#  S.split(sep=None, maxsplit=-1) -> list of strings"
   ]
  },
  {
   "cell_type": "raw",
   "metadata": {},
   "source": [
    "creare un dizionario con chiavi le righe e valori la lunghezza della parola più lunga in quella riga del  'esempi/lorem.txt' ."
   ]
  },
  {
   "cell_type": "code",
   "execution_count": null,
   "metadata": {},
   "outputs": [],
   "source": [
    "with open('esempi/lorem.txt',encoding='utf-8') as file: \n",
    "    listaRighe=file.readlines()\n",
    "{i:max([len(x) for x in listaRighe[i].split()+['']]) for i in range(len(s))}"
   ]
  },
  {
   "cell_type": "markdown",
   "metadata": {},
   "source": [
    "###  Copiare un file"
   ]
  },
  {
   "cell_type": "code",
   "execution_count": null,
   "metadata": {},
   "outputs": [],
   "source": [
    "f_out=open(\"copiaProvaTesto.txt\",\"w\", encoding='utf-8')       \n",
    "#apre un nuovo file, se c'è un altro con stesso nome lo distrugge\n",
    "with open(\"esempi/provaTesto.txt\",\"r\", encoding='utf-8') as f_in: \n",
    "    for riga in f_in:\n",
    "        print(riga, end=\"\", file=f_out)          \n",
    "### !!!! senza end=\"\" aggiungete una riga vuota ogni riga letta!!!!\n",
    "f_out.close()"
   ]
  },
  {
   "cell_type": "code",
   "execution_count": null,
   "metadata": {},
   "outputs": [],
   "source": [
    "# alternativa usando f_out.write()\n",
    "f_out=open(\"copiaProvaTesto2.txt\",\"w\",encoding='utf-8')\n",
    "with open(\"esempi/provaTesto.txt\",\"r\",encoding='utf-8') as f_in: \n",
    "    f_out.write(f_in.read())\n",
    "f_out.close()"
   ]
  },
  {
   "cell_type": "code",
   "execution_count": null,
   "metadata": {},
   "outputs": [],
   "source": [
    "def filtra(f_in,f_out,parola):\n",
    "    f_out=open(f_out,\"w\",encoding='utf-8') \n",
    "    with open(f_in, \"r\",encoding='utf-8') as f_in: \n",
    "        for riga in f_in:\n",
    "            if parola in riga:\n",
    "                print(riga, end=\"\", file=f_out) \n",
    "    f_out.close() "
   ]
  },
  {
   "cell_type": "code",
   "execution_count": null,
   "metadata": {},
   "outputs": [],
   "source": [
    "filtra(\"esempi/provaTesto.txt\",\"filtroProva.txt\",'file')"
   ]
  },
  {
   "cell_type": "markdown",
   "metadata": {},
   "source": [
    "### File Excel\n",
    "\n",
    "Salvateli come CSV, Comma Separated Valued.\n",
    "\n",
    "Esempio: Prendiamo un file con un numero di partite tra Tizio e Cazio e scopriamo chi ne ha vinte di più"
   ]
  },
  {
   "cell_type": "code",
   "execution_count": null,
   "metadata": {},
   "outputs": [],
   "source": [
    "f = open(\"esempi/dadi.csv\",encoding='utf-8')\n",
    "for riga in f:\n",
    "    print(riga)\n",
    "f.close"
   ]
  },
  {
   "cell_type": "code",
   "execution_count": null,
   "metadata": {},
   "outputs": [],
   "source": [
    "f = open(\"Esempi/dadi.csv\")\n",
    "for riga in f:\n",
    "    s = riga.split(';')\n",
    "    print(s)\n",
    "f.close"
   ]
  },
  {
   "cell_type": "code",
   "execution_count": null,
   "metadata": {},
   "outputs": [],
   "source": [
    "f = open(\"Esempi/dadi.csv\")\n",
    "for riga in f:\n",
    "    s = riga.strip().split(';')\n",
    "    print(s)\n",
    "f.close"
   ]
  },
  {
   "cell_type": "code",
   "execution_count": null,
   "metadata": {},
   "outputs": [],
   "source": [
    "f = open(\"Esempi/dadi.csv\")\n",
    "listaCSV=[]\n",
    "for riga in f:\n",
    "    s = riga.strip().split(';')\n",
    "    listaCSV.append(s)\n",
    "print(listaCSV)\n",
    "f.close"
   ]
  },
  {
   "cell_type": "code",
   "execution_count": null,
   "metadata": {},
   "outputs": [],
   "source": [
    "def creaListaCSV(file):\n",
    "    with open(file) as csvfile: \n",
    "        listaCSV=[]\n",
    "        for riga in csvfile:\n",
    "            s = riga.strip().split(';')\n",
    "            listaCSV.append(s)\n",
    "    return(listaCSV)"
   ]
  },
  {
   "cell_type": "code",
   "execution_count": null,
   "metadata": {},
   "outputs": [],
   "source": [
    "print(creaListaCSV(\"esempi/dadi.csv\"))"
   ]
  },
  {
   "cell_type": "code",
   "execution_count": null,
   "metadata": {},
   "outputs": [],
   "source": [
    "def creaListaCSVCompatta(file):\n",
    "    with open(file) as csvfile: \n",
    "        listaCSV = [riga.strip().split(';') for riga in csvfile]\n",
    "    return(listaCSV)"
   ]
  },
  {
   "cell_type": "code",
   "execution_count": null,
   "metadata": {
    "scrolled": true
   },
   "outputs": [],
   "source": [
    "print(creaListaCSVCompatta(\"esempi/dadi.csv\"))"
   ]
  },
  {
   "cell_type": "code",
   "execution_count": null,
   "metadata": {},
   "outputs": [],
   "source": [
    "from libreria import creaLista"
   ]
  },
  {
   "cell_type": "code",
   "execution_count": null,
   "metadata": {},
   "outputs": [],
   "source": [
    "fileDadi = creaLista(\"esempi/dadi.csv\")\n",
    "nomi = fileDadi [0]\n",
    "partite = fileDadi[1:]"
   ]
  },
  {
   "cell_type": "code",
   "execution_count": null,
   "metadata": {
    "scrolled": true
   },
   "outputs": [],
   "source": [
    "# trasformo stringhe in int\n",
    "n_partite = len(partite)\n",
    "n_giocatori = len(partite[0])\n",
    "for i in range(n_partite):  \n",
    "    for j in range(n_giocatori):\n",
    "        partite[i][j]=int(partite[i][j]) "
   ]
  },
  {
   "cell_type": "code",
   "execution_count": null,
   "metadata": {},
   "outputs": [],
   "source": [
    "vincite = [0 for i in  range(n_giocatori)]   # inizializzo a zero il vettore delle vincite\n",
    "patte = 0                                    # inizializzo a zero il numero di patte"
   ]
  },
  {
   "cell_type": "code",
   "execution_count": null,
   "metadata": {
    "scrolled": true
   },
   "outputs": [],
   "source": [
    "for partita in partite:\n",
    "    if min(partita)!= max(partita):                     \n",
    "        # controllo che almeno un punteggio sia diverso \n",
    "        for j in range(n_giocatori):\n",
    "            if partita[j] == max(partita):\n",
    "                vincite[j]+=1                           \n",
    "        # incremento di 1 il numero di vincite del giocatore j-esimo\n",
    "    else:\n",
    "        patte +=1\n",
    "print('Vincite:',vincite)\n",
    "print('Patte:',patte)"
   ]
  },
  {
   "cell_type": "code",
   "execution_count": null,
   "metadata": {},
   "outputs": [],
   "source": [
    "vincitori=[]\n",
    "for j in range(n_giocatori):\n",
    "    if vincite[j]==max(vincite):\n",
    "        vincitori.append(nomi[j])\n",
    "vincitori"
   ]
  },
  {
   "cell_type": "code",
   "execution_count": null,
   "metadata": {},
   "outputs": [],
   "source": [
    "vincitori = [nomi[j] for j in range(n_giocatori) if vincite[j]==max(vincite)]\n",
    "vincitori"
   ]
  },
  {
   "cell_type": "code",
   "execution_count": null,
   "metadata": {},
   "outputs": [],
   "source": [
    "def calcoloVincitori(file):\n",
    "    from libreria import creaLista\n",
    "    fileDadi = creaLista(file)\n",
    "    nomi = fileDadi [0]\n",
    "    partite = fileDadi[1:]\n",
    "    print(nomi)\n",
    "    \n",
    "    n_partite = len(partite)\n",
    "    n_giocatori = len(partite[0])\n",
    "    for i in range(n_partite):  \n",
    "        for j in range(n_giocatori):\n",
    "            partite[i][j]=int(partite[i][j]) \n",
    "        \n",
    "    vincite = [0 for i in  range(n_giocatori)]             \n",
    "    patte = 0 \n",
    "    for partita in partite:\n",
    "        if min(partita)== max(partita):  \n",
    "            patte +=1\n",
    "        else:\n",
    "            for j in range(n_giocatori):\n",
    "                if partita[j] == max(partita):\n",
    "                    vincite[j]+=1                                \n",
    "    print(vincite)\n",
    "    vincitori = [nomi[j] for j in range(n_giocatori) if vincite[j]==max(vincite)]\n",
    "        \n",
    "    return vincitori"
   ]
  },
  {
   "cell_type": "code",
   "execution_count": null,
   "metadata": {},
   "outputs": [],
   "source": [
    "calcoloVincitori(\"esempi/dadi.csv\")"
   ]
  },
  {
   "cell_type": "markdown",
   "metadata": {},
   "source": [
    "## Attenzione alla ricorsione"
   ]
  },
  {
   "cell_type": "code",
   "execution_count": null,
   "metadata": {},
   "outputs": [],
   "source": [
    "#Esercizio fibonacci con il ciclo for\n",
    "def fibonacci(n):\n",
    "    a = 0\n",
    "    b = 1\n",
    "    for i in range(0,n):\n",
    "        temp = a\n",
    "        a = b\n",
    "        b = temp + b\n",
    "    return b\n"
   ]
  },
  {
   "cell_type": "markdown",
   "metadata": {},
   "source": [
    "### la funzione ricorsiva fibonacci (che avevamo definito) ha un \"problema\"!! effettua troppe chiamate ricorsive..."
   ]
  },
  {
   "cell_type": "markdown",
   "metadata": {},
   "source": [
    "<img src=\"fig/Lez6-1.png\" width=\"450\">"
   ]
  },
  {
   "cell_type": "code",
   "execution_count": null,
   "metadata": {},
   "outputs": [],
   "source": [
    "# fibonacci old \n",
    "#f(0)=1\n",
    "#f(1)=1\n",
    "#f(n)=f(n-1)+f(n-2)\n",
    "def fibonacci(n):\n",
    "    if n<=1:\n",
    "        print('[+]fibonacci{}'.format(n))\n",
    "        return 1\n",
    "    \n",
    "    print('[-]fibonacci{}'.format(n))\n",
    "    return fibonacci(n-1)+fibonacci(n-2)\n",
    "\n",
    "fibonacci(5)"
   ]
  },
  {
   "cell_type": "code",
   "execution_count": null,
   "metadata": {},
   "outputs": [],
   "source": [
    "#fibonacci new: utilizziamo i dizionari\n",
    "memory={0:1,1:1}\n",
    "def superFibonacci(n):\n",
    "    if n in memory:\n",
    "        print('[+]fibonacci{}'.format(n))\n",
    "        return memory[n]\n",
    "    else:\n",
    "        print('[-]fibonacci{}'.format(n))\n",
    "        NuovoValore = superFibonacci(n-1) + superFibonacci(n-2)\n",
    "        memory[n] = NuovoValore\n",
    "        return NuovoValore "
   ]
  },
  {
   "cell_type": "markdown",
   "metadata": {},
   "source": [
    "<img src=\"fig/Lez6-1.png\" width=\"450\">"
   ]
  },
  {
   "cell_type": "code",
   "execution_count": null,
   "metadata": {},
   "outputs": [],
   "source": [
    "superFibonacci(5)"
   ]
  },
  {
   "cell_type": "markdown",
   "metadata": {},
   "source": [
    "<img src=\"fig/Lez6-2.png\" width=\"450\">"
   ]
  },
  {
   "cell_type": "code",
   "execution_count": null,
   "metadata": {},
   "outputs": [],
   "source": [
    "#fibonacci new: utilizziamo i dizionari\n",
    "memory={0:1,1:1}\n",
    "def superFibonacci(n):\n",
    "    if n in memory:\n",
    "        print('[+]fibonacci{}'.format(n))\n",
    "        return memory[n]\n",
    "    else:\n",
    "        print('[-]fibonacci{}'.format(n))\n",
    "        NuovoValore = superFibonacci(n-1) + superFibonacci(n-2)\n",
    "        memory[n] = NuovoValore\n",
    "        return NuovoValore "
   ]
  },
  {
   "cell_type": "markdown",
   "metadata": {},
   "source": [
    "<img src=\"fig/Lez6-3.png\" width=\"450\">"
   ]
  },
  {
   "cell_type": "markdown",
   "metadata": {},
   "source": [
    "<img src=\"fig/Lez6-4.png\" width=\"450\">"
   ]
  },
  {
   "cell_type": "code",
   "execution_count": null,
   "metadata": {},
   "outputs": [],
   "source": []
  }
 ],
 "metadata": {
  "kernelspec": {
   "display_name": "Python 3",
   "language": "python",
   "name": "python3"
  },
  "language_info": {
   "codemirror_mode": {
    "name": "ipython",
    "version": 3
   },
   "file_extension": ".py",
   "mimetype": "text/x-python",
   "name": "python",
   "nbconvert_exporter": "python",
   "pygments_lexer": "ipython3",
   "version": "3.6.8"
  }
 },
 "nbformat": 4,
 "nbformat_minor": 2
}