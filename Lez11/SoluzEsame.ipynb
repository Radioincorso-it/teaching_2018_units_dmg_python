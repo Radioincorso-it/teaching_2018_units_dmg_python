{
 "cells": [
  {
   "cell_type": "markdown",
   "metadata": {},
   "source": [
    "1) Definire una funzione che prende in input un intero N (maggiore o uguale a zero) e genera una lista contenente N numeri\n",
    "interi randomici tra 0 e 9.\n",
    "Esempio:  generaArray(3) -> [0,1,7]\n"
   ]
  },
  {
   "cell_type": "code",
   "execution_count": null,
   "metadata": {},
   "outputs": [],
   "source": [
    "def generaArray(N):\n",
    "    import random\n",
    "    if (N < 0) or (type(N)!= int):\n",
    "        print(\"input un intero N (maggiore o uguale a zero)\")\n",
    "    return [random.randint(0,9) for i in range(N)]"
   ]
  },
  {
   "cell_type": "code",
   "execution_count": null,
   "metadata": {},
   "outputs": [],
   "source": [
    "generaArray(3)"
   ]
  },
  {
   "cell_type": "markdown",
   "metadata": {},
   "source": [
    "2)Definire una funzione che prende in input un dizionario del seguente tipo:\n",
    "studente = {'nome': [nome], 'cognome': [cognome] , 'esame': [esame], 'voto': [voto]}\n",
    "e stampa  a schermo:\n",
    " \t\"lo studente [cognome] [nome] ha superato l'esame di [esame]\"\n",
    "se il voto è maggiore o uguale a 18. In caso contrario stampa:\n",
    "\t\"lo studente [cognome] [nome] ha superato l'esame di [esame]\"\n"
   ]
  },
  {
   "cell_type": "code",
   "execution_count": null,
   "metadata": {},
   "outputs": [],
   "source": [
    "def stampaRisultEsame(diz):\n",
    "    if  diz['voto'] >= 18:\n",
    "        print(\"lo studente {} {} ha superato l'esame di {}\".format(diz['cognome'], diz['nome'],diz['esame']))\n",
    "    else:\n",
    "        print(\"lo studente {} {} non ha superato l'esame di {}\".format(diz['cognome'], diz['nome'],diz['esame']))"
   ]
  },
  {
   "cell_type": "code",
   "execution_count": null,
   "metadata": {},
   "outputs": [],
   "source": [
    "studente = {'nome': 'Simone', 'cognome': 'Silvetti' , 'esame': 'Programmazione', 'voto': 17} "
   ]
  },
  {
   "cell_type": "code",
   "execution_count": null,
   "metadata": {},
   "outputs": [],
   "source": [
    "stampaRisultEsame(studente)"
   ]
  },
  {
   "cell_type": "markdown",
   "metadata": {},
   "source": [
    "3)Usare la list cohmprension per definire una lista contenente le tuple (a,b,c) tali che a*a+b=c, con a b e c che assumono valori interi\n",
    "tra 2 e 45 (incluso) \n",
    "Esempio: [(2,2,6),(3,2,11) ]\n"
   ]
  },
  {
   "cell_type": "code",
   "execution_count": null,
   "metadata": {},
   "outputs": [],
   "source": [
    "[(a,b,c) for a in range(2,46) for b in range(2,46) for c in range(2,46) if a*a+b==c]"
   ]
  },
  {
   "cell_type": "markdown",
   "metadata": {},
   "source": [
    "4) Definire una funzione ricorsiva che calcoli la somma dei primi N numeri interi.\n"
   ]
  },
  {
   "cell_type": "code",
   "execution_count": 3,
   "metadata": {},
   "outputs": [],
   "source": [
    "def somma(N):\n",
    "    if N==1:\n",
    "        return 1\n",
    "    else:\n",
    "        return N + somma(N-1)"
   ]
  },
  {
   "cell_type": "code",
   "execution_count": null,
   "metadata": {},
   "outputs": [],
   "source": [
    "somma(5)"
   ]
  },
  {
   "cell_type": "markdown",
   "metadata": {},
   "source": [
    "5) Definire una funzione che prenda in input una parola e controlli se esistono due lettere uguali equidistanti dagli\n",
    " estremi della parola stessa. Se questo è il caso la funzione ritorna true altrimenti false.\n",
    "Esempi: \n",
    "'arare' -->  true (perchè aRaRe le R maiuscole sono entrambi a distanza 1 dal bordo della parola.)\n",
    "'Pallone' -->  false. \n",
    "'acaraci' --> true (grazie alla  c)"
   ]
  },
  {
   "cell_type": "code",
   "execution_count": null,
   "metadata": {},
   "outputs": [],
   "source": [
    "def controlloP(parola):\n",
    "    for i in range(len(parola)//2):\n",
    "        if parola[i]==parola[-1-i]:\n",
    "            return True\n",
    "    return False"
   ]
  },
  {
   "cell_type": "markdown",
   "metadata": {},
   "source": [
    "6)  Definire una funzione che prende in input il file di testo [testo.txt] e definisce un dizionario con chiavi  le\n",
    "lettere dell'alfabeto e come valore la parola presente nel testo che inizia con quella lettera ed ha lunghezza maggiore di tutte le altre parole che iniziano con quella lettera. Se due hanno la stssa lunghezza si tiene la prima.\n",
    "Se non esiste nessuna parola che inizia  con specifica lettera dell'alfabeto quella lettera non deve essere presente\n",
    "come chiave del dizionario. \n",
    "Attenzione: dovete eliminare la punteggiatura (virgole e punti) e ridurre tutte le lettere maisucole. "
   ]
  },
  {
   "cell_type": "code",
   "execution_count": 1,
   "metadata": {},
   "outputs": [],
   "source": [
    "def defDiz(testo):\n",
    "    with open(testo) as file: \n",
    "        s = file.read()   # stringa\n",
    "        s = s.replace(\",\", \"\")\n",
    "        s = s.replace(\".\", \"\")\n",
    "        s = s.lower()\n",
    "        listaParole = s.strip().split()\n",
    "        diz = {}\n",
    "        for lettera in {'a','b','c','d','e','f','g','h','i','j','k','l','m','n','o','p','q','r','s','t','u','v','w','x','z'}:\n",
    "            for parola in listaParole:\n",
    "                if lettera == parola[0]:\n",
    "                    if lettera in diz:\n",
    "                        if len(parola) < len(diz[lettera]):\n",
    "                            diz[lettera]=parola\n",
    "                    else:\n",
    "                        diz[lettera]=parola\n",
    "        return diz"
   ]
  },
  {
   "cell_type": "code",
   "execution_count": 2,
   "metadata": {},
   "outputs": [
    {
     "data": {
      "text/plain": [
       "{'a': 'a',\n",
       " 'b': 'blandit',\n",
       " 'c': 'cras',\n",
       " 'd': 'duis',\n",
       " 'e': 'et',\n",
       " 'f': 'felis',\n",
       " 'g': 'gravida',\n",
       " 'h': 'hendrerit',\n",
       " 'i': 'id',\n",
       " 'j': 'justo',\n",
       " 'l': 'leo',\n",
       " 'm': 'mi',\n",
       " 'n': 'nec',\n",
       " 'o': 'odio',\n",
       " 'p': 'porta',\n",
       " 'q': 'quam',\n",
       " 'r': 'risus',\n",
       " 's': 'sit',\n",
       " 't': 'tortor',\n",
       " 'u': 'ut',\n",
       " 'v': 'vel'}"
      ]
     },
     "execution_count": 2,
     "metadata": {},
     "output_type": "execute_result"
    }
   ],
   "source": [
    "defDiz('testo.txt')"
   ]
  },
  {
   "cell_type": "code",
   "execution_count": null,
   "metadata": {},
   "outputs": [],
   "source": []
  }
 ],
 "metadata": {
  "kernelspec": {
   "display_name": "Python 3",
   "language": "python",
   "name": "python3"
  },
  "language_info": {
   "codemirror_mode": {
    "name": "ipython",
    "version": 3
   },
   "file_extension": ".py",
   "mimetype": "text/x-python",
   "name": "python",
   "nbconvert_exporter": "python",
   "pygments_lexer": "ipython3",
   "version": "3.6.8"
  }
 },
 "nbformat": 4,
 "nbformat_minor": 2
}