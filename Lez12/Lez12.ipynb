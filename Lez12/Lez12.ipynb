{
 "cells": [
  {
   "cell_type": "markdown",
   "metadata": {},
   "source": [
    "### Comunicazioni\n",
    "* lezione di recupero 10 giugno dalle 9:00 in questa aula.\n",
    "* appello 11 giugno alle 15:00 in questa aula (le registrazioni sono aperte fino al 7 giugno)\n"
   ]
  },
  {
   "cell_type": "code",
   "execution_count": null,
   "metadata": {},
   "outputs": [],
   "source": [
    "#Esercizio espressione polacca: \n",
    "# 1+2 :-> + 1 2\n",
    "# (1+2)*5 -> * + 1 2 5\n",
    "# (3*(5+2)-7)/2 :->  / - *3 + 5 2 7 2 \n",
    "\n",
    "def isAnOperator( x ):                                 \n",
    "    return (x=='+') or (x=='-') or (x=='*') or (x=='/')\n",
    "\n",
    "def compute( op , x , y ):\n",
    "    if (op=='+'):\n",
    "        return x+y \n",
    "    elif op=='-':\n",
    "        return x-y \n",
    "    elif op=='*':\n",
    "        return x*y \n",
    "    elif op=='/':\n",
    "        return x/y \n",
    "    else:\n",
    "        return 0\n",
    "\n",
    "def evalPolishExpression( expr ):\n",
    "    e=expr.split()\n",
    "    pila = []\n",
    "    for i in range(len(e)-1,-1,-1): ## riesco a togliere la dipendenza da i? \n",
    "        if isAnOperator( e[i] ):\n",
    "            pila.append( compute( e[i] , pila.pop() , pila.pop() ) )\n",
    "        else:\n",
    "            pila.append( int(e[i]) )\n",
    "    return(pila.pop())"
   ]
  },
  {
   "cell_type": "code",
   "execution_count": null,
   "metadata": {},
   "outputs": [],
   "source": [
    "evalPolishExpression( '- * / 15 - 7 + 1 1 3 + 2 + 1 1' )"
   ]
  },
  {
   "cell_type": "code",
   "execution_count": null,
   "metadata": {},
   "outputs": [],
   "source": [
    "#Esercizio Lez 10 n3 (casa) [difficile]\n",
    "#definire una funzione che prende in input un numero intero e restituisce la scomposizione in fattori primi. \n",
    "#esempio: scomposizione(20) -> 2**2*5\n",
    "#scomposizione fattori primi\n",
    "def aggiungiInDizionario(dizionario,elemento):\n",
    "    if elemento in dizionario:\n",
    "        dizionario[elemento] = dizionario[elemento]+1;\n",
    "    else:\n",
    "        dizionario[elemento]=1\n",
    "\n",
    "def dividi(n,d):\n",
    "    if(n==1):\n",
    "        return\n",
    "    for i in range(2,n+1):\n",
    "        if(n%i==0):\n",
    "            aggiungiInDizionario(d,i)\n",
    "            return dividi(n//i,d)\n",
    "\n",
    "\n",
    "def stampaScomposizione(scomposizione):\n",
    "    s=''\n",
    "    for c in scomposizione:\n",
    "        if (scomposizione[c])==1:\n",
    "            s+=str(c)+'*'\n",
    "        else:\n",
    "            s+='{}^{}*'.format(c,scomposizione[c])\n",
    "    return s[:-1]\n",
    "\n",
    "def esercizio_Lez10_3(n):\n",
    "    d = dict()\n",
    "    dividi(n,d)\n",
    "    return stampaScomposizione(d)\n",
    "esercizio_Lez10_3(2*3*17*17*17*5)\n",
    "\n"
   ]
  },
  {
   "cell_type": "code",
   "execution_count": null,
   "metadata": {},
   "outputs": [],
   "source": [
    "#Esercizio1: definire una funzione che prende in input un insieme di numeri interi e ritorna \n",
    "#una insieme di tutte le combinazioni di due elementi (insieme di tuple) \n",
    "#{1,2,3} -> {(1,2),(1,3),(2,3)}\n",
    "\n",
    "def esercizio1(insieme):\n",
    "    return {(x,y) for x in insieme for y in insieme if(x<y)}\n",
    "    "
   ]
  },
  {
   "cell_type": "code",
   "execution_count": null,
   "metadata": {},
   "outputs": [],
   "source": [
    "#esempio di funzione ricorsiva\n",
    "def fattoriale(n):\n",
    "    if(n==0):\n",
    "        return 1\n",
    "    return n*fattoriale(n-1)\n",
    "\n",
    "fattoriale"
   ]
  },
  {
   "cell_type": "code",
   "execution_count": null,
   "metadata": {},
   "outputs": [],
   "source": [
    "#Esercizio1_bis [difficile]\n",
    "#provate a farlo in modo ricorsivo\n",
    " \n",
    "def ricorsione(lista,l):\n",
    "    if(len(lista)==2):\n",
    "        l.append(tuple(lista))\n",
    "        return\n",
    "    primo = lista[0]\n",
    "    for elemento in lista[1:]:\n",
    "        l.append((primo,elemento))\n",
    "    return ricorsione(lista[1:],l)\n",
    "\n",
    "def esercizio1(lista):\n",
    "    store = []\n",
    "    ricorsione(lista,store) \n",
    "    return store\n",
    "\n",
    "print(esercizio1([1,2,3]))\n"
   ]
  },
  {
   "cell_type": "code",
   "execution_count": null,
   "metadata": {},
   "outputs": [],
   "source": [
    "#Esercizio 2\n",
    "#Usare la list comprhension per definire una lista contenente \n",
    "#le tuple (a,b,c) delle terne pitagoriche di tutti i triangoli con permitero inferiore a 100\n",
    "\n",
    "l = [(a,b,c) for a in range(1,101) for b in range(1,100) for c in range(1,101) if a+b+c<100 and a**2+b**2==c**2]\n",
    "print(l)"
   ]
  },
  {
   "cell_type": "code",
   "execution_count": null,
   "metadata": {},
   "outputs": [],
   "source": [
    "#Ripasso lambda expression\n",
    "f = lambda x,y : 3*x+y\n",
    "f(2,5)\n",
    "modulo = lambda x : x if x>0 else -x\n",
    "modulo(2)\n",
    "minimo = lambda x,y : x if x<y else y\n",
    "minimo(2,3)"
   ]
  },
  {
   "cell_type": "code",
   "execution_count": null,
   "metadata": {},
   "outputs": [],
   "source": [
    "#Esercizio 3\n",
    "# definire la lambda expression della funzione modulo\n",
    "modulo = lambda x : x if x>0 else -x"
   ]
  },
  {
   "cell_type": "code",
   "execution_count": null,
   "metadata": {},
   "outputs": [],
   "source": [
    "#Esercizio 4\n",
    "#definire una funzione che prende in input \n",
    "#- una funzione del tipo f(x), con x in R\n",
    "#- una tupla (a, b) a<b\n",
    "#- uno intero n\n",
    "#e ritorna in valore dell'integrale tra a e b calcolato con uno step di integrazione pari a (b-a)/n.\n",
    "\n",
    "def integrale(f,bound,n):\n",
    "    step = (bound[1]-bound[0])/n \n",
    "    integrale = 0\n",
    "    for i in range(n):\n",
    "        integrale+=f(bound[0]+step*i)*step\n",
    "    return integrale\n",
    "\n",
    "integrale(lambda x : x, (1,2))"
   ]
  }
 ],
 "metadata": {
  "kernelspec": {
   "display_name": "Python 3",
   "language": "python",
   "name": "python3"
  },
  "language_info": {
   "codemirror_mode": {
    "name": "ipython",
    "version": 3
   },
   "file_extension": ".py",
   "mimetype": "text/x-python",
   "name": "python",
   "nbconvert_exporter": "python",
   "pygments_lexer": "ipython3",
   "version": "3.6.2"
  }
 },
 "nbformat": 4,
 "nbformat_minor": 2
}
