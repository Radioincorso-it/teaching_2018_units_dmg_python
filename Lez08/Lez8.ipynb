{
 "cells": [
  {
   "cell_type": "markdown",
   "metadata": {},
   "source": [
    "### Riassunto Lez. 7\n",
    "* importare una file .py come libreria. \n",
    "* Liste: creazione, accedere agli elementi, slicing. \n",
    "* Liste: concetto di mutabilità e immutabilità\n",
    "* Liste: copy e deepCopy \n",
    "* Liste: append(), pop(), extend(), sort(), len()\n",
    "* File: lettura di un file"
   ]
  },
  {
   "cell_type": "markdown",
   "metadata": {},
   "source": [
    "#### Creazione"
   ]
  },
  {
   "cell_type": "code",
   "execution_count": null,
   "metadata": {},
   "outputs": [],
   "source": [
    "a= [1,2,'c']\n",
    "b= list()\n",
    "c= []\n",
    "d= list(range(3))\n",
    "print(a,b,c,d,sep=\"\\n\")"
   ]
  },
  {
   "cell_type": "markdown",
   "metadata": {},
   "source": [
    "#### Concatenazione"
   ]
  },
  {
   "cell_type": "code",
   "execution_count": null,
   "metadata": {},
   "outputs": [],
   "source": [
    "#concatenazione\n",
    "l = [1,2,3]\n",
    "print(l)\n",
    "l=l+[4]\n",
    "print(l)"
   ]
  },
  {
   "cell_type": "markdown",
   "metadata": {},
   "source": [
    "#### Verificare se una lista è vuota"
   ]
  },
  {
   "cell_type": "code",
   "execution_count": null,
   "metadata": {},
   "outputs": [],
   "source": [
    "a = []\n",
    "not a"
   ]
  },
  {
   "cell_type": "code",
   "execution_count": null,
   "metadata": {},
   "outputs": [],
   "source": [
    "a=[1]\n",
    "not a"
   ]
  },
  {
   "cell_type": "code",
   "execution_count": null,
   "metadata": {},
   "outputs": [],
   "source": [
    "# in alternativa verificare la lunghezza di una lista: \n",
    "print('[ ] ->',len([ ])==0)\n",
    "print('[1,2,3 ] ->',len([1,2,3])==0)"
   ]
  },
  {
   "cell_type": "markdown",
   "metadata": {},
   "source": [
    "#### pop(), append()"
   ]
  },
  {
   "cell_type": "code",
   "execution_count": null,
   "metadata": {},
   "outputs": [],
   "source": [
    "a = [1,2,3]\n",
    "print('a: ',a)\n",
    "print('a.pop(): ',a.pop())\n",
    "print('a: ',a)"
   ]
  },
  {
   "cell_type": "code",
   "execution_count": null,
   "metadata": {},
   "outputs": [],
   "source": [
    "a = [1,2,3]\n",
    "print('a: ',a)\n",
    "print('a.pop(0): ',a.pop(0))\n",
    "print('a: ',a)"
   ]
  },
  {
   "cell_type": "code",
   "execution_count": null,
   "metadata": {},
   "outputs": [],
   "source": [
    "a = [1,2,3]\n",
    "print('a: ',a)\n",
    "print('a.append(4): ',a.append(4))\n",
    "print('a: ',a)"
   ]
  },
  {
   "cell_type": "markdown",
   "metadata": {},
   "source": [
    "### mutabilità vs immuatabilità (Quiz)"
   ]
  },
  {
   "cell_type": "code",
   "execution_count": null,
   "metadata": {},
   "outputs": [],
   "source": [
    "a = 1 \n",
    "b = a \n",
    "b = a+b \n",
    "#quanto vale a? \n"
   ]
  },
  {
   "cell_type": "code",
   "execution_count": null,
   "metadata": {},
   "outputs": [],
   "source": [
    "a = [1] \n",
    "b = a \n",
    "b[0] = 3 \n",
    "#quanto vale a? "
   ]
  },
  {
   "cell_type": "code",
   "execution_count": null,
   "metadata": {},
   "outputs": [],
   "source": [
    "l1=['a',7,'ciao']\n",
    "l2=l1\n",
    "l2[1]=123\n",
    "#come è fatto l1?"
   ]
  },
  {
   "cell_type": "markdown",
   "metadata": {},
   "source": [
    "<img src=\"fig/assegnazione.png\" width=\"600\">"
   ]
  },
  {
   "cell_type": "code",
   "execution_count": null,
   "metadata": {},
   "outputs": [],
   "source": [
    "#Esercizio 1 \n",
    "#definire una funzione che prenda una lista di numeri interi e ritorni una lista di due elementi\n",
    "#contente il massimo e il minimo. \n",
    "#esempio: \n",
    "#min_max([1,4,2,6,3,7,2]) -> [1,7]\n",
    "#min_max([1])->[1,1]\n",
    "#min_max([])->[None,None]\n",
    "\n",
    "def minimo_massimo(lista):\n",
    "    if(len(lista)==0):\n",
    "        return [None,None]\n",
    "    minimo = massimo = lista[0]\n",
    "    for l in lista: \n",
    "        if l>massimo:\n",
    "            massimo=l\n",
    "        elif l<minimo:\n",
    "            minimo = l\n",
    "    return [minimo,massimo]"
   ]
  },
  {
   "cell_type": "code",
   "execution_count": null,
   "metadata": {},
   "outputs": [],
   "source": [
    "#Esercizio 2 (parte 1)\n",
    "#definire una funzione che prenda in input un lista e un intero e ritorna True se almeno un elemento divide n, \n",
    "#False altrimenti.   \n",
    "def divide(lista,n):\n",
    "    for i in lista:\n",
    "        if(n%i==0):\n",
    "            return True\n",
    "    return False\n",
    "\n",
    "#Esercizio 2 (parte 2)\n",
    "#definire una funzione che prenda in input un numero intero positivo e ritorni la lista dei numeri primi più piccoli \n",
    "def primi(n):\n",
    "    p = []\n",
    "    for i in range(2,n):\n",
    "        if(not divide(p,i)):\n",
    "            p.append(i)\n",
    "    return [1]+p     "
   ]
  },
  {
   "cell_type": "markdown",
   "metadata": {},
   "source": [
    "### ESERCIZI PER CASA"
   ]
  },
  {
   "cell_type": "code",
   "execution_count": null,
   "metadata": {},
   "outputs": [],
   "source": [
    "#Esercizio 3 \n",
    "#definire una funzione che accetta come input un numero intero (n) tra 0 e 9 e genera una stringa di numeri\n",
    "#random che devono contenere n solo in ultima posizione. Se n non è in [0,9] la funzione deve ritornare 'fail'.\n",
    "#Esempio: \n",
    "#randomNumber(3) può generare 124573, oppure 14587413 ma non deve generare 13245783 (perchè c'è un 3\n",
    "#in posizione 2), e non deve generare 124574 (perchè non c'è il 3) etc. \n",
    "#randomNumber(57) ritorna 'fail' perchè 57 non è in [0,9]\n",
    "\n",
    "import random\n",
    "def randomNumber(n):\n",
    "   #scrivi qui\n"
   ]
  },
  {
   "cell_type": "markdown",
   "metadata": {},
   "source": [
    "#### Insertion Sort"
   ]
  },
  {
   "cell_type": "markdown",
   "metadata": {},
   "source": [
    "**input:** [29,  3, 71, 34, 8, 55, 91, 5, 27]\n",
    "\n",
    "1 -> [**3**, 29, 71, 34, 8, 55, 91, 5, 27]  \n",
    "2 -> [**3, 29**, 71, 34, 8, 55, 91, 5, 27]  \n",
    "3 -> [**3, 29, 34**, 71, 8, 55, 91, 5, 27]  \n",
    "4 -> [**3,  8, 29, 34, 71**, 55, 91, 5, 27]  \n",
    "5 -> [**3,  8, 29, 34, 55, 71**, 91, 5, 27]  \n",
    "6 -> [**3,  8, 29, 34, 55, 71, 91**, 5, 27]  \n",
    "7 -> [**3,  5, 8, 29, 34, 55, 71, 91**, 27]  \n",
    "8 -> [**3,  5, 8, 27, 29, 34, 55, 71, 91**]  \n",
    "\n",
    "**output:** [3, 5, 8, 27, 29, 34, 55, 71, 91] "
   ]
  },
  {
   "cell_type": "code",
   "execution_count": null,
   "metadata": {},
   "outputs": [],
   "source": [
    "#Esercizio 4 (insertion sort)\n",
    "#definire una funzione che prende in input una stringa e ritorna la stringa di elementi ordinati.\n",
    "\n",
    "def insertion_sort(lista):\n",
    "    #scrivi qui\n",
    "\n",
    "miaLista = [29,3,71,34,8,55,91,5,27]\n",
    "print(miaLista)\n",
    "insertion_sort(miaLista)\n",
    "print(miaLista)"
   ]
  },
  {
   "cell_type": "markdown",
   "metadata": {},
   "source": [
    "#### Esercizio Parentesi Tonde (lo correggiamo alla lezione del 16 Maggio)"
   ]
  },
  {
   "cell_type": "markdown",
   "metadata": {},
   "source": [
    "<img src=\"fig/esercizio.png\" width=\"600\">"
   ]
  },
  {
   "cell_type": "code",
   "execution_count": null,
   "metadata": {},
   "outputs": [],
   "source": [
    "#versione facile: contatore \n",
    "#versione difficile: liste\n",
    "def check_parentesi(parentesi):\n",
    "   #scrivi qui"
   ]
  },
  {
   "cell_type": "code",
   "execution_count": null,
   "metadata": {},
   "outputs": [],
   "source": [
    "#Esercizio 6\n",
    "#generalizzare l'esercizio delle parentesi tonde alle parentesi tonde, quadre e graffe. \n",
    "#Creare una funzione che riconosca per sempio  se \"()[}\" è ben formata.\n",
    "\n",
    "#versione facile: non cosiderate l'ordine di \"contenimento\", \n",
    "#ovvero considerate lecite queste stringe:\n",
    "# '([])', '({[(){}]})', preoccupatevi solo che le parentesi di un determinato tipo si chiudano\n",
    "#con lo stesso tipo. \n",
    "\n",
    "#versione difficile: tenete conto dell'ordine di \"contenimento\", quindi non posso avere\n",
    "#parentesi quadre racchiuse dentro parentesi tonde etc. Questo non è lecito: '([])', \n",
    "#questo è lecito:'[()]'\n",
    "\n",
    "def check_parentesi_generale(parentesi):\n",
    "   #scrivi qui"
   ]
  }
 ],
 "metadata": {
  "kernelspec": {
   "display_name": "Python 3",
   "language": "python",
   "name": "python3"
  },
  "language_info": {
   "codemirror_mode": {
    "name": "ipython",
    "version": 3
   },
   "file_extension": ".py",
   "mimetype": "text/x-python",
   "name": "python",
   "nbconvert_exporter": "python",
   "pygments_lexer": "ipython3",
   "version": "3.6.2"
  }
 },
 "nbformat": 4,
 "nbformat_minor": 2
}
